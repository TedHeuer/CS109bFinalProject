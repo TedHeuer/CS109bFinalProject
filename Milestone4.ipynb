{
 "cells": [
  {
   "cell_type": "markdown",
   "metadata": {},
   "source": [
    "# CS 109B Advanced Topics in Data Science, Final Project, Milestone 4"
   ]
  },
  {
   "cell_type": "markdown",
   "metadata": {},
   "source": [
    "## Group 9 - Steve Robbins, Chad Tsang, and Ted Heuer\n",
    "**Harvard University**<br>\n",
    "**Spring 2017**<br>\n",
    "**Due Date: ** Wednesday, April 12th, 2017 at 11:59pm"
   ]
  },
  {
   "cell_type": "markdown",
   "metadata": {},
   "source": [
    "### Milestone 4: Deep learning, due Wednesday, April 26, 2017\n",
    "\n",
    "For this milestone you will (finally) use deep learning to predict movie genres. You will train one small network from scratch on the posters only, and compare this one to a pre-trained network that you fine tune. [Here](https://keras.io/getting-started/faq/#how-can-i-use-pre-trained-models-in-keras) is a description of how to use pretrained models in Keras.\n",
    "\n",
    "You can try different architectures, initializations, parameter settings, optimization methods, etc. Be adventurous and explore deep learning! It can be fun to combine the features learned by the deep learning model with a SVM, or incorporate meta data into your deep learning model. \n",
    "\n",
    "**Note:** Be mindful of the longer training times for deep models. Not only for training time, but also for the parameter tuning efforts. You need time to develop a feel for the different parameters and which settings work, which normalization you want to use, which model architecture you choose, etc. \n",
    "\n",
    "It is great that we have GPUs via AWS to speed up the actual computation time, but you need to be mindful of your AWS credits. The GPU instances are not cheap and can accumulate costs rather quickly. Think about your model first and do some quick dry runs with a larger learning rate or large batch size on your local machine. \n",
    "\n",
    "The notebook to submit this week should at least include:\n",
    "\n",
    "- Complete description of the deep network you trained from scratch, including parameter settings, performance, features learned, etc. \n",
    "- Complete description of the pre-trained network that you fine tuned, including parameter settings, performance, features learned, etc. \n",
    "- Discussion of the results, how much improvement you gained with fine tuning, etc. \n",
    "- Discussion of at least one additional exploratory idea you pursued"
   ]
  },
  {
   "cell_type": "markdown",
   "metadata": {},
   "source": [
    "### Useful links - Delete or cite these.\n",
    "https://keras.io/callbacks/\n",
    "\n",
    "https://blog.keras.io/building-powerful-image-classification-models-using-very-little-data.html\n",
    "\n",
    "https://keras.io/getting-started/faq/#how-can-i-use-keras-with-datasets-that-dont-fit-in-memory\n",
    "\n",
    "https://elitedatascience.com/keras-tutorial-deep-learning-in-python#step-4\n",
    "\n",
    "http://machinelearningmastery.com/object-recognition-convolutional-neural-networks-keras-deep-learning-library/"
   ]
  },
  {
   "cell_type": "code",
   "execution_count": 1,
   "metadata": {
    "collapsed": false
   },
   "outputs": [],
   "source": [
    "#!pip install keras \n",
    "#!pip install tensorflow\n",
    "#!pip install tensorflow.python"
   ]
  },
  {
   "cell_type": "code",
   "execution_count": 2,
   "metadata": {
    "collapsed": false
   },
   "outputs": [],
   "source": [
    "from __future__ import print_function\n",
    "import matplotlib\n",
    "%matplotlib inline\n",
    "import matplotlib.pyplot as plt\n",
    "import seaborn as sns\n",
    "sns.set_style('white')\n",
    "import numpy as np\n",
    "import pandas as pd\n",
    "from scipy import misc"
   ]
  },
  {
   "cell_type": "code",
   "execution_count": 3,
   "metadata": {
    "collapsed": false
   },
   "outputs": [
    {
     "name": "stderr",
     "output_type": "stream",
     "text": [
      "Using TensorFlow backend.\n"
     ]
    }
   ],
   "source": [
    "import keras\n",
    "from keras.datasets import mnist\n",
    "from keras.models import Sequential\n",
    "from keras.layers import Dense, Activation, Conv2D, MaxPooling2D, Flatten, Dropout\n",
    "from keras.preprocessing.image import ImageDataGenerator, array_to_img, img_to_array, load_img\n",
    "from keras.optimizers import SGD\n",
    "from keras import backend as K"
   ]
  },
  {
   "cell_type": "markdown",
   "metadata": {},
   "source": [
    "### Settings"
   ]
  },
  {
   "cell_type": "code",
   "execution_count": null,
   "metadata": {
    "collapsed": true
   },
   "outputs": [],
   "source": []
  },
  {
   "cell_type": "markdown",
   "metadata": {},
   "source": [
    "### Load, split, and prepare the data."
   ]
  },
  {
   "cell_type": "code",
   "execution_count": 4,
   "metadata": {
    "collapsed": false
   },
   "outputs": [],
   "source": [
    "def load_poster_data(image_size, source_size = 'w92', verbose = False):\n",
    "    # Loads the poster image data at the requested size, the assigned genre, and the movie id.\n",
    "    #\n",
    "    y_labels = pd.read_csv('y_labels_multiclass.csv')\n",
    "    image_path = './posters/' + source_size + '/'\n",
    "    posters = pd.DataFrame()\n",
    "    for movie in y_labels.iterrows():\n",
    "        row = movie[0]\n",
    "        movie_id = movie[1]['movie_id']\n",
    "        genre_id = int(movie[1]['genre_id'].replace('[', '').replace(']',''))\n",
    "        try:\n",
    "            image = misc.imread(image_path + str(movie_id) + '.jpg')\n",
    "            image_resize = img_to_array(misc.imresize(image, image_size))\n",
    "            if (image_resize.shape[2]==3):\n",
    "                posters = posters.append({'movie_id' : movie_id, \n",
    "                                          'genre_id' : genre_id,\n",
    "                                          'poster' : image_resize}, ignore_index = True)\n",
    "        except IOError:\n",
    "            if (verbose == True):\n",
    "                print('Unable to load poster for movie #', movie_id)\n",
    "    print('Loaded ', posters.shape[0], ' posters.')\n",
    "    return posters"
   ]
  },
  {
   "cell_type": "code",
   "execution_count": 5,
   "metadata": {
    "collapsed": true
   },
   "outputs": [],
   "source": [
    "def stratified_sampler(dataset, observations):\n",
    "    # Performs a stratified sample on the dataset and returns the number of observations \n",
    "    # requested.\n",
    "    #\n",
    "    # Parameters:\n",
    "    #    dataset:  The dataframe to sample, observing class relationships.\n",
    "    #    observations:  The number of total target observations across all classes.\n",
    "    #\n",
    "    # Returns:\n",
    "    #    A pandas dataframe sampled from the dataset maintaining class relationships.\n",
    "    class_weights = dataset.groupby(\"genre_id\").agg(['count'])/len(dataset)\n",
    "    class_sample_counts = class_weights * observations\n",
    "    class_count = class_weights.shape[0]\n",
    "    sampled = pd.DataFrame()\n",
    "    for class_to_sample in class_sample_counts.iterrows():\n",
    "        class_name = class_to_sample[0]\n",
    "        desired_class_observations = class_to_sample[1][0]\n",
    "        sampled_obs = dataset[dataset[\"genre_id\"]==class_name].sample(int(desired_class_observations), replace=\"True\")\n",
    "        sampled = sampled.append(sampled_obs, ignore_index=True)\n",
    "    return sampled, class_count"
   ]
  },
  {
   "cell_type": "code",
   "execution_count": 6,
   "metadata": {
    "collapsed": false
   },
   "outputs": [],
   "source": [
    "def reshape_and_normalize(data):\n",
    "    image_count = data.shape[0]\n",
    "    temp = np.ndarray(shape=(image_count, data[0].shape[0], data[0].shape[1], 3))\n",
    "\n",
    "    for index in range(0, image_count):\n",
    "        try:\n",
    "            temp[index] = data[index].reshape(data[0].shape[0], data[0].shape[1], 3)\n",
    "        except ValueError:\n",
    "            print(data[index].shape)\n",
    "    temp = temp.astype('float32')\n",
    "    temp /= 255.0\n",
    "\n",
    "    return temp"
   ]
  },
  {
   "cell_type": "code",
   "execution_count": 7,
   "metadata": {
    "collapsed": true
   },
   "outputs": [],
   "source": [
    "def normalize_responses(data):\n",
    "    unique_responses = np.sort(data[\"genre_id\"].unique())\n",
    "    data[\"genre_id\"] = data[\"genre_id\"].replace(unique_responses, range(0,len(unique_responses)), inplace=False)\n",
    "    return data"
   ]
  },
  {
   "cell_type": "code",
   "execution_count": 8,
   "metadata": {
    "collapsed": false
   },
   "outputs": [],
   "source": [
    "def load_split_prepare_data(train_observations, test_observations, image_size, sample = 'stratified'):\n",
    "    # Loads, splits, and prepares the data for use by a CNN model.\n",
    "    #\n",
    "    # Parameters:\n",
    "    #    train_observations:  The dataframe to sample, observing class relationships.\n",
    "    #    test_observations:  The number of total target observations across all classes.\n",
    "    #    sample:  The sampling method, currently only supports 'stratified'\n",
    "    #\n",
    "    # Returns:\n",
    "    #    Nothing.\n",
    "    posters_data = load_poster_data(image_size)\n",
    "    posters = normalize_responses(posters_data)\n",
    "    \n",
    "    if (sample == 'stratified'):\n",
    "        train_sample, class_count_train = stratified_sampler(posters, train_observations)\n",
    "        test_sample, class_count_test = stratified_sampler(posters, test_observations)\n",
    "    else:\n",
    "        raise('Unsupported sample method : ', sample)\n",
    "         \n",
    "    x_train = train_sample[\"poster\"]\n",
    "    y_train = train_sample[\"genre_id\"]\n",
    "    x_test = test_sample[\"poster\"]\n",
    "    y_test = test_sample[\"genre_id\"]\n",
    "\n",
    "    img_rows = x_train[0].shape[0]\n",
    "    img_cols = x_train[0].shape[1]\n",
    "    print('Classes : ', class_count_train)\n",
    "        \n",
    "    x_train = reshape_and_normalize(x_train)\n",
    "    x_test = reshape_and_normalize(x_test)\n",
    "\n",
    "    print('x_train shape:', x_train.shape)\n",
    "    print(x_train.shape[0], 'train samples')\n",
    "    print(x_test.shape[0], 'test samples')\n",
    "    \n",
    "    # Convert response to one hot encoding\n",
    "    y_train = keras.utils.to_categorical(y_train, class_count_train)\n",
    "    y_test = keras.utils.to_categorical(y_test, class_count_test)\n",
    "\n",
    "    return (x_train, y_train), (x_test, y_test), class_count_train"
   ]
  },
  {
   "cell_type": "code",
   "execution_count": 9,
   "metadata": {
    "collapsed": false
   },
   "outputs": [
    {
     "name": "stdout",
     "output_type": "stream",
     "text": [
      "Loaded  3927  posters.\n",
      "Classes :  7\n",
      "x_train shape: (4996, 138, 92, 3)\n",
      "4996 train samples\n",
      "997 test samples\n"
     ]
    }
   ],
   "source": [
    "(x_train, y_train), (x_test, y_test), classes = load_split_prepare_data(train_observations = 5000, \n",
    "                                                                        test_observations = 1000, \n",
    "                                                                        image_size = (138,92), \n",
    "                                                                        sample='stratified')"
   ]
  },
  {
   "cell_type": "markdown",
   "metadata": {},
   "source": [
    "### Create the Convolutional Neural Net architecture, from scratch."
   ]
  },
  {
   "cell_type": "code",
   "execution_count": 10,
   "metadata": {
    "collapsed": true
   },
   "outputs": [],
   "source": [
    "classes = 7\n",
    "final_activation_function = 'softmax'\n",
    "\n",
    "input_activation_function = 'relu'\n",
    "input_kernel_size = (5,5)\n",
    "input_shape = (138, 92, 3)\n",
    "pool_size = (3,3)\n",
    "\n",
    "hidden_activation_function = 'relu'\n",
    "hidden_kernel_size = (3,3)\n",
    "\n",
    "loss_method = 'categorical_crossentropy'\n",
    "optimizer = SGD(lr=0.1, momentum=0.9)\n",
    "eval_metric = 'accuracy'\n",
    "\n",
    "# smaller batch size means noisier gradient, but more updates per epoch\n",
    "batch_size = 256\n",
    "# number of iterations over the complete training data\n",
    "epochs = 100"
   ]
  },
  {
   "cell_type": "code",
   "execution_count": 11,
   "metadata": {
    "collapsed": false
   },
   "outputs": [
    {
     "name": "stdout",
     "output_type": "stream",
     "text": [
      "_________________________________________________________________\n",
      "Layer (type)                 Output Shape              Param #   \n",
      "=================================================================\n",
      "conv2d_1 (Conv2D)            (None, 134, 88, 16)       1216      \n",
      "_________________________________________________________________\n",
      "max_pooling2d_1 (MaxPooling2 (None, 44, 29, 16)        0         \n",
      "_________________________________________________________________\n",
      "conv2d_2 (Conv2D)            (None, 42, 27, 32)        4640      \n",
      "_________________________________________________________________\n",
      "dropout_1 (Dropout)          (None, 42, 27, 32)        0         \n",
      "_________________________________________________________________\n",
      "max_pooling2d_2 (MaxPooling2 (None, 14, 9, 32)         0         \n",
      "_________________________________________________________________\n",
      "flatten_1 (Flatten)          (None, 4032)              0         \n",
      "_________________________________________________________________\n",
      "dense_1 (Dense)              (None, 64)                258112    \n",
      "_________________________________________________________________\n",
      "dropout_2 (Dropout)          (None, 64)                0         \n",
      "_________________________________________________________________\n",
      "dense_2 (Dense)              (None, 7)                 455       \n",
      "=================================================================\n",
      "Total params: 264,423\n",
      "Trainable params: 264,423\n",
      "Non-trainable params: 0\n",
      "_________________________________________________________________\n"
     ]
    }
   ],
   "source": [
    "# create an empty network model\n",
    "model = Sequential()\n",
    "\n",
    "# Input Layer\n",
    "model.add(Conv2D(16, kernel_size=input_kernel_size, activation=input_activation_function, input_shape=input_shape))\n",
    "model.add(MaxPooling2D(pool_size=pool_size))\n",
    "\n",
    "# Hidden Layer(s)\n",
    "model.add(Conv2D(32, kernel_size=hidden_kernel_size, activation=hidden_activation_function))\n",
    "model.add(Dropout(0.25))\n",
    "model.add(MaxPooling2D(pool_size=pool_size))\n",
    "\n",
    "# Adding another layer did not improve performance, perhaps because of the pooling on pooling.\n",
    "#model.add(Conv2D(48, kernel_size=hidden_kernel_size, activation=hidden_activation_function))\n",
    "#model.add(Dropout(0.25))\n",
    "#model.add(MaxPooling2D(pool_size=pool_size))\n",
    "\n",
    "# Classification layer\n",
    "model.add(Flatten())\n",
    "model.add(Dense(64, activation=hidden_activation_function))\n",
    "model.add(Dropout(0.5))\n",
    "model.add(Dense(classes, activation=final_activation_function))\n",
    "\n",
    "# Display the CNN.\n",
    "model.summary()\n",
    "\n",
    "# Compile the model.\n",
    "model.compile(loss=loss_method, optimizer=optimizer, metrics=[eval_metric])"
   ]
  },
  {
   "cell_type": "markdown",
   "metadata": {},
   "source": [
    "### Train the CNN."
   ]
  },
  {
   "cell_type": "code",
   "execution_count": 12,
   "metadata": {
    "collapsed": false,
    "scrolled": true
   },
   "outputs": [
    {
     "name": "stdout",
     "output_type": "stream",
     "text": [
      "Train on 4246 samples, validate on 750 samples\n",
      "Epoch 1/100\n",
      "4246/4246 [==============================] - 46s - loss: 1.6757 - acc: 0.2673 - val_loss: 4.3028 - val_acc: 0.0000e+00\n",
      "Epoch 2/100\n",
      "4246/4246 [==============================] - 54s - loss: 1.5105 - acc: 0.3667 - val_loss: 4.9602 - val_acc: 0.0000e+00\n",
      "Epoch 3/100\n",
      "4246/4246 [==============================] - 48s - loss: 1.4562 - acc: 0.4119 - val_loss: 4.4045 - val_acc: 0.0000e+00\n",
      "Epoch 4/100\n",
      "4246/4246 [==============================] - 47s - loss: 1.4631 - acc: 0.4131 - val_loss: 5.1297 - val_acc: 0.0000e+00\n",
      "Epoch 5/100\n",
      "4246/4246 [==============================] - 47s - loss: 1.4383 - acc: 0.4131 - val_loss: 6.4905 - val_acc: 0.0000e+00\n",
      "Epoch 6/100\n",
      "4246/4246 [==============================] - 47s - loss: 1.4573 - acc: 0.4114 - val_loss: 5.2273 - val_acc: 0.0000e+00\n",
      "Epoch 7/100\n",
      "4246/4246 [==============================] - 50s - loss: 1.4179 - acc: 0.4270 - val_loss: 5.7704 - val_acc: 0.0000e+00\n",
      "Epoch 8/100\n",
      "4246/4246 [==============================] - 55s - loss: 1.4026 - acc: 0.4345 - val_loss: 6.3438 - val_acc: 0.0000e+00\n",
      "Epoch 9/100\n",
      "4246/4246 [==============================] - 46s - loss: 1.3978 - acc: 0.4388 - val_loss: 5.9815 - val_acc: 0.0000e+00\n",
      "Epoch 10/100\n",
      "4246/4246 [==============================] - 54s - loss: 1.3350 - acc: 0.4659 - val_loss: 6.6594 - val_acc: 0.0000e+00\n",
      "Epoch 11/100\n",
      "4246/4246 [==============================] - 44s - loss: 1.3056 - acc: 0.4852 - val_loss: 6.9521 - val_acc: 0.0000e+00\n",
      "Epoch 12/100\n",
      "4246/4246 [==============================] - 44s - loss: 1.2937 - acc: 0.4903 - val_loss: 6.9775 - val_acc: 0.0000e+00\n",
      "Epoch 13/100\n",
      "4246/4246 [==============================] - 44s - loss: 1.2125 - acc: 0.5214 - val_loss: 7.3877 - val_acc: 0.0000e+00\n",
      "Epoch 14/100\n",
      "4246/4246 [==============================] - 44s - loss: 1.1558 - acc: 0.5462 - val_loss: 7.0124 - val_acc: 0.0000e+00\n",
      "Epoch 15/100\n",
      "4246/4246 [==============================] - 44s - loss: 1.1354 - acc: 0.5579 - val_loss: 7.4277 - val_acc: 0.0000e+00\n",
      "Epoch 16/100\n",
      "4246/4246 [==============================] - 45s - loss: 1.1339 - acc: 0.5624 - val_loss: 7.1523 - val_acc: 0.0000e+00\n",
      "Epoch 17/100\n",
      "4246/4246 [==============================] - 44s - loss: 1.0918 - acc: 0.5641 - val_loss: 6.9990 - val_acc: 0.0000e+00\n",
      "Epoch 18/100\n",
      "4246/4246 [==============================] - 44s - loss: 1.0865 - acc: 0.5714 - val_loss: 8.2570 - val_acc: 0.0000e+00\n",
      "Epoch 19/100\n",
      "4246/4246 [==============================] - 44s - loss: 1.0357 - acc: 0.5853 - val_loss: 7.2713 - val_acc: 0.0000e+00\n",
      "Epoch 20/100\n",
      "4246/4246 [==============================] - 44s - loss: 0.9594 - acc: 0.6227 - val_loss: 8.8157 - val_acc: 0.0000e+00\n",
      "Epoch 21/100\n",
      "4246/4246 [==============================] - 45s - loss: 0.9221 - acc: 0.6413 - val_loss: 9.1338 - val_acc: 0.0000e+00\n",
      "Epoch 22/100\n",
      "4246/4246 [==============================] - 44s - loss: 0.8713 - acc: 0.6686 - val_loss: 8.3293 - val_acc: 0.0013\n",
      "Epoch 23/100\n",
      "4246/4246 [==============================] - 46s - loss: 0.8745 - acc: 0.6597 - val_loss: 8.1003 - val_acc: 0.0013\n",
      "Epoch 24/100\n",
      "4246/4246 [==============================] - 59s - loss: 0.8266 - acc: 0.6825 - val_loss: 8.7974 - val_acc: 0.0000e+00\n",
      "Epoch 25/100\n",
      "4246/4246 [==============================] - 60s - loss: 0.7865 - acc: 0.7007 - val_loss: 9.9416 - val_acc: 0.0000e+00\n",
      "Epoch 26/100\n",
      "4246/4246 [==============================] - 47s - loss: 0.7819 - acc: 0.6955 - val_loss: 9.1421 - val_acc: 0.0013\n",
      "Epoch 27/100\n",
      "4246/4246 [==============================] - 45s - loss: 0.7545 - acc: 0.7063 - val_loss: 9.5400 - val_acc: 0.0013\n",
      "Epoch 28/100\n",
      "4246/4246 [==============================] - 45s - loss: 0.6890 - acc: 0.7386 - val_loss: 9.9352 - val_acc: 0.0013\n",
      "Epoch 29/100\n",
      "4246/4246 [==============================] - 44s - loss: 0.6740 - acc: 0.7416 - val_loss: 9.5078 - val_acc: 0.0013\n",
      "Epoch 30/100\n",
      "4246/4246 [==============================] - 45s - loss: 0.6945 - acc: 0.7313 - val_loss: 10.2365 - val_acc: 0.0013\n",
      "Epoch 31/100\n",
      "4246/4246 [==============================] - 45s - loss: 0.6614 - acc: 0.7456 - val_loss: 10.3629 - val_acc: 0.0013\n",
      "Epoch 32/100\n",
      "4246/4246 [==============================] - 45s - loss: 0.6368 - acc: 0.7555 - val_loss: 10.4359 - val_acc: 0.0013\n",
      "Epoch 33/100\n",
      "4246/4246 [==============================] - 45s - loss: 0.6021 - acc: 0.7697 - val_loss: 10.1788 - val_acc: 0.0013\n",
      "Epoch 34/100\n",
      "4246/4246 [==============================] - 48s - loss: 0.6146 - acc: 0.7624 - val_loss: 10.1700 - val_acc: 0.0027\n",
      "Epoch 35/100\n",
      "4246/4246 [==============================] - 45s - loss: 0.5633 - acc: 0.7781 - val_loss: 10.8770 - val_acc: 0.0027\n",
      "Epoch 36/100\n",
      "4246/4246 [==============================] - 45s - loss: 0.6373 - acc: 0.7591 - val_loss: 10.7587 - val_acc: 0.0027\n",
      "Epoch 37/100\n",
      "4246/4246 [==============================] - 45s - loss: 0.6125 - acc: 0.7633 - val_loss: 10.3362 - val_acc: 0.0027\n",
      "Epoch 38/100\n",
      "4246/4246 [==============================] - 45s - loss: 0.5395 - acc: 0.7897 - val_loss: 11.6691 - val_acc: 0.0027\n",
      "Epoch 39/100\n",
      "4246/4246 [==============================] - 44s - loss: 0.5325 - acc: 0.7977 - val_loss: 11.0001 - val_acc: 0.0027\n",
      "Epoch 40/100\n",
      "4246/4246 [==============================] - 44s - loss: 0.5255 - acc: 0.7960 - val_loss: 11.4931 - val_acc: 0.0027\n",
      "Epoch 41/100\n",
      "4246/4246 [==============================] - 45s - loss: 0.5135 - acc: 0.7984 - val_loss: 10.8765 - val_acc: 0.0027\n",
      "Epoch 42/100\n",
      "4246/4246 [==============================] - 45s - loss: 0.4996 - acc: 0.8064 - val_loss: 12.0326 - val_acc: 0.0027\n",
      "Epoch 43/100\n",
      "4246/4246 [==============================] - 44s - loss: 0.4942 - acc: 0.8146 - val_loss: 10.7194 - val_acc: 0.0027\n",
      "Epoch 44/100\n",
      "4246/4246 [==============================] - 44s - loss: 0.4992 - acc: 0.8055 - val_loss: 10.7122 - val_acc: 0.0027\n",
      "Epoch 45/100\n",
      "4246/4246 [==============================] - 45s - loss: 0.4613 - acc: 0.8245 - val_loss: 11.7362 - val_acc: 0.0027\n",
      "Epoch 46/100\n",
      "4246/4246 [==============================] - 44s - loss: 0.4479 - acc: 0.8217 - val_loss: 11.9361 - val_acc: 0.0027\n",
      "Epoch 47/100\n",
      "4246/4246 [==============================] - 44s - loss: 0.4399 - acc: 0.8274 - val_loss: 12.2649 - val_acc: 0.0027\n",
      "Epoch 48/100\n",
      "4246/4246 [==============================] - 44s - loss: 0.4455 - acc: 0.8318 - val_loss: 11.5312 - val_acc: 0.0027\n",
      "Epoch 49/100\n",
      "4246/4246 [==============================] - 44s - loss: 0.4420 - acc: 0.8297 - val_loss: 11.6912 - val_acc: 0.0027\n",
      "Epoch 50/100\n",
      "4246/4246 [==============================] - 44s - loss: 0.4675 - acc: 0.8165 - val_loss: 12.1090 - val_acc: 0.0027\n",
      "Epoch 51/100\n",
      "4246/4246 [==============================] - 44s - loss: 0.4253 - acc: 0.8363 - val_loss: 11.6884 - val_acc: 0.0027\n",
      "Epoch 52/100\n",
      "4246/4246 [==============================] - 44s - loss: 0.4272 - acc: 0.8302 - val_loss: 12.0646 - val_acc: 0.0027\n",
      "Epoch 53/100\n",
      "4246/4246 [==============================] - 44s - loss: 0.4189 - acc: 0.8370 - val_loss: 12.5649 - val_acc: 0.0027\n",
      "Epoch 54/100\n",
      "4246/4246 [==============================] - 44s - loss: 0.4187 - acc: 0.8389 - val_loss: 11.9353 - val_acc: 0.0027\n",
      "Epoch 55/100\n",
      "4246/4246 [==============================] - 44s - loss: 0.4801 - acc: 0.8179 - val_loss: 11.1571 - val_acc: 0.0027\n",
      "Epoch 56/100\n",
      "4246/4246 [==============================] - 58s - loss: 0.4113 - acc: 0.8328 - val_loss: 12.2831 - val_acc: 0.0027\n",
      "Epoch 57/100\n",
      "4246/4246 [==============================] - 59s - loss: 0.3872 - acc: 0.8533 - val_loss: 12.5366 - val_acc: 0.0027\n",
      "Epoch 58/100\n",
      "4246/4246 [==============================] - 60s - loss: 0.4042 - acc: 0.8453 - val_loss: 11.3829 - val_acc: 0.0027\n",
      "Epoch 59/100\n",
      "4246/4246 [==============================] - 60s - loss: 0.3815 - acc: 0.8502 - val_loss: 12.5355 - val_acc: 0.0027\n",
      "Epoch 60/100\n",
      "4246/4246 [==============================] - 60s - loss: 0.3654 - acc: 0.8646 - val_loss: 12.3291 - val_acc: 0.0027\n",
      "Epoch 61/100\n",
      "4246/4246 [==============================] - 46s - loss: 0.3815 - acc: 0.8542 - val_loss: 11.5790 - val_acc: 0.0027\n",
      "Epoch 62/100\n",
      "4246/4246 [==============================] - 46s - loss: 0.3838 - acc: 0.8535 - val_loss: 11.8806 - val_acc: 0.0027\n",
      "Epoch 63/100\n",
      "4246/4246 [==============================] - 45s - loss: 0.3814 - acc: 0.8476 - val_loss: 12.5288 - val_acc: 0.0027\n",
      "Epoch 64/100\n",
      "4246/4246 [==============================] - 45s - loss: 0.3678 - acc: 0.8512 - val_loss: 12.6691 - val_acc: 0.0013\n",
      "Epoch 65/100\n",
      "4246/4246 [==============================] - 45s - loss: 0.4273 - acc: 0.8391 - val_loss: 12.9951 - val_acc: 0.0027\n",
      "Epoch 66/100\n",
      "4246/4246 [==============================] - 51s - loss: 0.4166 - acc: 0.8391 - val_loss: 11.8185 - val_acc: 0.0027\n",
      "Epoch 67/100\n",
      "4246/4246 [==============================] - 53s - loss: 0.3602 - acc: 0.8618 - val_loss: 12.6532 - val_acc: 0.0027\n",
      "Epoch 68/100\n",
      "4246/4246 [==============================] - 50s - loss: 0.3851 - acc: 0.8563 - val_loss: 12.4229 - val_acc: 0.0027\n",
      "Epoch 69/100\n",
      "4246/4246 [==============================] - 56s - loss: 0.3486 - acc: 0.8625 - val_loss: 12.5345 - val_acc: 0.0027\n",
      "Epoch 70/100\n",
      "4246/4246 [==============================] - 50s - loss: 0.3670 - acc: 0.8599 - val_loss: 11.7629 - val_acc: 0.0027\n",
      "Epoch 71/100\n",
      "4246/4246 [==============================] - 52s - loss: 0.3881 - acc: 0.8493 - val_loss: 12.4226 - val_acc: 0.0027\n",
      "Epoch 72/100\n",
      "4246/4246 [==============================] - 53s - loss: 0.3629 - acc: 0.8592 - val_loss: 12.7048 - val_acc: 0.0027\n",
      "Epoch 73/100\n",
      "4246/4246 [==============================] - 58s - loss: 0.3503 - acc: 0.8672 - val_loss: 12.7433 - val_acc: 0.0027\n",
      "Epoch 74/100\n",
      "4246/4246 [==============================] - 50s - loss: 0.3134 - acc: 0.8745 - val_loss: 12.9767 - val_acc: 0.0027\n",
      "Epoch 75/100\n",
      "4246/4246 [==============================] - 45s - loss: 0.3232 - acc: 0.8752 - val_loss: 12.6336 - val_acc: 0.0027\n",
      "Epoch 76/100\n",
      "4246/4246 [==============================] - 46s - loss: 0.3115 - acc: 0.8804 - val_loss: 12.9262 - val_acc: 0.0027\n",
      "Epoch 77/100\n",
      "4246/4246 [==============================] - 55s - loss: 0.3242 - acc: 0.8693 - val_loss: 13.3527 - val_acc: 0.0027\n",
      "Epoch 78/100\n",
      "4246/4246 [==============================] - 53s - loss: 0.3588 - acc: 0.8632 - val_loss: 12.4893 - val_acc: 0.0027\n",
      "Epoch 79/100\n",
      "4246/4246 [==============================] - 57s - loss: 0.3284 - acc: 0.8707 - val_loss: 12.2666 - val_acc: 0.0027\n",
      "Epoch 80/100\n",
      "4246/4246 [==============================] - 62s - loss: 0.3133 - acc: 0.8829 - val_loss: 13.0471 - val_acc: 0.0027\n",
      "Epoch 81/100\n",
      "4246/4246 [==============================] - 55s - loss: 0.3121 - acc: 0.8808 - val_loss: 13.0927 - val_acc: 0.0027\n",
      "Epoch 82/100\n",
      "4246/4246 [==============================] - 45s - loss: 0.2900 - acc: 0.8834 - val_loss: 13.2421 - val_acc: 0.0027\n",
      "Epoch 83/100\n",
      "4246/4246 [==============================] - 61s - loss: 0.2876 - acc: 0.8844 - val_loss: 13.1302 - val_acc: 0.0027\n",
      "Epoch 84/100\n",
      "4246/4246 [==============================] - 53s - loss: 0.3342 - acc: 0.8669 - val_loss: 13.0372 - val_acc: 0.0027\n",
      "Epoch 85/100\n",
      "4246/4246 [==============================] - 48s - loss: 0.3523 - acc: 0.8606 - val_loss: 12.5567 - val_acc: 0.0027\n",
      "Epoch 86/100\n",
      "4246/4246 [==============================] - 48s - loss: 0.3147 - acc: 0.8761 - val_loss: 13.0748 - val_acc: 0.0027\n",
      "Epoch 87/100\n",
      "4246/4246 [==============================] - 51s - loss: 0.3267 - acc: 0.8764 - val_loss: 12.9838 - val_acc: 0.0027\n",
      "Epoch 88/100\n",
      "4246/4246 [==============================] - 53s - loss: 0.3158 - acc: 0.8806 - val_loss: 12.2616 - val_acc: 0.0027\n",
      "Epoch 89/100\n",
      "4246/4246 [==============================] - 49s - loss: 0.3361 - acc: 0.8686 - val_loss: 12.7635 - val_acc: 0.0027\n",
      "Epoch 90/100\n",
      "4246/4246 [==============================] - 47s - loss: 0.3157 - acc: 0.8829 - val_loss: 13.4482 - val_acc: 0.0027\n",
      "Epoch 91/100\n",
      "4246/4246 [==============================] - 49s - loss: 0.3146 - acc: 0.8792 - val_loss: 13.2828 - val_acc: 0.0027\n",
      "Epoch 92/100\n",
      "4246/4246 [==============================] - 50s - loss: 0.3090 - acc: 0.8808 - val_loss: 12.8070 - val_acc: 0.0027\n",
      "Epoch 93/100\n",
      "4246/4246 [==============================] - 55s - loss: 0.2899 - acc: 0.8917 - val_loss: 12.8923 - val_acc: 0.0027\n",
      "Epoch 94/100\n",
      "4246/4246 [==============================] - 49s - loss: 0.2865 - acc: 0.8907 - val_loss: 13.2762 - val_acc: 0.0027\n",
      "Epoch 95/100\n",
      "4246/4246 [==============================] - 47s - loss: 0.3099 - acc: 0.8813 - val_loss: 12.6358 - val_acc: 0.0027\n",
      "Epoch 96/100\n",
      "4246/4246 [==============================] - 47s - loss: 0.2824 - acc: 0.8954 - val_loss: 12.2538 - val_acc: 0.0027\n",
      "Epoch 97/100\n",
      "4246/4246 [==============================] - 50s - loss: 0.2813 - acc: 0.8928 - val_loss: 13.8606 - val_acc: 0.0027\n",
      "Epoch 98/100\n",
      "4246/4246 [==============================] - 48s - loss: 0.2894 - acc: 0.8947 - val_loss: 13.0086 - val_acc: 0.0027\n",
      "Epoch 99/100\n",
      "4246/4246 [==============================] - 46s - loss: 0.2797 - acc: 0.8931 - val_loss: 12.7952 - val_acc: 0.0027\n",
      "Epoch 100/100\n",
      "4246/4246 [==============================] - 46s - loss: 0.3019 - acc: 0.8829 - val_loss: 13.1301 - val_acc: 0.0027\n",
      "Test loss: 2.79474070701\n",
      "Test accuracy: 0.692076228686\n"
     ]
    }
   ],
   "source": [
    "# The actual training of the CNN using the parameters and model previously specified.\n",
    "# The validation set is a split of the stratified sampled training data.\n",
    "history = model.fit(x_train, y_train,\n",
    "                    batch_size=batch_size,\n",
    "                    epochs=epochs,\n",
    "                    verbose=1,\n",
    "                    validation_split = 0.15)\n",
    "\n",
    "# Evaluate the performance on the unused testing set.\n",
    "score = model.evaluate(x_test, y_test, verbose=0)\n",
    "print('Test loss:', score[0])\n",
    "print('Test accuracy:', score[1])"
   ]
  },
  {
   "cell_type": "code",
   "execution_count": 19,
   "metadata": {
    "collapsed": true
   },
   "outputs": [],
   "source": [
    "model.save_weights('tuned_weights.h5')"
   ]
  },
  {
   "cell_type": "code",
   "execution_count": 15,
   "metadata": {
    "collapsed": false
   },
   "outputs": [
    {
     "data": {
      "text/plain": [
       "<matplotlib.text.Text at 0x115396810>"
      ]
     },
     "execution_count": 15,
     "metadata": {},
     "output_type": "execute_result"
    },
    {
     "data": {
      "image/png": "[encoded data removed]",
      "text/plain": [
       "<matplotlib.figure.Figure at 0x115309f10>"
      ]
     },
     "metadata": {},
     "output_type": "display_data"
    }
   ],
   "source": [
    "# here is a visualization of the training process\n",
    "# typically we gain a lot in the beginning and then\n",
    "# training slows down\n",
    "plt.plot(history.history['acc'])\n",
    "plt.xlabel(\"epoch\")\n",
    "plt.ylabel(\"accuracy\")"
   ]
  },
  {
   "cell_type": "markdown",
   "metadata": {
    "collapsed": true
   },
   "source": [
    "### Tune an existing CNN."
   ]
  },
  {
   "cell_type": "code",
   "execution_count": 21,
   "metadata": {
    "collapsed": false
   },
   "outputs": [
    {
     "name": "stdout",
     "output_type": "stream",
     "text": [
      "Model loaded.\n"
     ]
    },
    {
     "ename": "AttributeError",
     "evalue": "'Model' object has no attribute 'add'",
     "output_type": "error",
     "traceback": [
      "\u001b[0;31m---------------------------------------------------------------------------\u001b[0m",
      "\u001b[0;31mAttributeError\u001b[0m                            Traceback (most recent call last)",
      "\u001b[0;32m<ipython-input-21-3a1eaca7d7ab>\u001b[0m in \u001b[0;36m<module>\u001b[0;34m()\u001b[0m\n\u001b[1;32m     28\u001b[0m \u001b[0;34m\u001b[0m\u001b[0m\n\u001b[1;32m     29\u001b[0m \u001b[0;31m# add the model on top of the convolutional base\u001b[0m\u001b[0;34m\u001b[0m\u001b[0;34m\u001b[0m\u001b[0m\n\u001b[0;32m---> 30\u001b[0;31m \u001b[0mmodel_tune\u001b[0m\u001b[0;34m.\u001b[0m\u001b[0madd\u001b[0m\u001b[0;34m(\u001b[0m\u001b[0mtop_model\u001b[0m\u001b[0;34m)\u001b[0m\u001b[0;34m\u001b[0m\u001b[0m\n\u001b[0m\u001b[1;32m     31\u001b[0m \u001b[0;34m\u001b[0m\u001b[0m\n\u001b[1;32m     32\u001b[0m \u001b[0;31m# set the first 25 layers (up to the last conv block)\u001b[0m\u001b[0;34m\u001b[0m\u001b[0;34m\u001b[0m\u001b[0m\n",
      "\u001b[0;31mAttributeError\u001b[0m: 'Model' object has no attribute 'add'"
     ]
    }
   ],
   "source": [
    "from keras import applications\n",
    "from keras.preprocessing.image import ImageDataGenerator\n",
    "from keras import optimizers\n",
    "from keras.models import Sequential\n",
    "from keras.layers import Dropout, Flatten, Dense\n",
    "\n",
    "# path to the model weights files.\n",
    "weights_path = '../keras/examples/vgg16_weights.h5'\n",
    "top_model_weights_path = 'tuned_weights.h5'\n",
    "epochs = 50\n",
    "batch_size = 16\n",
    "\n",
    "# build the VGG16 network\n",
    "model_tune = applications.VGG16(weights='imagenet', include_top=False)\n",
    "print('Model loaded.')\n",
    "\n",
    "# build a classifier model to put on top of the convolutional model\n",
    "top_model = Sequential()\n",
    "top_model.add(Flatten(input_shape=input_shape))\n",
    "top_model.add(Dense(256, activation='relu'))\n",
    "top_model.add(Dropout(0.5))\n",
    "top_model.add(Dense(1, activation='sigmoid'))\n",
    "\n",
    "# note that it is necessary to start with a fully-trained\n",
    "# classifier, including the top classifier,\n",
    "# in order to successfully do fine-tuning\n",
    "#top_model.load_weights(top_model_weights_path)\n",
    "\n",
    "# add the model on top of the convolutional base\n",
    "model_tune.add(top_model)\n",
    "\n",
    "# set the first 25 layers (up to the last conv block)\n",
    "# to non-trainable (weights will not be updated)\n",
    "for layer in model_tune.layers[:25]:\n",
    "    layer.trainable = False\n",
    "\n",
    "# compile the model with a SGD/momentum optimizer\n",
    "# and a very slow learning rate.\n",
    "model_tune.compile(loss='binary_crossentropy',\n",
    "              optimizer=optimizers.SGD(lr=1e-4, momentum=0.9),\n",
    "              metrics=['accuracy'])"
   ]
  },
  {
   "cell_type": "code",
   "execution_count": null,
   "metadata": {
    "collapsed": true
   },
   "outputs": [],
   "source": [
    "# fine-tune the model\n",
    "model_tune.fit_generator(\n",
    "    x_train, y_train,\n",
    "    batch_size = batch_size,\n",
    "    epochs=epochs,\n",
    "    validation_split = 0.15)"
   ]
  },
  {
   "cell_type": "code",
   "execution_count": null,
   "metadata": {
    "collapsed": true
   },
   "outputs": [],
   "source": []
  },
  {
   "cell_type": "code",
   "execution_count": null,
   "metadata": {
    "collapsed": true
   },
   "outputs": [],
   "source": []
  },
  {
   "cell_type": "code",
   "execution_count": null,
   "metadata": {
    "collapsed": true
   },
   "outputs": [],
   "source": []
  },
  {
   "cell_type": "code",
   "execution_count": null,
   "metadata": {
    "collapsed": true
   },
   "outputs": [],
   "source": []
  }
 ],
 "metadata": {
  "kernelspec": {
   "display_name": "Python 2",
   "language": "python",
   "name": "python2"
  },
  "language_info": {
   "codemirror_mode": {
    "name": "ipython",
    "version": 2
   },
   "file_extension": ".py",
   "mimetype": "text/x-python",
   "name": "python",
   "nbconvert_exporter": "python",
   "pygments_lexer": "ipython2",
   "version": "2.7.12"
  }
 },
 "nbformat": 4,
 "nbformat_minor": 2
}
