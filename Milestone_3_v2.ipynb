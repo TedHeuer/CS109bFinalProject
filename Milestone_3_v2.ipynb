{
 "cells": [
  {
   "cell_type": "markdown",
   "metadata": {
    "deletable": true,
    "editable": true
   },
   "source": [
    "### Milestone 3: Traditional statistical and machine learning methods, due Wednesday, April 19, 2017\n",
    "\n",
    "Think about how you would address the genre prediction problem with traditional statistical or machine learning methods. This includes everything you learned about modeling in this course before the deep learning part. Implement your ideas and compare different classifiers. Report your results and discuss what challenges you faced and how you overcame them. What works and what does not? If there are parts that do not work as expected, make sure to discuss briefly what you think is the cause and how you would address this if you would have more time and resources. \n",
    "\n",
    "You do not necessarily need to use the movie posters for this step, but even without a background in computer vision, there are very simple features you can extract from the posters to help guide a traditional machine learning model. Think about the PCA lecture for example, or how to use clustering to extract color information. In addition to considering the movie posters it would be worthwhile to have a look at the metadata that IMDb provides. \n",
    "\n",
    "You could use Spark and the [ML library](https://spark.apache.org/docs/latest/ml-features.html#word2vec) to build your model features from the data. This may be especially beneficial if you use additional data, e.g., in text form.\n",
    "\n",
    "You also need to think about how you are going to evaluate your classifier. Which metrics or scores will you report to show how good the performance is?\n",
    "\n",
    "The notebook to submit this week should at least include:\n",
    "\n",
    "- Detailed description and implementation of two different models\n",
    "- Description of your performance metrics\n",
    "- Careful performance evaluations for both models\n",
    "- Visualizations of the metrics for performance evaluation\n",
    "- Discussion of the differences between the models, their strengths, weaknesses, etc. \n",
    "- Discussion of the performances you achieved, and how you might be able to improve them in the future\n",
    "\n",
    "#### Preliminary Peer Assessment\n",
    "\n",
    "It is important to provide positive feedback to people who truly worked hard for the good of the team and to also make suggestions to those you perceived not to be working as effectively on team tasks. We ask you to provide an honest assessment of the contributions of the members of your team, including yourself. The feedback you provide should reflect your judgment of each team member’s:\n",
    "\n",
    "- Preparation – were they prepared during team meetings?\n",
    "- Contribution – did they contribute productively to the team discussion and work?\n",
    "- Respect for others’ ideas – did they encourage others to contribute their ideas?\n",
    "- Flexibility – were they flexible when disagreements occurred?\n",
    "\n",
    "Your teammate’s assessment of your contributions and the accuracy of your self-assessment will be considered as part of your overall project score.\n",
    "\n",
    "Preliminary Peer Assessment: [https://goo.gl/forms/WOYC7pwRCSU0yV3l1](https://goo.gl/forms/WOYC7pwRCSU0yV3l1)"
   ]
  },
  {
   "cell_type": "markdown",
   "metadata": {},
   "source": [
    "#Description of your performance metrics\n",
    "For the two Multiclass models, we use the built in model.score as validation score for training, and use confusionmatrix along with accuracy and recall for the test performance metric. \n",
    "\n",
    "For the MultiLabel model, we use f1 as the validation score for training, and use confusionmatrix along with accuracy and recall for the test performance metric. "
   ]
  },
  {
   "cell_type": "code",
   "execution_count": 36,
   "metadata": {
    "collapsed": false,
    "deletable": true,
    "editable": true
   },
   "outputs": [],
   "source": [
    "import numpy as np\n",
    "import pandas as pd\n",
    "import scipy as sp\n",
    "from sklearn import linear_model\n",
    "from sklearn.linear_model import LogisticRegression\n",
    "import matplotlib.pyplot as plt\n",
    "from sklearn.decomposition import PCA\n",
    "from sklearn import preprocessing\n",
    "from sklearn import tree\n",
    "from sklearn import ensemble\n",
    "from sklearn.multiclass import OneVsRestClassifier\n",
    "from sklearn.cross_validation import KFold\n",
    "from sklearn.preprocessing import MultiLabelBinarizer\n",
    "import StringIO\n",
    "from PIL import Image\n",
    "import urllib\n",
    "from random import sample\n",
    "from imdb import IMDb\n",
    "import tmdbsimple as tmdb\n",
    "from sklearn import svm\n",
    "import time\n",
    "tmdb.API_KEY = 'c5d41f08e55fca6e9f5fc0b6d1735540'"
   ]
  },
  {
   "cell_type": "markdown",
   "metadata": {},
   "source": [
    "# Detailed description and implementation of two different models\n",
    "\n",
    "We actually created three different model for this model. We started with a random forest model and a svm to train as a multiclass classifier. But as we were working through the process, we had an hypothesis that the problem actually might make more sense as a multi label problem. Our third model was a multilabel model with OneVSrest Randomforest classifier.\n",
    "We went explore a few sets of different features (budgets, revenues, studio, and ect) and ultimately settled on using \"revenue\" + features extracted directly from the poster. We created 8 news features from the poster's extracting the top 5 dominant colors of each poster, and calculated the color intensity (by summing r,b,g values horizontally) and averaging red, blue, and green scale (by averaging r,b,g value vertically). We figured since the final deliverable will heavily involve the posters, we though we tried to use some features from the posters in ms 3 as well, so we'll have a benchmark for later."
   ]
  },
  {
   "cell_type": "code",
   "execution_count": 2,
   "metadata": {
    "collapsed": false
   },
   "outputs": [],
   "source": [
    "#read in genre and movie id multi class\n",
    "mmc = pd.read_csv('C:\\Users\\Chad\\Desktop\\Data Science 2\\Project\\ms3\\y_labels_multiclass2.csv')\n",
    "\n",
    "#access pull infomration from api with smaller subset first \n",
    "#rowindex =  np.array(sample(xrange(len(mmc)), 2000))\n",
    "#mmcr = mmc.ix[rowindex]\n",
    "#mmcr = mmcr.reset_index(drop=True)\n"
   ]
  },
  {
   "cell_type": "code",
   "execution_count": 22,
   "metadata": {
    "collapsed": false
   },
   "outputs": [
    {
     "data": {
      "text/html": [
       "<div>\n",
       "<table border=\"1\" class=\"dataframe\">\n",
       "  <thead>\n",
       "    <tr style=\"text-align: right;\">\n",
       "      <th></th>\n",
       "      <th>movie_id</th>\n",
       "      <th>genre_id</th>\n",
       "      <th>genre_name</th>\n",
       "    </tr>\n",
       "  </thead>\n",
       "  <tbody>\n",
       "    <tr>\n",
       "      <th>0</th>\n",
       "      <td>57119</td>\n",
       "      <td>35</td>\n",
       "      <td>Comedy</td>\n",
       "    </tr>\n",
       "    <tr>\n",
       "      <th>1</th>\n",
       "      <td>18607</td>\n",
       "      <td>35</td>\n",
       "      <td>Comedy</td>\n",
       "    </tr>\n",
       "    <tr>\n",
       "      <th>2</th>\n",
       "      <td>157845</td>\n",
       "      <td>53</td>\n",
       "      <td>Thriller</td>\n",
       "    </tr>\n",
       "    <tr>\n",
       "      <th>3</th>\n",
       "      <td>37786</td>\n",
       "      <td>10749</td>\n",
       "      <td>Romance</td>\n",
       "    </tr>\n",
       "    <tr>\n",
       "      <th>4</th>\n",
       "      <td>164558</td>\n",
       "      <td>99</td>\n",
       "      <td>Documentary</td>\n",
       "    </tr>\n",
       "  </tbody>\n",
       "</table>\n",
       "</div>"
      ],
      "text/plain": [
       "   movie_id  genre_id   genre_name\n",
       "0     57119        35       Comedy\n",
       "1     18607        35       Comedy\n",
       "2    157845        53     Thriller\n",
       "3     37786     10749      Romance\n",
       "4    164558        99  Documentary"
      ]
     },
     "execution_count": 22,
     "metadata": {},
     "output_type": "execute_result"
    }
   ],
   "source": [
    "mmcr.head()"
   ]
  },
  {
   "cell_type": "code",
   "execution_count": 3,
   "metadata": {
    "collapsed": true
   },
   "outputs": [],
   "source": [
    "def getMovies(tmdb_id):\n",
    "    movie = tmdb.Movies(tmdb_id)\n",
    "    return movie.info()"
   ]
  },
  {
   "cell_type": "code",
   "execution_count": 4,
   "metadata": {
    "collapsed": true
   },
   "outputs": [],
   "source": [
    "#found a nice example of extracting dominate color palette from image, modify a bit for our project\n",
    "#http://stackoverflow.com/a/16216866/190597 (Jaime)\n",
    "#http://stackoverflow.com/a/16840350/190597 (Jaime)\n",
    "\n",
    "def palette(img):\n",
    "    arr = np.asarray(img)\n",
    "    palette, index = np.unique(asvoid(arr).ravel(), return_inverse=True)\n",
    "    palette = palette.view(arr.dtype).reshape(-1, arr.shape[-1])\n",
    "    count = np.bincount(index)\n",
    "    order = np.argsort(count)\n",
    "    return palette[order[::-1]]\n",
    "\n",
    "def asvoid(arr):\n",
    "    arr = np.ascontiguousarray(arr)\n",
    "    return arr.view(np.dtype((np.void, arr.dtype.itemsize * arr.shape[-1])))\n"
   ]
  },
  {
   "cell_type": "code",
   "execution_count": 5,
   "metadata": {
    "collapsed": true
   },
   "outputs": [],
   "source": [
    "#generate a pallatte score for the top 5 dominate color in this image\n",
    "#calculate color intensity for top 5 dominate color\n",
    "#calcuate average red, blue, green scale\n",
    "def getPaletteScore(mpath):\n",
    "    base_url = \"https://image.tmdb.org/t/p/\"\n",
    "    file_size = \"w500\"\n",
    "    poster_path = mpath \n",
    "    poster_url = base_url+file_size+poster_path\n",
    "    img = Image.open(urllib.urlopen(poster_url), 'r').convert('RGB')\n",
    "    palettescore = np.sum(palette(img)[:5], axis = 1)\n",
    "    avgRBG = np.mean(palette(img)[:5], axis = 0)\n",
    "    return palettescore, avgRBG"
   ]
  },
  {
   "cell_type": "code",
   "execution_count": 82,
   "metadata": {
    "collapsed": false
   },
   "outputs": [],
   "source": [
    "idx = range(0, len(mmc))\n",
    "cols = ['genre_name', 'movie_id', 'popularity', 'budget', 'revenue', 'pal_intensity_1', 'pal_intensity_2', 'pal_intensity_3', \n",
    "        'pal_intensity_4', 'pal_intensity_5', 'avg_red', 'avg_blue', 'avg_green']\n",
    "df = pd.DataFrame(index=idx, columns=cols)\n",
    "\n",
    "for i in range(0,len(mmc)):\n",
    "    movie = getMovies(mmc.ix[i, 'movie_id'])\n",
    "    pal_score, avgRBG = getPaletteScore(movie['poster_path'])\n",
    "    df['genre_name'][i] = mmc.ix[i, 'genre_name']\n",
    "    df['id'][i] = mmc.ix[i, 'movie_id']\n",
    "    df['popularity'][i] = movie['popularity']\n",
    "    df['budget'][i] = movie['budget']\n",
    "    df['revenue'][i] = movie['revenue']\n",
    "    df['pal_intensity_1'][i] = pal_score[0]\n",
    "    df['pal_intensity_2'][i] = pal_score[1]\n",
    "    df['pal_intensity_3'][i] = pal_score[2]\n",
    "    df['pal_intensity_4'][i] = pal_score[3]\n",
    "    df['pal_intensity_5'][i] = pal_score[4]\n",
    "    df['avg_red'][i] = avgRBG[0]\n",
    "    df['avg_blue'][i] = avgRBG[1]\n",
    "    df['avg_green'][i] = avgRBG[2]"
   ]
  },
  {
   "cell_type": "code",
   "execution_count": 27,
   "metadata": {
    "collapsed": true
   },
   "outputs": [],
   "source": [
    "#save to csv\n",
    "#df.to_csv('C:\\Users\\Chad\\Desktop\\Data Science 2\\Project\\ms3\\movie_df.csv', sep=',')\n",
    "df = pd.read_csv('C:\\Users\\Chad\\Desktop\\Data Science 2\\Project\\ms3\\movie_df.csv', sep=',')"
   ]
  },
  {
   "cell_type": "code",
   "execution_count": 28,
   "metadata": {
    "collapsed": true
   },
   "outputs": [],
   "source": [
    "def split(data):\n",
    "    length = data.shape[0]\n",
    "    indices = range(length)\n",
    "    np.random.shuffle(indices)\n",
    "    train_indices = indices[0:int(length * .7)]\n",
    "    test_indices = indices[int(length * .7):]\n",
    "    train = data.iloc[train_indices]\n",
    "    test = data.iloc[test_indices]\n",
    "    return train, test\n"
   ]
  },
  {
   "cell_type": "code",
   "execution_count": 29,
   "metadata": {
    "collapsed": false
   },
   "outputs": [],
   "source": [
    "train, test = split(df)\n",
    "y_train = train.iloc[:, 0]\n",
    "x_train = train.iloc[:, 4:]\n",
    "y_test = test.iloc[:, 0]\n",
    "x_test = test.iloc[:, 4:]\n",
    "\n",
    "#scale the features\n",
    "x_train = pd.DataFrame(preprocessing.MinMaxScaler().fit_transform(x_train.values))\n",
    "x_test = pd.DataFrame(preprocessing.MinMaxScaler().fit_transform(x_test.values))"
   ]
  },
  {
   "cell_type": "markdown",
   "metadata": {},
   "source": [
    "# Description of your performance metrics \n",
    "\n",
    "For the two Multiclass models, we use the built in model.score as validation score for training, and use confusionmatrix along with accuracy and recall for the test performance metric.\n",
    "For the MultiLabel model, we use f1 as the validation score for training, and use confusionmatrix along with accuracy and recall for the test performance metric."
   ]
  },
  {
   "cell_type": "code",
   "execution_count": 183,
   "metadata": {
    "collapsed": false
   },
   "outputs": [
    {
     "name": "stdout",
     "output_type": "stream",
     "text": [
      "5-fold cross validation:\n",
      "Chosen number of trees, depth: 131 , 17\n",
      "Test accuracy: 0.343866943867\n"
     ]
    }
   ],
   "source": [
    "n_trees = np.arange(1, 151, 5)  \n",
    "depths = np.arange(1, 25)   \n",
    "\n",
    "# To keep track of the best model\n",
    "best_score = 0\n",
    "\n",
    "# Run grid search for model with 5-fold cross validation\n",
    "print '5-fold cross validation:'\n",
    "\n",
    "for trees in n_trees:\n",
    "    for depth in depths:\n",
    "        \n",
    "        # Cross validation for every experiment\n",
    "        k_folds = KFold(train.shape[0], n_folds=5, shuffle=True)\n",
    "        scores = []\n",
    "        for train_indices, validation_indices in k_folds:\n",
    "            # Generate training data\n",
    "            x_train_cv = x_train.iloc[train_indices]\n",
    "            y_train_cv = y_train.iloc[train_indices]\n",
    "            # Generate validation data\n",
    "            x_validate = x_train.iloc[validation_indices]\n",
    "            y_validate = y_train.iloc[validation_indices]\n",
    "            \n",
    "            # Fit random forest on training data\n",
    "            model = ensemble.RandomForestClassifier(n_estimators=trees, max_depth=depth, class_weight = 'balanced')\n",
    "            model.fit(x_train_cv, y_train_cv)\n",
    "            # Score on validation data\n",
    "            scores += [model.score(x_validate, y_validate)]\n",
    "        \n",
    "        # Record and report accuracy\n",
    "        average_score = np.mean(scores)\n",
    "        #print \"Trees:\", trees, \"Depth:\", depth, \"Score:\", average_score\n",
    "        \n",
    "        # Update our record of the best parameters see so far\n",
    "        if average_score > best_score:\n",
    "            best_score = average_score\n",
    "            best_trees = trees\n",
    "            best_depth = depth\n",
    "\n",
    "# Fit model on entire train set using chosen number of trees and depth\n",
    "model = ensemble.RandomForestClassifier(n_estimators=best_trees, max_depth=best_depth)\n",
    "model.fit(x_train, y_train)\n",
    "\n",
    "print 'Chosen number of trees, depth:', best_trees, ',', best_depth\n",
    "print 'Test accuracy:', model.score(x_test, y_test)"
   ]
  },
  {
   "cell_type": "code",
   "execution_count": 184,
   "metadata": {
    "collapsed": false
   },
   "outputs": [
    {
     "data": {
      "text/html": [
       "<div>\n",
       "<table border=\"1\" class=\"dataframe\">\n",
       "  <thead>\n",
       "    <tr style=\"text-align: right;\">\n",
       "      <th>preds</th>\n",
       "      <th>Action</th>\n",
       "      <th>Animation</th>\n",
       "      <th>Comedy</th>\n",
       "      <th>Documentary</th>\n",
       "      <th>Drama</th>\n",
       "      <th>Romance</th>\n",
       "      <th>Thriller</th>\n",
       "    </tr>\n",
       "    <tr>\n",
       "      <th>actual</th>\n",
       "      <th></th>\n",
       "      <th></th>\n",
       "      <th></th>\n",
       "      <th></th>\n",
       "      <th></th>\n",
       "      <th></th>\n",
       "      <th></th>\n",
       "    </tr>\n",
       "  </thead>\n",
       "  <tbody>\n",
       "    <tr>\n",
       "      <th>Action</th>\n",
       "      <td>239</td>\n",
       "      <td>12</td>\n",
       "      <td>86</td>\n",
       "      <td>1</td>\n",
       "      <td>13</td>\n",
       "      <td>24</td>\n",
       "      <td>140</td>\n",
       "    </tr>\n",
       "    <tr>\n",
       "      <th>Animation</th>\n",
       "      <td>39</td>\n",
       "      <td>37</td>\n",
       "      <td>71</td>\n",
       "      <td>1</td>\n",
       "      <td>1</td>\n",
       "      <td>12</td>\n",
       "      <td>22</td>\n",
       "    </tr>\n",
       "    <tr>\n",
       "      <th>Comedy</th>\n",
       "      <td>98</td>\n",
       "      <td>12</td>\n",
       "      <td>300</td>\n",
       "      <td>9</td>\n",
       "      <td>15</td>\n",
       "      <td>67</td>\n",
       "      <td>75</td>\n",
       "    </tr>\n",
       "    <tr>\n",
       "      <th>Documentary</th>\n",
       "      <td>10</td>\n",
       "      <td>1</td>\n",
       "      <td>43</td>\n",
       "      <td>9</td>\n",
       "      <td>5</td>\n",
       "      <td>3</td>\n",
       "      <td>23</td>\n",
       "    </tr>\n",
       "    <tr>\n",
       "      <th>Drama</th>\n",
       "      <td>44</td>\n",
       "      <td>10</td>\n",
       "      <td>96</td>\n",
       "      <td>4</td>\n",
       "      <td>8</td>\n",
       "      <td>26</td>\n",
       "      <td>58</td>\n",
       "    </tr>\n",
       "    <tr>\n",
       "      <th>Romance</th>\n",
       "      <td>79</td>\n",
       "      <td>14</td>\n",
       "      <td>163</td>\n",
       "      <td>1</td>\n",
       "      <td>11</td>\n",
       "      <td>51</td>\n",
       "      <td>58</td>\n",
       "    </tr>\n",
       "    <tr>\n",
       "      <th>Thriller</th>\n",
       "      <td>116</td>\n",
       "      <td>5</td>\n",
       "      <td>81</td>\n",
       "      <td>2</td>\n",
       "      <td>8</td>\n",
       "      <td>19</td>\n",
       "      <td>183</td>\n",
       "    </tr>\n",
       "  </tbody>\n",
       "</table>\n",
       "</div>"
      ],
      "text/plain": [
       "preds        Action  Animation  Comedy  Documentary  Drama  Romance  Thriller\n",
       "actual                                                                       \n",
       "Action          239         12      86            1     13       24       140\n",
       "Animation        39         37      71            1      1       12        22\n",
       "Comedy           98         12     300            9     15       67        75\n",
       "Documentary      10          1      43            9      5        3        23\n",
       "Drama            44         10      96            4      8       26        58\n",
       "Romance          79         14     163            1     11       51        58\n",
       "Thriller        116          5      81            2      8       19       183"
      ]
     },
     "execution_count": 184,
     "metadata": {},
     "output_type": "execute_result"
    }
   ],
   "source": [
    "preds = model.predict(x_test)\n",
    "pd.crosstab(y_test, preds, rownames=['actual'], colnames=['preds'])"
   ]
  },
  {
   "cell_type": "code",
   "execution_count": 21,
   "metadata": {
    "collapsed": false
   },
   "outputs": [
    {
     "name": "stdout",
     "output_type": "stream",
     "text": [
      "3-fold cross validation:\n",
      "Chosen Cost, gamma: 3 , 0.2\n",
      "Test accuracy: 0.271933471933\n"
     ]
    }
   ],
   "source": [
    "#fitting with svm\n",
    "Cost = np.arange(1, 10, 1)  \n",
    "gamma = np.arange(.1, 1.1, .1 )   \n",
    "\n",
    "# To keep track of the best model\n",
    "svmr_best_score = 0\n",
    "\n",
    "# Run grid search for model with 5-fold cross validation\n",
    "print '3-fold cross validation:'\n",
    "\n",
    "for c in Cost:\n",
    "    for g in gamma:\n",
    "        \n",
    "        # Cross validation for every experiment\n",
    "        k_folds = KFold(train.shape[0], n_folds=3, shuffle=True)\n",
    "        scores = []\n",
    "        for train_indices, validation_indices in k_folds:\n",
    "            # Generate training data\n",
    "            x_train_cv = x_train.iloc[train_indices]\n",
    "            y_train_cv = y_train.iloc[train_indices]\n",
    "            # Generate validation data\n",
    "            x_validate = x_train.iloc[validation_indices]\n",
    "            y_validate = y_train.iloc[validation_indices]\n",
    "            \n",
    "            # Fit random forest on training data\n",
    "            svmr_model = svm.SVC(C=c, gamma=g, kernel = 'rbf', class_weight = 'balanced')\n",
    "            svmr_model.fit(x_train_cv, y_train_cv)\n",
    "            # Score on validation data\n",
    "            scores = [svmr_model.score(x_validate, y_validate)]\n",
    "        \n",
    "        # Record and report accuracy\n",
    "        current_score = scores\n",
    "        #print \"Trees:\", trees, \"Depth:\", depth, \"Score:\", average_score\n",
    "        \n",
    "        # Update our record of the best parameters see so far\n",
    "        if current_score > svmr_best_score:\n",
    "            svmr_best_score = current_score\n",
    "            best_cost = c\n",
    "            best_gamma = g\n",
    "\n",
    "\n",
    "svmr_model = svm.SVC(C = best_cost, gamma = best_gamma, kernel = 'rbf', class_weight = 'balanced')\n",
    "svmr_model.fit(x_train, y_train)\n",
    "\n",
    "print 'Chosen Cost, gamma:', best_cost, ',', best_gamma\n",
    "print 'Test accuracy:', svmr_model.score(x_test, y_test)"
   ]
  },
  {
   "cell_type": "code",
   "execution_count": 22,
   "metadata": {
    "collapsed": false
   },
   "outputs": [
    {
     "data": {
      "text/html": [
       "<div>\n",
       "<table border=\"1\" class=\"dataframe\">\n",
       "  <thead>\n",
       "    <tr style=\"text-align: right;\">\n",
       "      <th>preds</th>\n",
       "      <th>Action</th>\n",
       "      <th>Animation</th>\n",
       "      <th>Comedy</th>\n",
       "      <th>Documentary</th>\n",
       "      <th>Drama</th>\n",
       "      <th>Romance</th>\n",
       "      <th>Thriller</th>\n",
       "    </tr>\n",
       "    <tr>\n",
       "      <th>actual</th>\n",
       "      <th></th>\n",
       "      <th></th>\n",
       "      <th></th>\n",
       "      <th></th>\n",
       "      <th></th>\n",
       "      <th></th>\n",
       "      <th></th>\n",
       "    </tr>\n",
       "  </thead>\n",
       "  <tbody>\n",
       "    <tr>\n",
       "      <th>Action</th>\n",
       "      <td>60</td>\n",
       "      <td>20</td>\n",
       "      <td>76</td>\n",
       "      <td>12</td>\n",
       "      <td>51</td>\n",
       "      <td>6</td>\n",
       "      <td>313</td>\n",
       "    </tr>\n",
       "    <tr>\n",
       "      <th>Animation</th>\n",
       "      <td>5</td>\n",
       "      <td>49</td>\n",
       "      <td>48</td>\n",
       "      <td>21</td>\n",
       "      <td>11</td>\n",
       "      <td>2</td>\n",
       "      <td>41</td>\n",
       "    </tr>\n",
       "    <tr>\n",
       "      <th>Comedy</th>\n",
       "      <td>15</td>\n",
       "      <td>54</td>\n",
       "      <td>234</td>\n",
       "      <td>32</td>\n",
       "      <td>58</td>\n",
       "      <td>13</td>\n",
       "      <td>156</td>\n",
       "    </tr>\n",
       "    <tr>\n",
       "      <th>Documentary</th>\n",
       "      <td>1</td>\n",
       "      <td>7</td>\n",
       "      <td>33</td>\n",
       "      <td>9</td>\n",
       "      <td>15</td>\n",
       "      <td>1</td>\n",
       "      <td>33</td>\n",
       "    </tr>\n",
       "    <tr>\n",
       "      <th>Drama</th>\n",
       "      <td>7</td>\n",
       "      <td>14</td>\n",
       "      <td>102</td>\n",
       "      <td>16</td>\n",
       "      <td>27</td>\n",
       "      <td>7</td>\n",
       "      <td>84</td>\n",
       "    </tr>\n",
       "    <tr>\n",
       "      <th>Romance</th>\n",
       "      <td>12</td>\n",
       "      <td>27</td>\n",
       "      <td>160</td>\n",
       "      <td>18</td>\n",
       "      <td>33</td>\n",
       "      <td>10</td>\n",
       "      <td>89</td>\n",
       "    </tr>\n",
       "    <tr>\n",
       "      <th>Thriller</th>\n",
       "      <td>16</td>\n",
       "      <td>22</td>\n",
       "      <td>68</td>\n",
       "      <td>13</td>\n",
       "      <td>34</td>\n",
       "      <td>5</td>\n",
       "      <td>265</td>\n",
       "    </tr>\n",
       "  </tbody>\n",
       "</table>\n",
       "</div>"
      ],
      "text/plain": [
       "preds        Action  Animation  Comedy  Documentary  Drama  Romance  Thriller\n",
       "actual                                                                       \n",
       "Action           60         20      76           12     51        6       313\n",
       "Animation         5         49      48           21     11        2        41\n",
       "Comedy           15         54     234           32     58       13       156\n",
       "Documentary       1          7      33            9     15        1        33\n",
       "Drama             7         14     102           16     27        7        84\n",
       "Romance          12         27     160           18     33       10        89\n",
       "Thriller         16         22      68           13     34        5       265"
      ]
     },
     "execution_count": 22,
     "metadata": {},
     "output_type": "execute_result"
    }
   ],
   "source": [
    "svmr_preds = svmr_model.predict(x_test)\n",
    "pd.crosstab(y_test, svmr_preds, rownames=['actual'], colnames=['preds'])"
   ]
  },
  {
   "cell_type": "code",
   "execution_count": 38,
   "metadata": {
    "collapsed": false
   },
   "outputs": [
    {
     "name": "stdout",
     "output_type": "stream",
     "text": [
      "3-fold cross validation:\n"
     ]
    },
    {
     "ename": "KeyboardInterrupt",
     "evalue": "",
     "output_type": "error",
     "traceback": [
      "\u001b[0;31m---------------------------------------------------------------------------\u001b[0m",
      "\u001b[0;31mKeyboardInterrupt\u001b[0m                         Traceback (most recent call last)",
      "\u001b[0;32m<ipython-input-38-bb5c06a1b372>\u001b[0m in \u001b[0;36m<module>\u001b[0;34m()\u001b[0m\n\u001b[1;32m     25\u001b[0m             \u001b[1;31m# Fit random forest on training data\u001b[0m\u001b[1;33m\u001b[0m\u001b[1;33m\u001b[0m\u001b[0m\n\u001b[1;32m     26\u001b[0m             \u001b[0msvm_model\u001b[0m \u001b[1;33m=\u001b[0m \u001b[0msvm\u001b[0m\u001b[1;33m.\u001b[0m\u001b[0mSVC\u001b[0m\u001b[1;33m(\u001b[0m\u001b[0mC\u001b[0m\u001b[1;33m=\u001b[0m\u001b[0mc\u001b[0m\u001b[1;33m,\u001b[0m \u001b[0mgamma\u001b[0m\u001b[1;33m=\u001b[0m\u001b[0mg\u001b[0m\u001b[1;33m,\u001b[0m \u001b[0mkernel\u001b[0m \u001b[1;33m=\u001b[0m \u001b[1;34m'linear'\u001b[0m\u001b[1;33m,\u001b[0m \u001b[0mclass_weight\u001b[0m \u001b[1;33m=\u001b[0m \u001b[1;34m'balanced'\u001b[0m\u001b[1;33m)\u001b[0m\u001b[1;33m\u001b[0m\u001b[0m\n\u001b[0;32m---> 27\u001b[0;31m             \u001b[0msvm_model\u001b[0m\u001b[1;33m.\u001b[0m\u001b[0mfit\u001b[0m\u001b[1;33m(\u001b[0m\u001b[0mx_train_cv\u001b[0m\u001b[1;33m,\u001b[0m \u001b[0my_train_cv\u001b[0m\u001b[1;33m)\u001b[0m\u001b[1;33m\u001b[0m\u001b[0m\n\u001b[0m\u001b[1;32m     28\u001b[0m             \u001b[1;31m# Score on validation data\u001b[0m\u001b[1;33m\u001b[0m\u001b[1;33m\u001b[0m\u001b[0m\n\u001b[1;32m     29\u001b[0m             \u001b[0mscores\u001b[0m \u001b[1;33m=\u001b[0m \u001b[1;33m[\u001b[0m\u001b[0msvm_model\u001b[0m\u001b[1;33m.\u001b[0m\u001b[0mscore\u001b[0m\u001b[1;33m(\u001b[0m\u001b[0mx_validate\u001b[0m\u001b[1;33m,\u001b[0m \u001b[0my_validate\u001b[0m\u001b[1;33m)\u001b[0m\u001b[1;33m]\u001b[0m\u001b[1;33m\u001b[0m\u001b[0m\n",
      "\u001b[0;32mc:\\python27\\lib\\site-packages\\sklearn\\svm\\base.pyc\u001b[0m in \u001b[0;36mfit\u001b[0;34m(self, X, y, sample_weight)\u001b[0m\n\u001b[1;32m    191\u001b[0m \u001b[1;33m\u001b[0m\u001b[0m\n\u001b[1;32m    192\u001b[0m         \u001b[0mseed\u001b[0m \u001b[1;33m=\u001b[0m \u001b[0mrnd\u001b[0m\u001b[1;33m.\u001b[0m\u001b[0mrandint\u001b[0m\u001b[1;33m(\u001b[0m\u001b[0mnp\u001b[0m\u001b[1;33m.\u001b[0m\u001b[0miinfo\u001b[0m\u001b[1;33m(\u001b[0m\u001b[1;34m'i'\u001b[0m\u001b[1;33m)\u001b[0m\u001b[1;33m.\u001b[0m\u001b[0mmax\u001b[0m\u001b[1;33m)\u001b[0m\u001b[1;33m\u001b[0m\u001b[0m\n\u001b[0;32m--> 193\u001b[0;31m         \u001b[0mfit\u001b[0m\u001b[1;33m(\u001b[0m\u001b[0mX\u001b[0m\u001b[1;33m,\u001b[0m \u001b[0my\u001b[0m\u001b[1;33m,\u001b[0m \u001b[0msample_weight\u001b[0m\u001b[1;33m,\u001b[0m \u001b[0msolver_type\u001b[0m\u001b[1;33m,\u001b[0m \u001b[0mkernel\u001b[0m\u001b[1;33m,\u001b[0m \u001b[0mrandom_seed\u001b[0m\u001b[1;33m=\u001b[0m\u001b[0mseed\u001b[0m\u001b[1;33m)\u001b[0m\u001b[1;33m\u001b[0m\u001b[0m\n\u001b[0m\u001b[1;32m    194\u001b[0m         \u001b[1;31m# see comment on the other call to np.iinfo in this file\u001b[0m\u001b[1;33m\u001b[0m\u001b[1;33m\u001b[0m\u001b[0m\n\u001b[1;32m    195\u001b[0m \u001b[1;33m\u001b[0m\u001b[0m\n",
      "\u001b[0;32mc:\\python27\\lib\\site-packages\\sklearn\\svm\\base.pyc\u001b[0m in \u001b[0;36m_dense_fit\u001b[0;34m(self, X, y, sample_weight, solver_type, kernel, random_seed)\u001b[0m\n\u001b[1;32m    249\u001b[0m                 \u001b[0mcache_size\u001b[0m\u001b[1;33m=\u001b[0m\u001b[0mself\u001b[0m\u001b[1;33m.\u001b[0m\u001b[0mcache_size\u001b[0m\u001b[1;33m,\u001b[0m \u001b[0mcoef0\u001b[0m\u001b[1;33m=\u001b[0m\u001b[0mself\u001b[0m\u001b[1;33m.\u001b[0m\u001b[0mcoef0\u001b[0m\u001b[1;33m,\u001b[0m\u001b[1;33m\u001b[0m\u001b[0m\n\u001b[1;32m    250\u001b[0m                 \u001b[0mgamma\u001b[0m\u001b[1;33m=\u001b[0m\u001b[0mself\u001b[0m\u001b[1;33m.\u001b[0m\u001b[0m_gamma\u001b[0m\u001b[1;33m,\u001b[0m \u001b[0mepsilon\u001b[0m\u001b[1;33m=\u001b[0m\u001b[0mself\u001b[0m\u001b[1;33m.\u001b[0m\u001b[0mepsilon\u001b[0m\u001b[1;33m,\u001b[0m\u001b[1;33m\u001b[0m\u001b[0m\n\u001b[0;32m--> 251\u001b[0;31m                 max_iter=self.max_iter, random_seed=random_seed)\n\u001b[0m\u001b[1;32m    252\u001b[0m \u001b[1;33m\u001b[0m\u001b[0m\n\u001b[1;32m    253\u001b[0m         \u001b[0mself\u001b[0m\u001b[1;33m.\u001b[0m\u001b[0m_warn_from_fit_status\u001b[0m\u001b[1;33m(\u001b[0m\u001b[1;33m)\u001b[0m\u001b[1;33m\u001b[0m\u001b[0m\n",
      "\u001b[0;31mKeyboardInterrupt\u001b[0m: "
     ]
    }
   ],
   "source": [
    "#fitting with svm\n",
    "Cost = np.arange(1, 10, 1)  \n",
    "gamma = np.arange(.1, 1.1, .1 )   \n",
    "\n",
    "# To keep track of the best model\n",
    "svm_best_score = 0\n",
    "\n",
    "# Run grid search for model with 5-fold cross validation\n",
    "print '3-fold cross validation:'\n",
    "\n",
    "for c in Cost:\n",
    "    for g in gamma:\n",
    "        \n",
    "        # Cross validation for every experiment\n",
    "        k_folds = KFold(train.shape[0], n_folds=3, shuffle=True)\n",
    "        scores = []\n",
    "        for train_indices, validation_indices in k_folds:\n",
    "            # Generate training data\n",
    "            x_train_cv = x_train.iloc[train_indices]\n",
    "            y_train_cv = y_train.iloc[train_indices]\n",
    "            # Generate validation data\n",
    "            x_validate = x_train.iloc[validation_indices]\n",
    "            y_validate = y_train.iloc[validation_indices]\n",
    "            \n",
    "            # Fit random forest on training data\n",
    "            svm_model = svm.SVC(C=c, gamma=g, kernel = 'linear', class_weight = 'balanced')\n",
    "            svm_model.fit(x_train_cv, y_train_cv)\n",
    "            # Score on validation data\n",
    "            scores = [svm_model.score(x_validate, y_validate)]\n",
    "        \n",
    "        # Record and report accuracy\n",
    "        current_score = scores\n",
    "        #print \"Trees:\", trees, \"Depth:\", depth, \"Score:\", average_score\n",
    "        \n",
    "        # Update our record of the best parameters see so far\n",
    "        if current_score > svm_best_score:\n",
    "            svm_best_score = current_score\n",
    "            best_cost = c\n",
    "            best_gamma = g\n",
    "\n",
    "\n",
    "svm_model = svm.SVC(C = best_cost, gamma = best_gamma, kernel = 'linear', class_weight = 'balanced')\n",
    "svm_model.fit(x_train, y_train)\n",
    "\n",
    "print 'Chosen Cost, gamma:', best_cost, ',', best_gamma\n",
    "print 'Test accuracy:', svm_model.score(x_test, y_test)"
   ]
  },
  {
   "cell_type": "code",
   "execution_count": null,
   "metadata": {
    "collapsed": true
   },
   "outputs": [],
   "source": []
  },
  {
   "cell_type": "code",
   "execution_count": null,
   "metadata": {
    "collapsed": true
   },
   "outputs": [],
   "source": []
  },
  {
   "cell_type": "code",
   "execution_count": null,
   "metadata": {
    "collapsed": true
   },
   "outputs": [],
   "source": []
  },
  {
   "cell_type": "code",
   "execution_count": null,
   "metadata": {
    "collapsed": true
   },
   "outputs": [],
   "source": []
  },
  {
   "cell_type": "code",
   "execution_count": null,
   "metadata": {
    "collapsed": true
   },
   "outputs": [],
   "source": []
  },
  {
   "cell_type": "code",
   "execution_count": 32,
   "metadata": {
    "collapsed": false
   },
   "outputs": [],
   "source": [
    "mml = pd.read_csv('C:\\Users\\Chad\\Desktop\\Data Science 2\\Project\\ms3\\mml.csv')\n",
    "mml2 = mml.merge(df, on='movie_id', how='left')"
   ]
  },
  {
   "cell_type": "code",
   "execution_count": 33,
   "metadata": {
    "collapsed": false
   },
   "outputs": [],
   "source": [
    "mml_train, mml_test = split(mml2)"
   ]
  },
  {
   "cell_type": "code",
   "execution_count": 34,
   "metadata": {
    "collapsed": false
   },
   "outputs": [],
   "source": [
    "y_mml_train = mml_train['genre_name_x']\n",
    "x_mml_train = mml_train.iloc[:,5:]\n",
    "y_mml_test = mml_test['genre_name_x']\n",
    "x_mml_test = mml_test.iloc[:,5:]\n",
    "Y_mml_train = MultiLabelBinarizer().fit_transform(y_mml_train)\n",
    "Y_mml_test = MultiLabelBinarizer().fit_transform(y_mml_test)"
   ]
  },
  {
   "cell_type": "code",
   "execution_count": 37,
   "metadata": {
    "collapsed": false
   },
   "outputs": [
    {
     "name": "stdout",
     "output_type": "stream",
     "text": [
      "5-fold cross validation:\n"
     ]
    },
    {
     "ename": "NameError",
     "evalue": "name 'f1_score' is not defined",
     "output_type": "error",
     "traceback": [
      "\u001b[0;31m---------------------------------------------------------------------------\u001b[0m",
      "\u001b[0;31mNameError\u001b[0m                                 Traceback (most recent call last)",
      "\u001b[0;32m<ipython-input-37-fc4640c67b4c>\u001b[0m in \u001b[0;36m<module>\u001b[0;34m()\u001b[0m\n\u001b[1;32m     26\u001b[0m             \u001b[0mmodel_mml\u001b[0m\u001b[1;33m.\u001b[0m\u001b[0mfit\u001b[0m\u001b[1;33m(\u001b[0m\u001b[0mx_train_cv_mml\u001b[0m\u001b[1;33m,\u001b[0m \u001b[0my_train_cv_mml\u001b[0m\u001b[1;33m)\u001b[0m\u001b[1;33m\u001b[0m\u001b[0m\n\u001b[1;32m     27\u001b[0m             \u001b[1;31m# Score on validation data\u001b[0m\u001b[1;33m\u001b[0m\u001b[1;33m\u001b[0m\u001b[0m\n\u001b[0;32m---> 28\u001b[0;31m             \u001b[0mscores_mml\u001b[0m\u001b[1;33m.\u001b[0m\u001b[0mappend\u001b[0m\u001b[1;33m(\u001b[0m\u001b[0mf1_score\u001b[0m\u001b[1;33m(\u001b[0m\u001b[0my_validate_mml\u001b[0m\u001b[1;33m,\u001b[0m \u001b[0my_pred_cv_mml\u001b[0m\u001b[1;33m,\u001b[0m \u001b[0maverage\u001b[0m\u001b[1;33m=\u001b[0m\u001b[1;34m'samples'\u001b[0m\u001b[1;33m)\u001b[0m\u001b[1;33m)\u001b[0m\u001b[1;33m\u001b[0m\u001b[0m\n\u001b[0m\u001b[1;32m     29\u001b[0m \u001b[1;33m\u001b[0m\u001b[0m\n\u001b[1;32m     30\u001b[0m         \u001b[1;31m# Record and report accuracy\u001b[0m\u001b[1;33m\u001b[0m\u001b[1;33m\u001b[0m\u001b[0m\n",
      "\u001b[0;31mNameError\u001b[0m: name 'f1_score' is not defined"
     ]
    }
   ],
   "source": [
    "n_trees = np.arange(1, 151, 5)  \n",
    "depths = np.arange(1, 25)   \n",
    "\n",
    "# To keep track of the best model\n",
    "best_score_mml = 0\n",
    "\n",
    "# Run grid search for model with 5-fold cross validation\n",
    "print '5-fold cross validation:'\n",
    "\n",
    "for trees in n_trees:\n",
    "    for depth in depths:\n",
    "        \n",
    "        # Cross validation for every experiment\n",
    "        k_folds_mml = KFold(x_mml_train.shape[0], n_folds=5, shuffle=True)\n",
    "        scores_mml = []\n",
    "        for train_indices, validation_indices in k_folds_mml:\n",
    "            # Generate training data\n",
    "            x_train_cv_mml = x_mml_train.iloc[train_indices]\n",
    "            y_train_cv_mml = Y_mml_train[train_indices]\n",
    "            # Generate validation data\n",
    "            x_validate_mml = x_mml_train.iloc[validation_indices]\n",
    "            y_validate_mml = Y_mml_train[validation_indices]\n",
    "            \n",
    "            # Fit random forest on training data\n",
    "            model_mml = OneVsRestClassifier(ensemble.RandomForestClassifier(n_estimators=trees, max_depth=depth))\n",
    "            model_mml.fit(x_train_cv_mml, y_train_cv_mml)\n",
    "            # Score on validation data\n",
    "            scores_mml.append(f1_score(y_validate_mml, y_pred_cv_mml, average='samples'))\n",
    "        \n",
    "        # Record and report accuracy\n",
    "        average_score_mml = np.mean(scores_mml)\n",
    "        #print \"Trees:\", trees, \"Depth:\", depth, \"Score:\", average_score\n",
    "        \n",
    "        # Update our record of the best parameters see so far\n",
    "        if average_score_mml > best_score_mml:\n",
    "            best_score_mml = average_score_mml\n",
    "            best_trees_mml = trees\n",
    "            best_depth_mml = depth\n",
    "\n",
    "# Fit model on entire train set using chosen number of trees and depth\n",
    "model_mml = OneVsRestClassifier(ensemble.RandomForestClassifier(n_estimators=best_trees, max_depth=best_depth))\n",
    "model_mml.fit(x_mml_train, Y_mml_train)\n",
    "\n",
    "print 'Chosen number of trees, depth:', best_trees_mml, ',', best_depth_mml\n",
    "print 'Test accuracy:', model.score(x_mml_test, Y_mml_test)"
   ]
  },
  {
   "cell_type": "code",
   "execution_count": null,
   "metadata": {
    "collapsed": true
   },
   "outputs": [],
   "source": []
  }
 ],
 "metadata": {
  "kernelspec": {
   "display_name": "Python 2",
   "language": "python",
   "name": "python2"
  },
  "language_info": {
   "codemirror_mode": {
    "name": "ipython",
    "version": 2
   },
   "file_extension": ".py",
   "mimetype": "text/x-python",
   "name": "python",
   "nbconvert_exporter": "python",
   "pygments_lexer": "ipython2",
   "version": "2.7.12"
  }
 },
 "nbformat": 4,
 "nbformat_minor": 0
}
