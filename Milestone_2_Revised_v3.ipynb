{
 "cells": [
  {
   "cell_type": "markdown",
   "metadata": {},
   "source": [
    "# CS 109B Advanced Topics in Data Science, Final Project, Milestone 2"
   ]
  },
  {
   "cell_type": "markdown",
   "metadata": {},
   "source": [
    "## Group 9 - Steve Robbins, Chad Tsang, and Ted Heuer\n",
    "**Harvard University**<br>\n",
    "**Spring 2017**<br>\n",
    "**Due Date: ** Wednesday, April 12th, 2017 at 11:59pm"
   ]
  },
  {
   "cell_type": "markdown",
   "metadata": {},
   "source": [
    "## Milestone 2: Assembling training data, due Wednesday, April 12, 2017\n",
    "\n",
    "We are aware that you have little time this week, due to the midterm. So this milestone is a bit easier to achieve than the others. The goal for this week is to prepare the data for the modeling phase of the project. You should end up with a typical data setup of training data X and data labels Y.\n",
    "\n",
    "The exact form of X and Y depends on the ideas you had previously. In general though Y should involve the genre of a movie, and X the features you want to include to predict the genre. Remember from the lecture that more features does not necessarily equal better prediction performance. Use your application knowledge and the insight you gathered from your genre pair analysis and additional EDA to design Y. Do you want to include all genres? Are there genres that you assume to be easier to separate than others? Are there genres that could be grouped together? There is no one right answer here. We are looking for your insight, so be sure to describe your decision process in your notebook. \n",
    "\n",
    "In preparation for the deep learning part we strongly encourage you to have two sets of training data X, one with the metadata and one with the movie posters. Make sure to have a common key, like the movie ID, to be able to link the two sets together. Also be mindful of the data rate when you obtain the posters. Time your requests and choose which poster resolution you need. In most cases w500 should be sufficient, and probably a lower resolution will be fine.\n",
    "\n",
    "The notebook to submit this week should at least include:\n",
    "\n",
    "- Discussion about the imbalanced nature of the data and how you want to address it\n",
    "- Description of your data\n",
    "- What does your choice of Y look like?\n",
    "- Which features do you choose for X and why? \n",
    "- How do you sample your data, how many samples, and why?\n",
    "\n",
    "*Important*: You do not need to upload the data itself to Canvas."
   ]
  },
  {
   "cell_type": "markdown",
   "metadata": {},
   "source": [
    "## Solution"
   ]
  },
  {
   "cell_type": "markdown",
   "metadata": {},
   "source": [
    "For this project, to date we have extracted the raw data of 20 years of movies (1997 to 2016) from TMDB which have received over 25 votes.  The information extracted and derived is described below, organized by source and anticipated usage.  *Note that if time permits, we may elect to include additional features from alternative sources to potentially attempt to improve classification performance.*\n",
    "\n",
    "**Metadata Extracted from TMDB (*No Anticipated Predictive Value - Not included in the models*)**\n",
    "- TMDB_Genres:  The original set of TMDB genres associated to this movie.  As the response value is derived from this set, this will not be used as a predictor.\n",
    "- TMDB_Id:  The unique TMDB identifier, used for reference and data acquisition, without any anticipated predictive capability.\n",
    "- IMDB_Id:  The unique IMDB identifier, used for reference and data acquisition, without any anticipated predictive capability.\n",
    "- Original_Title:  The original title of the movie, used for display purposes.\n",
    "\n",
    "**Metadata Extracted from TMDB (*Anticipated Predictive Value - Included in the models*)**\n",
    "- Belongs_to_collection:  Indicator of whether the movie is part of a collection, trilogy, and so forth.\n",
    "- Budget:  The budget of the movie, which is envisioned to have predictive value.\n",
    "- Original_Language:  The original language of the movie, likely to have predictive strength if the dataset included more \"Foreign\" samples.\n",
    "- Overview:  The short, narrative plot summary, which could have predictive capability when reduced and NLP applied.\n",
    "- Popularity:  The popularity rating of the movie on TMDB, which may have predictive capability.\n",
    "- Poster_Path:  The remote poster filename, when combined with the base path and image size can be used to retrieve the poster image from TMDB.  This is also used as a key to the local copy of the poster image.\n",
    "- Production_Companies:  The production company(-ies) which released the movie; which is expected to have predictive value.\n",
    "- Release_Date_Month:  The month of release of the movie.  As movies of similar genres may be released during certain times of the year (such as Action in the Summer month) may have predictive strength.\n",
    "- Release_Date_Year:  The year of release of the movie.  As genres ebb/flow over the years may have predictive strength when denormalized from the Release Date into year.\n",
    "- Revenue:  The revenue the movie produced in release.\n",
    "- Runtime:  The runtime in minutes of the movie.  It is expected certain abnormal runtimes may inform the genre, such as long runtimes perhaps indicating a dramatic movie, and shorter being correlated to comedy or animation.\n",
    "- Title:  The title of the movie, generally in English, both for display purposes and if the length of the title tends to correlate to certain genres.\n",
    "- Vote_Average:  The user contributed rating of the movie.\n",
    "- Vote_Count:  The number of user votes for the movie.\n",
    "\n",
    "**Poster Images:**\n",
    "\n",
    "- The locally cached jpg images of the TMDB-identified poster (which may be different from the IMDB version) with size \"w500\", stored by filename from \"Poster Path\" in the TMDB attribute.\n",
    "\n",
    "**Derived Data:**\n",
    "- Reduced_Genre:  The reduced/simplified class to which we have elected to map the movie, namely the response category to be elaborated next.\n",
    "- Movie Poster Principal Components : The poster images will be converted to greyscale from color then have dimensionality reduction performed via PCA then images mapped to the 90% variance explained PCA components as predictors.\n",
    "- Overview Text Bag of Words Principal Components:  The overview narrative description will be converted to a vector of the corpus then have dimensionality reduction performed via PCA with the overview mapped to the 90% variance explained PCA components as predictors."
   ]
  },
  {
   "cell_type": "markdown",
   "metadata": {},
   "source": [
    "**Choice of Response Value:**\n",
    "\n",
    "The desired response variable is a reflection of the genre of the movie.  Unfortunately, the data as obtained from TMDB has one to four different genres assigned to each movie.  Concatenating the genres together without modification would result in a very significant number of classes (thousands of potential classes), more than would be practical given the quantity of data available and the time constraints of the project.  As such, we have explored a few techniques to reduce the number of genres suitable for this project.  \n",
    "\n",
    "Our first approach reduced the movies by the first genre listed, which resulted in twenty classes.  This reduction seemed a bit simplistic, so we chose to examine the genre correlations and apply heuristics to the data.  The infrequent genres were manually mapped to more common where it made intuitive sense, and correlations of the genres were examined to effectively creating a reduced number of classes, 149.  The resultant classes do include the general categories and specifics, such as \"Action\" and \"Crime/Action\", but every movie is uniquely mapped to a single class of genre tuples.  Approximately 107 of the 149 classes (72%) have very low frequencies (8% of the data) can be categorized as \"Other\". \n",
    "\n",
    "As such, we have created a synthetic response variable/class derived from the existing genre data and heuristics, denoted \"Reduce_genre\" above."
   ]
  },
  {
   "cell_type": "markdown",
   "metadata": {},
   "source": [
    "**Imbalanced nature of the data**\n",
    "\n",
    "Unfortunately, even with this normalization the response classes are highly imbalanced, resulting in 23 of the 149 reduced classes representing over 80% of the total 8,060 movies extracted, with the drama class in particular dominating with 829 (10.2%) of the 8060 movies.\n",
    "\n",
    "![](ReducedClasses.png)\n",
    "\n",
    "This would further be exacerbated by reduction to a single TMDB genre, with 3658 (45.3%) observations having drama as a listed genre.\n",
    "\n",
    "![](MoviesByGenre.png)"
   ]
  },
  {
   "cell_type": "markdown",
   "metadata": {},
   "source": [
    "**Sampling, Sampling Technique and Sample Size**\n",
    "\n",
    "We intend on addressing the class imbalance using two techniques, namely categorizing all of the extremely low frequency classes into an \"Other\" category as explained above, and employing stratified sampling with class weights.  \n",
    "\n",
    "There are a number of sampling techniques that were considered.  The simplest approach is a random sample, however due to the imbalanced nature of the data would likely focus on the few dominant classes disregarding the minority classes.  We have considered oversampling the data which would repeatedly sample the minority classes to equalize class imbalance, undersampling which would effectively ignore some data in the majority classes, synthetic data generation which was dismissed as it would be intuitively difficult to generate, and stratified sampling with class weights.  \n",
    "\n",
    "Stratified sampling preserves the class structure when performing sampling, by sampling a number of observations relative to the overall class proportion from the distinct classes, namely with the assigned genres forming the strata.  As such, any sample of the data will maintain the relative class frequencies present in the original, complete dataset.  Additionally, the class proportions (weights) are known from the overall dataset (and honored in the sample) and thus can be used to adjust for the imbalance of the classes with machine learning algorithms.\n",
    "\n",
    "Sample size will be chosen to be as large as computationally tractable for the purpose; for example during development we may find it convenient to work with a representative subset of the data, the generation of the PCA rotation matrix can be resource intensive, and cross-validation techniques rely upon sampling."
   ]
  },
  {
   "cell_type": "markdown",
   "metadata": {},
   "source": [
    "-----------------------------------"
   ]
  },
  {
   "cell_type": "markdown",
   "metadata": {},
   "source": [
    "*Supporting Code and Analysis Below*"
   ]
  },
  {
   "cell_type": "markdown",
   "metadata": {},
   "source": [
    "### Install Packages"
   ]
  },
  {
   "cell_type": "code",
   "execution_count": 659,
   "metadata": {
    "collapsed": false
   },
   "outputs": [],
   "source": [
    "#!pip install IMDbPY\n",
    "#(only supported in Python 2)\n",
    "# Documentation for IMDb library:  \n",
    "        # http://imdbpy.sourceforge.net/support.html#documentation\n",
    "        # http://imdbpy.sourceforge.net/docs/README.package.txt"
   ]
  },
  {
   "cell_type": "code",
   "execution_count": 660,
   "metadata": {
    "collapsed": false
   },
   "outputs": [],
   "source": [
    "#!pip install tmdbsimple\n",
    "# Documentation for TMDb library\n",
    "        # https://github.com/celiao/tmdbsimple/\n",
    "        # (good resource) https://developers.themoviedb.org/3/discover/movie-discover"
   ]
  },
  {
   "cell_type": "code",
   "execution_count": 661,
   "metadata": {
    "collapsed": false
   },
   "outputs": [],
   "source": [
    "from IPython.display import Image\n",
    "import urllib\n",
    "\n",
    "from imdb import IMDb\n",
    "import tmdbsimple as tmdb\n",
    "tmdb.API_KEY = 'c5d41f08e55fca6e9f5fc0b6d1735540'"
   ]
  },
  {
   "cell_type": "code",
   "execution_count": 662,
   "metadata": {
    "collapsed": true
   },
   "outputs": [],
   "source": [
    "import numpy as np\n",
    "import pandas as pd\n",
    "import matplotlib.pyplot as plt\n",
    "%matplotlib inline\n",
    "\n",
    "import matplotlib.cm as cmx\n",
    "import matplotlib.colors as colors\n",
    "from pandas.tools.plotting import scatter_matrix"
   ]
  },
  {
   "cell_type": "markdown",
   "metadata": {},
   "source": [
    "### TMDb Genres"
   ]
  },
  {
   "cell_type": "code",
   "execution_count": 663,
   "metadata": {
    "collapsed": true
   },
   "outputs": [],
   "source": [
    "num_genres = len(tmdb.Genres().list()['genres'])\n",
    "\n",
    "idx = range(0, num_genres)\n",
    "cols = ['genre_id', 'genre']\n",
    "\n",
    "tmdb_genre_df = pd.DataFrame(index=idx, columns=cols)"
   ]
  },
  {
   "cell_type": "code",
   "execution_count": 664,
   "metadata": {
    "collapsed": true
   },
   "outputs": [],
   "source": [
    "for i in range(0, num_genres):\n",
    "    tmdb_genre_df['genre_id'][i] = tmdb.Genres().list()['genres'][i].values()[0]\n",
    "    tmdb_genre_df['genre'][i] = tmdb.Genres().list()['genres'][i].values()[1]"
   ]
  },
  {
   "cell_type": "code",
   "execution_count": 665,
   "metadata": {
    "collapsed": false
   },
   "outputs": [],
   "source": [
    "foreign_df = pd.DataFrame([[10769, 'Foreign']], columns=cols) #add Foreign Movies (old genre that no longer exists)\n",
    "\n",
    "tmdb_genre_df = tmdb_genre_df.append(foreign_df, ignore_index=True)"
   ]
  },
  {
   "cell_type": "code",
   "execution_count": 666,
   "metadata": {
    "collapsed": false,
    "scrolled": false
   },
   "outputs": [
    {
     "data": {
      "text/html": [
       "<div>\n",
       "<table border=\"1\" class=\"dataframe\">\n",
       "  <thead>\n",
       "    <tr style=\"text-align: right;\">\n",
       "      <th></th>\n",
       "      <th>genre_id</th>\n",
       "      <th>genre</th>\n",
       "    </tr>\n",
       "  </thead>\n",
       "  <tbody>\n",
       "    <tr>\n",
       "      <th>0</th>\n",
       "      <td>28</td>\n",
       "      <td>Action</td>\n",
       "    </tr>\n",
       "    <tr>\n",
       "      <th>1</th>\n",
       "      <td>12</td>\n",
       "      <td>Adventure</td>\n",
       "    </tr>\n",
       "    <tr>\n",
       "      <th>2</th>\n",
       "      <td>16</td>\n",
       "      <td>Animation</td>\n",
       "    </tr>\n",
       "    <tr>\n",
       "      <th>3</th>\n",
       "      <td>35</td>\n",
       "      <td>Comedy</td>\n",
       "    </tr>\n",
       "    <tr>\n",
       "      <th>4</th>\n",
       "      <td>80</td>\n",
       "      <td>Crime</td>\n",
       "    </tr>\n",
       "    <tr>\n",
       "      <th>5</th>\n",
       "      <td>99</td>\n",
       "      <td>Documentary</td>\n",
       "    </tr>\n",
       "    <tr>\n",
       "      <th>6</th>\n",
       "      <td>18</td>\n",
       "      <td>Drama</td>\n",
       "    </tr>\n",
       "    <tr>\n",
       "      <th>7</th>\n",
       "      <td>10751</td>\n",
       "      <td>Family</td>\n",
       "    </tr>\n",
       "    <tr>\n",
       "      <th>8</th>\n",
       "      <td>14</td>\n",
       "      <td>Fantasy</td>\n",
       "    </tr>\n",
       "    <tr>\n",
       "      <th>9</th>\n",
       "      <td>36</td>\n",
       "      <td>History</td>\n",
       "    </tr>\n",
       "    <tr>\n",
       "      <th>10</th>\n",
       "      <td>27</td>\n",
       "      <td>Horror</td>\n",
       "    </tr>\n",
       "    <tr>\n",
       "      <th>11</th>\n",
       "      <td>10402</td>\n",
       "      <td>Music</td>\n",
       "    </tr>\n",
       "    <tr>\n",
       "      <th>12</th>\n",
       "      <td>9648</td>\n",
       "      <td>Mystery</td>\n",
       "    </tr>\n",
       "    <tr>\n",
       "      <th>13</th>\n",
       "      <td>10749</td>\n",
       "      <td>Romance</td>\n",
       "    </tr>\n",
       "    <tr>\n",
       "      <th>14</th>\n",
       "      <td>878</td>\n",
       "      <td>Science Fiction</td>\n",
       "    </tr>\n",
       "    <tr>\n",
       "      <th>15</th>\n",
       "      <td>10770</td>\n",
       "      <td>TV Movie</td>\n",
       "    </tr>\n",
       "    <tr>\n",
       "      <th>16</th>\n",
       "      <td>53</td>\n",
       "      <td>Thriller</td>\n",
       "    </tr>\n",
       "    <tr>\n",
       "      <th>17</th>\n",
       "      <td>10752</td>\n",
       "      <td>War</td>\n",
       "    </tr>\n",
       "    <tr>\n",
       "      <th>18</th>\n",
       "      <td>37</td>\n",
       "      <td>Western</td>\n",
       "    </tr>\n",
       "    <tr>\n",
       "      <th>19</th>\n",
       "      <td>10769</td>\n",
       "      <td>Foreign</td>\n",
       "    </tr>\n",
       "  </tbody>\n",
       "</table>\n",
       "</div>"
      ],
      "text/plain": [
       "   genre_id            genre\n",
       "0        28           Action\n",
       "1        12        Adventure\n",
       "2        16        Animation\n",
       "3        35           Comedy\n",
       "4        80            Crime\n",
       "5        99      Documentary\n",
       "6        18            Drama\n",
       "7     10751           Family\n",
       "8        14          Fantasy\n",
       "9        36          History\n",
       "10       27           Horror\n",
       "11    10402            Music\n",
       "12     9648          Mystery\n",
       "13    10749          Romance\n",
       "14      878  Science Fiction\n",
       "15    10770         TV Movie\n",
       "16       53         Thriller\n",
       "17    10752              War\n",
       "18       37          Western\n",
       "19    10769          Foreign"
      ]
     },
     "execution_count": 666,
     "metadata": {},
     "output_type": "execute_result"
    }
   ],
   "source": [
    "tmdb_genre_df"
   ]
  },
  {
   "cell_type": "markdown",
   "metadata": {},
   "source": [
    "### Get Genre Listings for Large Sample of Movies"
   ]
  },
  {
   "cell_type": "code",
   "execution_count": 667,
   "metadata": {
    "collapsed": false
   },
   "outputs": [],
   "source": [
    "discover = tmdb.Discover()"
   ]
  },
  {
   "cell_type": "code",
   "execution_count": 668,
   "metadata": {
    "collapsed": false
   },
   "outputs": [],
   "source": [
    "def movie_genres_list(year, min_votes):\n",
    "        \n",
    "    movies_in_year = discover.movie(primary_release_year=year, vote_count_gte=min_votes)\n",
    "    max_page = (movies_in_year['total_pages'] - 1)\n",
    "    movies_per_page = 20 #always 20 entries per page\n",
    "\n",
    "    idx = range(0, max_page * movies_per_page)\n",
    "    cols = ['movie_id', 'num_genres', 'id_1', 'id_2', 'id_3', 'id_4', 'id_5', \n",
    "            'id_6', 'id_7', 'id_8', 'id_9', 'id_10', 'id_11']\n",
    "\n",
    "    movies_genres_table = pd.DataFrame(index=idx, columns=cols)\n",
    "    \n",
    "    for i in range(0, max_page):\n",
    "        movies_page = discover.movie(page=(i+1), primary_release_year=year, vote_count_gte=min_votes, sort_by='vote_count.desc')\n",
    "\n",
    "        for j in range(0, movies_per_page):\n",
    "            genre_list = movies_page['results'][j]['genre_ids']\n",
    "            row_num = i * movies_per_page + j\n",
    "            movies_genres_table.iloc[row_num, 0] = movies_page['results'][j]['id']\n",
    "            movies_genres_table.iloc[row_num, 1] = len(genre_list)\n",
    "\n",
    "            for k in range(0, len(genre_list)):\n",
    "                movies_genres_table.loc[row_num][k+2] = genre_list[k]\n",
    "                \n",
    "    return movies_genres_table"
   ]
  },
  {
   "cell_type": "code",
   "execution_count": 669,
   "metadata": {
    "collapsed": true
   },
   "outputs": [],
   "source": [
    "min_votes=25"
   ]
  },
  {
   "cell_type": "markdown",
   "metadata": {},
   "source": [
    "###### Converted Section to MARKDOWN"
   ]
  },
  {
   "cell_type": "markdown",
   "metadata": {
    "collapsed": false
   },
   "source": [
    "movies_2016 = movie_genres_list(year=2016, min_votes=min_votes)"
   ]
  },
  {
   "cell_type": "markdown",
   "metadata": {
    "collapsed": true
   },
   "source": [
    "movies_2015 = movie_genres_list(year=2015, min_votes=min_votes)"
   ]
  },
  {
   "cell_type": "markdown",
   "metadata": {
    "collapsed": false
   },
   "source": [
    "movies_2014 = movie_genres_list(year=2014, min_votes=min_votes)"
   ]
  },
  {
   "cell_type": "markdown",
   "metadata": {
    "collapsed": true
   },
   "source": [
    "movies_2013 = movie_genres_list(year=2013, min_votes=min_votes)"
   ]
  },
  {
   "cell_type": "markdown",
   "metadata": {
    "collapsed": false
   },
   "source": [
    "movies_2012 = movie_genres_list(year=2012, min_votes=min_votes)"
   ]
  },
  {
   "cell_type": "markdown",
   "metadata": {
    "collapsed": false
   },
   "source": [
    "movies_2011 = movie_genres_list(year=2011, min_votes=min_votes)"
   ]
  },
  {
   "cell_type": "markdown",
   "metadata": {
    "collapsed": false
   },
   "source": [
    "movies_2010 = movie_genres_list(year=2010, min_votes=min_votes)"
   ]
  },
  {
   "cell_type": "markdown",
   "metadata": {
    "collapsed": false
   },
   "source": [
    "movies_2009 = movie_genres_list(year=2009, min_votes=min_votes)"
   ]
  },
  {
   "cell_type": "markdown",
   "metadata": {
    "collapsed": false
   },
   "source": [
    "movies_2008 = movie_genres_list(year=2008, min_votes=min_votes)"
   ]
  },
  {
   "cell_type": "markdown",
   "metadata": {
    "collapsed": false
   },
   "source": [
    "movies_2007 = movie_genres_list(year=2007, min_votes=min_votes)"
   ]
  },
  {
   "cell_type": "markdown",
   "metadata": {
    "collapsed": false
   },
   "source": [
    "movies_2006 = movie_genres_list(year=2006, min_votes=min_votes)"
   ]
  },
  {
   "cell_type": "markdown",
   "metadata": {
    "collapsed": false
   },
   "source": [
    "movies_2005 = movie_genres_list(year=2005, min_votes=min_votes)"
   ]
  },
  {
   "cell_type": "markdown",
   "metadata": {
    "collapsed": false
   },
   "source": [
    "movies_2004 = movie_genres_list(year=2004, min_votes=min_votes)"
   ]
  },
  {
   "cell_type": "markdown",
   "metadata": {
    "collapsed": false
   },
   "source": [
    "movies_2003 = movie_genres_list(year=2003, min_votes=min_votes)"
   ]
  },
  {
   "cell_type": "markdown",
   "metadata": {
    "collapsed": false
   },
   "source": [
    "movies_2002 = movie_genres_list(year=2002, min_votes=min_votes)"
   ]
  },
  {
   "cell_type": "markdown",
   "metadata": {
    "collapsed": false
   },
   "source": [
    "movies_2001 = movie_genres_list(year=2001, min_votes=min_votes)"
   ]
  },
  {
   "cell_type": "markdown",
   "metadata": {
    "collapsed": false
   },
   "source": [
    "movies_2000 = movie_genres_list(year=2000, min_votes=min_votes)"
   ]
  },
  {
   "cell_type": "markdown",
   "metadata": {
    "collapsed": false
   },
   "source": [
    "movies_1999 = movie_genres_list(year=1999, min_votes=min_votes)"
   ]
  },
  {
   "cell_type": "markdown",
   "metadata": {
    "collapsed": false
   },
   "source": [
    "movies_1998 = movie_genres_list(year=1998, min_votes=min_votes)"
   ]
  },
  {
   "cell_type": "markdown",
   "metadata": {
    "collapsed": false
   },
   "source": [
    "movies_1997 = movie_genres_list(year=1997, min_votes=min_votes)"
   ]
  },
  {
   "cell_type": "markdown",
   "metadata": {
    "collapsed": false
   },
   "source": [
    "movies_genres_raw_TMDb = pd.concat([movies_2016, movies_2015, movies_2014, movies_2013, movies_2012, movies_2011, \n",
    "                                   movies_2010, movies_2009, movies_2008, movies_2007, movies_2006, movies_2005, \n",
    "                                   movies_2004, movies_2003, movies_2002, movies_2001, movies_2000, movies_1999, \n",
    "                                   movies_1998, movies_1997])"
   ]
  },
  {
   "cell_type": "markdown",
   "metadata": {},
   "source": [
    "movies_genres_raw_TMDb = movies_genres_raw_TMDb.fillna(0)"
   ]
  },
  {
   "cell_type": "code",
   "execution_count": null,
   "metadata": {
    "collapsed": true
   },
   "outputs": [],
   "source": []
  },
  {
   "cell_type": "markdown",
   "metadata": {},
   "source": [
    "### Write and Read Raw TMDb Genres File Locally"
   ]
  },
  {
   "cell_type": "code",
   "execution_count": 670,
   "metadata": {
    "collapsed": true
   },
   "outputs": [],
   "source": [
    "#movies_genres_raw_TMDb.to_csv('movies_genres_raw_TMDb', index=False)"
   ]
  },
  {
   "cell_type": "code",
   "execution_count": 671,
   "metadata": {
    "collapsed": false
   },
   "outputs": [],
   "source": [
    "movies_genres_raw = pd.read_csv('movies_genres_raw_TMDb.csv')"
   ]
  },
  {
   "cell_type": "markdown",
   "metadata": {},
   "source": [
    "### Create Table Showing How Genres Relate to Eachother"
   ]
  },
  {
   "cell_type": "code",
   "execution_count": 672,
   "metadata": {
    "collapsed": false
   },
   "outputs": [],
   "source": [
    "def create_genre_pairs(tmdb_genre_df, movies_genres):\n",
    "\n",
    "    idx = tmdb_genre_df['genre_id']\n",
    "    cols = tmdb_genre_df['genre_id']\n",
    "\n",
    "    genre_pairs_table = pd.DataFrame(index=idx, columns=cols)\n",
    "    genre_pairs_table = genre_pairs_table.fillna(0)\n",
    "\n",
    "    total_movies = len(movies_genres)\n",
    "\n",
    "    for row_num in range(0, total_movies):\n",
    "\n",
    "        num_genres = movies_genres.iloc[row_num, 1]\n",
    "\n",
    "        for i in range(0, num_genres):\n",
    "\n",
    "            for j in range(0, num_genres):\n",
    "\n",
    "                x = movies_genres.iloc[row_num, i+2]\n",
    "                y = movies_genres.iloc[row_num, j+2]\n",
    "                genre_pairs_table.loc[x, y] = genre_pairs_table.loc[x, y] + 1\n",
    "\n",
    "    genre_pairs_table_names = genre_pairs_table.copy()\n",
    "\n",
    "    new_idx = tmdb_genre_df['genre']\n",
    "    new_cols = tmdb_genre_df['genre']\n",
    "\n",
    "    genre_pairs_table_names.columns = new_cols\n",
    "    genre_pairs_table_names = genre_pairs_table_names.set_index(new_idx)\n",
    "\n",
    "    return genre_pairs_table_names"
   ]
  },
  {
   "cell_type": "code",
   "execution_count": 673,
   "metadata": {
    "collapsed": false
   },
   "outputs": [],
   "source": [
    "genre_pairs_raw = create_genre_pairs(tmdb_genre_df, movies_genres_raw)"
   ]
  },
  {
   "cell_type": "code",
   "execution_count": 674,
   "metadata": {
    "collapsed": false
   },
   "outputs": [
    {
     "data": {
      "text/html": [
       "<div>\n",
       "<table border=\"1\" class=\"dataframe\">\n",
       "  <thead>\n",
       "    <tr style=\"text-align: right;\">\n",
       "      <th>genre</th>\n",
       "      <th>Action</th>\n",
       "      <th>Adventure</th>\n",
       "      <th>Animation</th>\n",
       "      <th>Comedy</th>\n",
       "      <th>Crime</th>\n",
       "      <th>Documentary</th>\n",
       "      <th>Drama</th>\n",
       "      <th>Family</th>\n",
       "      <th>Fantasy</th>\n",
       "      <th>History</th>\n",
       "      <th>Horror</th>\n",
       "      <th>Music</th>\n",
       "      <th>Mystery</th>\n",
       "      <th>Romance</th>\n",
       "      <th>Science Fiction</th>\n",
       "      <th>TV Movie</th>\n",
       "      <th>Thriller</th>\n",
       "      <th>War</th>\n",
       "      <th>Western</th>\n",
       "      <th>Foreign</th>\n",
       "    </tr>\n",
       "    <tr>\n",
       "      <th>genre</th>\n",
       "      <th></th>\n",
       "      <th></th>\n",
       "      <th></th>\n",
       "      <th></th>\n",
       "      <th></th>\n",
       "      <th></th>\n",
       "      <th></th>\n",
       "      <th></th>\n",
       "      <th></th>\n",
       "      <th></th>\n",
       "      <th></th>\n",
       "      <th></th>\n",
       "      <th></th>\n",
       "      <th></th>\n",
       "      <th></th>\n",
       "      <th></th>\n",
       "      <th></th>\n",
       "      <th></th>\n",
       "      <th></th>\n",
       "      <th></th>\n",
       "    </tr>\n",
       "  </thead>\n",
       "  <tbody>\n",
       "    <tr>\n",
       "      <th>Action</th>\n",
       "      <td>1760</td>\n",
       "      <td>590</td>\n",
       "      <td>150</td>\n",
       "      <td>371</td>\n",
       "      <td>438</td>\n",
       "      <td>7</td>\n",
       "      <td>534</td>\n",
       "      <td>90</td>\n",
       "      <td>232</td>\n",
       "      <td>78</td>\n",
       "      <td>166</td>\n",
       "      <td>8</td>\n",
       "      <td>92</td>\n",
       "      <td>87</td>\n",
       "      <td>421</td>\n",
       "      <td>7</td>\n",
       "      <td>784</td>\n",
       "      <td>65</td>\n",
       "      <td>26</td>\n",
       "      <td>5</td>\n",
       "    </tr>\n",
       "    <tr>\n",
       "      <th>Adventure</th>\n",
       "      <td>590</td>\n",
       "      <td>1060</td>\n",
       "      <td>236</td>\n",
       "      <td>317</td>\n",
       "      <td>67</td>\n",
       "      <td>7</td>\n",
       "      <td>251</td>\n",
       "      <td>298</td>\n",
       "      <td>305</td>\n",
       "      <td>42</td>\n",
       "      <td>47</td>\n",
       "      <td>9</td>\n",
       "      <td>41</td>\n",
       "      <td>75</td>\n",
       "      <td>250</td>\n",
       "      <td>20</td>\n",
       "      <td>227</td>\n",
       "      <td>27</td>\n",
       "      <td>22</td>\n",
       "      <td>2</td>\n",
       "    </tr>\n",
       "    <tr>\n",
       "      <th>Animation</th>\n",
       "      <td>150</td>\n",
       "      <td>236</td>\n",
       "      <td>632</td>\n",
       "      <td>224</td>\n",
       "      <td>9</td>\n",
       "      <td>5</td>\n",
       "      <td>63</td>\n",
       "      <td>365</td>\n",
       "      <td>166</td>\n",
       "      <td>1</td>\n",
       "      <td>13</td>\n",
       "      <td>19</td>\n",
       "      <td>15</td>\n",
       "      <td>26</td>\n",
       "      <td>121</td>\n",
       "      <td>8</td>\n",
       "      <td>24</td>\n",
       "      <td>1</td>\n",
       "      <td>3</td>\n",
       "      <td>1</td>\n",
       "    </tr>\n",
       "    <tr>\n",
       "      <th>Comedy</th>\n",
       "      <td>371</td>\n",
       "      <td>317</td>\n",
       "      <td>224</td>\n",
       "      <td>2858</td>\n",
       "      <td>250</td>\n",
       "      <td>20</td>\n",
       "      <td>938</td>\n",
       "      <td>410</td>\n",
       "      <td>224</td>\n",
       "      <td>16</td>\n",
       "      <td>140</td>\n",
       "      <td>109</td>\n",
       "      <td>52</td>\n",
       "      <td>690</td>\n",
       "      <td>144</td>\n",
       "      <td>40</td>\n",
       "      <td>173</td>\n",
       "      <td>9</td>\n",
       "      <td>17</td>\n",
       "      <td>6</td>\n",
       "    </tr>\n",
       "    <tr>\n",
       "      <th>Crime</th>\n",
       "      <td>438</td>\n",
       "      <td>67</td>\n",
       "      <td>9</td>\n",
       "      <td>250</td>\n",
       "      <td>1042</td>\n",
       "      <td>9</td>\n",
       "      <td>596</td>\n",
       "      <td>7</td>\n",
       "      <td>15</td>\n",
       "      <td>15</td>\n",
       "      <td>63</td>\n",
       "      <td>10</td>\n",
       "      <td>174</td>\n",
       "      <td>54</td>\n",
       "      <td>23</td>\n",
       "      <td>5</td>\n",
       "      <td>635</td>\n",
       "      <td>6</td>\n",
       "      <td>9</td>\n",
       "      <td>1</td>\n",
       "    </tr>\n",
       "    <tr>\n",
       "      <th>Documentary</th>\n",
       "      <td>7</td>\n",
       "      <td>7</td>\n",
       "      <td>5</td>\n",
       "      <td>20</td>\n",
       "      <td>9</td>\n",
       "      <td>314</td>\n",
       "      <td>24</td>\n",
       "      <td>11</td>\n",
       "      <td>1</td>\n",
       "      <td>13</td>\n",
       "      <td>3</td>\n",
       "      <td>36</td>\n",
       "      <td>1</td>\n",
       "      <td>0</td>\n",
       "      <td>1</td>\n",
       "      <td>2</td>\n",
       "      <td>4</td>\n",
       "      <td>8</td>\n",
       "      <td>0</td>\n",
       "      <td>3</td>\n",
       "    </tr>\n",
       "    <tr>\n",
       "      <th>Drama</th>\n",
       "      <td>534</td>\n",
       "      <td>251</td>\n",
       "      <td>63</td>\n",
       "      <td>938</td>\n",
       "      <td>596</td>\n",
       "      <td>24</td>\n",
       "      <td>3658</td>\n",
       "      <td>134</td>\n",
       "      <td>186</td>\n",
       "      <td>222</td>\n",
       "      <td>206</td>\n",
       "      <td>130</td>\n",
       "      <td>288</td>\n",
       "      <td>841</td>\n",
       "      <td>171</td>\n",
       "      <td>47</td>\n",
       "      <td>969</td>\n",
       "      <td>148</td>\n",
       "      <td>29</td>\n",
       "      <td>17</td>\n",
       "    </tr>\n",
       "    <tr>\n",
       "      <th>Family</th>\n",
       "      <td>90</td>\n",
       "      <td>298</td>\n",
       "      <td>365</td>\n",
       "      <td>410</td>\n",
       "      <td>7</td>\n",
       "      <td>11</td>\n",
       "      <td>134</td>\n",
       "      <td>747</td>\n",
       "      <td>210</td>\n",
       "      <td>2</td>\n",
       "      <td>3</td>\n",
       "      <td>34</td>\n",
       "      <td>10</td>\n",
       "      <td>70</td>\n",
       "      <td>75</td>\n",
       "      <td>45</td>\n",
       "      <td>11</td>\n",
       "      <td>0</td>\n",
       "      <td>2</td>\n",
       "      <td>2</td>\n",
       "    </tr>\n",
       "    <tr>\n",
       "      <th>Fantasy</th>\n",
       "      <td>232</td>\n",
       "      <td>305</td>\n",
       "      <td>166</td>\n",
       "      <td>224</td>\n",
       "      <td>15</td>\n",
       "      <td>1</td>\n",
       "      <td>186</td>\n",
       "      <td>210</td>\n",
       "      <td>687</td>\n",
       "      <td>3</td>\n",
       "      <td>87</td>\n",
       "      <td>13</td>\n",
       "      <td>53</td>\n",
       "      <td>93</td>\n",
       "      <td>156</td>\n",
       "      <td>18</td>\n",
       "      <td>110</td>\n",
       "      <td>3</td>\n",
       "      <td>3</td>\n",
       "      <td>0</td>\n",
       "    </tr>\n",
       "    <tr>\n",
       "      <th>History</th>\n",
       "      <td>78</td>\n",
       "      <td>42</td>\n",
       "      <td>1</td>\n",
       "      <td>16</td>\n",
       "      <td>15</td>\n",
       "      <td>13</td>\n",
       "      <td>222</td>\n",
       "      <td>2</td>\n",
       "      <td>3</td>\n",
       "      <td>258</td>\n",
       "      <td>3</td>\n",
       "      <td>2</td>\n",
       "      <td>4</td>\n",
       "      <td>29</td>\n",
       "      <td>1</td>\n",
       "      <td>5</td>\n",
       "      <td>36</td>\n",
       "      <td>67</td>\n",
       "      <td>1</td>\n",
       "      <td>2</td>\n",
       "    </tr>\n",
       "    <tr>\n",
       "      <th>Horror</th>\n",
       "      <td>166</td>\n",
       "      <td>47</td>\n",
       "      <td>13</td>\n",
       "      <td>140</td>\n",
       "      <td>63</td>\n",
       "      <td>3</td>\n",
       "      <td>206</td>\n",
       "      <td>3</td>\n",
       "      <td>87</td>\n",
       "      <td>3</td>\n",
       "      <td>1101</td>\n",
       "      <td>5</td>\n",
       "      <td>187</td>\n",
       "      <td>21</td>\n",
       "      <td>177</td>\n",
       "      <td>12</td>\n",
       "      <td>645</td>\n",
       "      <td>2</td>\n",
       "      <td>10</td>\n",
       "      <td>3</td>\n",
       "    </tr>\n",
       "    <tr>\n",
       "      <th>Music</th>\n",
       "      <td>8</td>\n",
       "      <td>9</td>\n",
       "      <td>19</td>\n",
       "      <td>109</td>\n",
       "      <td>10</td>\n",
       "      <td>36</td>\n",
       "      <td>130</td>\n",
       "      <td>34</td>\n",
       "      <td>13</td>\n",
       "      <td>2</td>\n",
       "      <td>5</td>\n",
       "      <td>236</td>\n",
       "      <td>4</td>\n",
       "      <td>60</td>\n",
       "      <td>6</td>\n",
       "      <td>12</td>\n",
       "      <td>5</td>\n",
       "      <td>3</td>\n",
       "      <td>0</td>\n",
       "      <td>1</td>\n",
       "    </tr>\n",
       "    <tr>\n",
       "      <th>Mystery</th>\n",
       "      <td>92</td>\n",
       "      <td>41</td>\n",
       "      <td>15</td>\n",
       "      <td>52</td>\n",
       "      <td>174</td>\n",
       "      <td>1</td>\n",
       "      <td>288</td>\n",
       "      <td>10</td>\n",
       "      <td>53</td>\n",
       "      <td>4</td>\n",
       "      <td>187</td>\n",
       "      <td>4</td>\n",
       "      <td>593</td>\n",
       "      <td>39</td>\n",
       "      <td>71</td>\n",
       "      <td>6</td>\n",
       "      <td>421</td>\n",
       "      <td>5</td>\n",
       "      <td>2</td>\n",
       "      <td>2</td>\n",
       "    </tr>\n",
       "    <tr>\n",
       "      <th>Romance</th>\n",
       "      <td>87</td>\n",
       "      <td>75</td>\n",
       "      <td>26</td>\n",
       "      <td>690</td>\n",
       "      <td>54</td>\n",
       "      <td>0</td>\n",
       "      <td>841</td>\n",
       "      <td>70</td>\n",
       "      <td>93</td>\n",
       "      <td>29</td>\n",
       "      <td>21</td>\n",
       "      <td>60</td>\n",
       "      <td>39</td>\n",
       "      <td>1247</td>\n",
       "      <td>46</td>\n",
       "      <td>13</td>\n",
       "      <td>103</td>\n",
       "      <td>24</td>\n",
       "      <td>6</td>\n",
       "      <td>8</td>\n",
       "    </tr>\n",
       "    <tr>\n",
       "      <th>Science Fiction</th>\n",
       "      <td>421</td>\n",
       "      <td>250</td>\n",
       "      <td>121</td>\n",
       "      <td>144</td>\n",
       "      <td>23</td>\n",
       "      <td>1</td>\n",
       "      <td>171</td>\n",
       "      <td>75</td>\n",
       "      <td>156</td>\n",
       "      <td>1</td>\n",
       "      <td>177</td>\n",
       "      <td>6</td>\n",
       "      <td>71</td>\n",
       "      <td>46</td>\n",
       "      <td>824</td>\n",
       "      <td>14</td>\n",
       "      <td>320</td>\n",
       "      <td>5</td>\n",
       "      <td>3</td>\n",
       "      <td>1</td>\n",
       "    </tr>\n",
       "    <tr>\n",
       "      <th>TV Movie</th>\n",
       "      <td>7</td>\n",
       "      <td>20</td>\n",
       "      <td>8</td>\n",
       "      <td>40</td>\n",
       "      <td>5</td>\n",
       "      <td>2</td>\n",
       "      <td>47</td>\n",
       "      <td>45</td>\n",
       "      <td>18</td>\n",
       "      <td>5</td>\n",
       "      <td>12</td>\n",
       "      <td>12</td>\n",
       "      <td>6</td>\n",
       "      <td>13</td>\n",
       "      <td>14</td>\n",
       "      <td>102</td>\n",
       "      <td>11</td>\n",
       "      <td>0</td>\n",
       "      <td>0</td>\n",
       "      <td>0</td>\n",
       "    </tr>\n",
       "    <tr>\n",
       "      <th>Thriller</th>\n",
       "      <td>784</td>\n",
       "      <td>227</td>\n",
       "      <td>24</td>\n",
       "      <td>173</td>\n",
       "      <td>635</td>\n",
       "      <td>4</td>\n",
       "      <td>969</td>\n",
       "      <td>11</td>\n",
       "      <td>110</td>\n",
       "      <td>36</td>\n",
       "      <td>645</td>\n",
       "      <td>5</td>\n",
       "      <td>421</td>\n",
       "      <td>103</td>\n",
       "      <td>320</td>\n",
       "      <td>11</td>\n",
       "      <td>2206</td>\n",
       "      <td>37</td>\n",
       "      <td>17</td>\n",
       "      <td>4</td>\n",
       "    </tr>\n",
       "    <tr>\n",
       "      <th>War</th>\n",
       "      <td>65</td>\n",
       "      <td>27</td>\n",
       "      <td>1</td>\n",
       "      <td>9</td>\n",
       "      <td>6</td>\n",
       "      <td>8</td>\n",
       "      <td>148</td>\n",
       "      <td>0</td>\n",
       "      <td>3</td>\n",
       "      <td>67</td>\n",
       "      <td>2</td>\n",
       "      <td>3</td>\n",
       "      <td>5</td>\n",
       "      <td>24</td>\n",
       "      <td>5</td>\n",
       "      <td>0</td>\n",
       "      <td>37</td>\n",
       "      <td>191</td>\n",
       "      <td>2</td>\n",
       "      <td>0</td>\n",
       "    </tr>\n",
       "    <tr>\n",
       "      <th>Western</th>\n",
       "      <td>26</td>\n",
       "      <td>22</td>\n",
       "      <td>3</td>\n",
       "      <td>17</td>\n",
       "      <td>9</td>\n",
       "      <td>0</td>\n",
       "      <td>29</td>\n",
       "      <td>2</td>\n",
       "      <td>3</td>\n",
       "      <td>1</td>\n",
       "      <td>10</td>\n",
       "      <td>0</td>\n",
       "      <td>2</td>\n",
       "      <td>6</td>\n",
       "      <td>3</td>\n",
       "      <td>0</td>\n",
       "      <td>17</td>\n",
       "      <td>2</td>\n",
       "      <td>70</td>\n",
       "      <td>0</td>\n",
       "    </tr>\n",
       "    <tr>\n",
       "      <th>Foreign</th>\n",
       "      <td>5</td>\n",
       "      <td>2</td>\n",
       "      <td>1</td>\n",
       "      <td>6</td>\n",
       "      <td>1</td>\n",
       "      <td>3</td>\n",
       "      <td>17</td>\n",
       "      <td>2</td>\n",
       "      <td>0</td>\n",
       "      <td>2</td>\n",
       "      <td>3</td>\n",
       "      <td>1</td>\n",
       "      <td>2</td>\n",
       "      <td>8</td>\n",
       "      <td>1</td>\n",
       "      <td>0</td>\n",
       "      <td>4</td>\n",
       "      <td>0</td>\n",
       "      <td>0</td>\n",
       "      <td>25</td>\n",
       "    </tr>\n",
       "  </tbody>\n",
       "</table>\n",
       "</div>"
      ],
      "text/plain": [
       "genre            Action  Adventure  Animation  Comedy  Crime  Documentary  \\\n",
       "genre                                                                       \n",
       "Action             1760        590        150     371    438            7   \n",
       "Adventure           590       1060        236     317     67            7   \n",
       "Animation           150        236        632     224      9            5   \n",
       "Comedy              371        317        224    2858    250           20   \n",
       "Crime               438         67          9     250   1042            9   \n",
       "Documentary           7          7          5      20      9          314   \n",
       "Drama               534        251         63     938    596           24   \n",
       "Family               90        298        365     410      7           11   \n",
       "Fantasy             232        305        166     224     15            1   \n",
       "History              78         42          1      16     15           13   \n",
       "Horror              166         47         13     140     63            3   \n",
       "Music                 8          9         19     109     10           36   \n",
       "Mystery              92         41         15      52    174            1   \n",
       "Romance              87         75         26     690     54            0   \n",
       "Science Fiction     421        250        121     144     23            1   \n",
       "TV Movie              7         20          8      40      5            2   \n",
       "Thriller            784        227         24     173    635            4   \n",
       "War                  65         27          1       9      6            8   \n",
       "Western              26         22          3      17      9            0   \n",
       "Foreign               5          2          1       6      1            3   \n",
       "\n",
       "genre            Drama  Family  Fantasy  History  Horror  Music  Mystery  \\\n",
       "genre                                                                      \n",
       "Action             534      90      232       78     166      8       92   \n",
       "Adventure          251     298      305       42      47      9       41   \n",
       "Animation           63     365      166        1      13     19       15   \n",
       "Comedy             938     410      224       16     140    109       52   \n",
       "Crime              596       7       15       15      63     10      174   \n",
       "Documentary         24      11        1       13       3     36        1   \n",
       "Drama             3658     134      186      222     206    130      288   \n",
       "Family             134     747      210        2       3     34       10   \n",
       "Fantasy            186     210      687        3      87     13       53   \n",
       "History            222       2        3      258       3      2        4   \n",
       "Horror             206       3       87        3    1101      5      187   \n",
       "Music              130      34       13        2       5    236        4   \n",
       "Mystery            288      10       53        4     187      4      593   \n",
       "Romance            841      70       93       29      21     60       39   \n",
       "Science Fiction    171      75      156        1     177      6       71   \n",
       "TV Movie            47      45       18        5      12     12        6   \n",
       "Thriller           969      11      110       36     645      5      421   \n",
       "War                148       0        3       67       2      3        5   \n",
       "Western             29       2        3        1      10      0        2   \n",
       "Foreign             17       2        0        2       3      1        2   \n",
       "\n",
       "genre            Romance  Science Fiction  TV Movie  Thriller  War  Western  \\\n",
       "genre                                                                         \n",
       "Action                87              421         7       784   65       26   \n",
       "Adventure             75              250        20       227   27       22   \n",
       "Animation             26              121         8        24    1        3   \n",
       "Comedy               690              144        40       173    9       17   \n",
       "Crime                 54               23         5       635    6        9   \n",
       "Documentary            0                1         2         4    8        0   \n",
       "Drama                841              171        47       969  148       29   \n",
       "Family                70               75        45        11    0        2   \n",
       "Fantasy               93              156        18       110    3        3   \n",
       "History               29                1         5        36   67        1   \n",
       "Horror                21              177        12       645    2       10   \n",
       "Music                 60                6        12         5    3        0   \n",
       "Mystery               39               71         6       421    5        2   \n",
       "Romance             1247               46        13       103   24        6   \n",
       "Science Fiction       46              824        14       320    5        3   \n",
       "TV Movie              13               14       102        11    0        0   \n",
       "Thriller             103              320        11      2206   37       17   \n",
       "War                   24                5         0        37  191        2   \n",
       "Western                6                3         0        17    2       70   \n",
       "Foreign                8                1         0         4    0        0   \n",
       "\n",
       "genre            Foreign  \n",
       "genre                     \n",
       "Action                 5  \n",
       "Adventure              2  \n",
       "Animation              1  \n",
       "Comedy                 6  \n",
       "Crime                  1  \n",
       "Documentary            3  \n",
       "Drama                 17  \n",
       "Family                 2  \n",
       "Fantasy                0  \n",
       "History                2  \n",
       "Horror                 3  \n",
       "Music                  1  \n",
       "Mystery                2  \n",
       "Romance                8  \n",
       "Science Fiction        1  \n",
       "TV Movie               0  \n",
       "Thriller               4  \n",
       "War                    0  \n",
       "Western                0  \n",
       "Foreign               25  "
      ]
     },
     "execution_count": 674,
     "metadata": {},
     "output_type": "execute_result"
    }
   ],
   "source": [
    "genre_pairs_raw"
   ]
  },
  {
   "cell_type": "markdown",
   "metadata": {},
   "source": [
    "### Total Number of Genre Listings for All Movies"
   ]
  },
  {
   "cell_type": "code",
   "execution_count": 675,
   "metadata": {
    "collapsed": false
   },
   "outputs": [],
   "source": [
    "def get_genre_totals(tmdb_genre_df, genre_pairs):\n",
    "\n",
    "    idx = tmdb_genre_df['genre']\n",
    "    cols = ['num_movies_with_genre']\n",
    "\n",
    "    genre_totals = pd.DataFrame(index=idx, columns=cols)\n",
    "\n",
    "    for i in range(0, len(genre_totals)):\n",
    "        genre_totals.iloc[i,0] = genre_pairs.ix[tmdb_genre_df['genre'][i], tmdb_genre_df['genre'][i]]\n",
    "        \n",
    "    return genre_totals"
   ]
  },
  {
   "cell_type": "code",
   "execution_count": 676,
   "metadata": {
    "collapsed": false
   },
   "outputs": [
    {
     "data": {
      "text/html": [
       "<div>\n",
       "<table border=\"1\" class=\"dataframe\">\n",
       "  <thead>\n",
       "    <tr style=\"text-align: right;\">\n",
       "      <th></th>\n",
       "      <th>num_movies_with_genre</th>\n",
       "    </tr>\n",
       "    <tr>\n",
       "      <th>genre</th>\n",
       "      <th></th>\n",
       "    </tr>\n",
       "  </thead>\n",
       "  <tbody>\n",
       "    <tr>\n",
       "      <th>Action</th>\n",
       "      <td>1760</td>\n",
       "    </tr>\n",
       "    <tr>\n",
       "      <th>Adventure</th>\n",
       "      <td>1060</td>\n",
       "    </tr>\n",
       "    <tr>\n",
       "      <th>Animation</th>\n",
       "      <td>632</td>\n",
       "    </tr>\n",
       "    <tr>\n",
       "      <th>Comedy</th>\n",
       "      <td>2858</td>\n",
       "    </tr>\n",
       "    <tr>\n",
       "      <th>Crime</th>\n",
       "      <td>1042</td>\n",
       "    </tr>\n",
       "    <tr>\n",
       "      <th>Documentary</th>\n",
       "      <td>314</td>\n",
       "    </tr>\n",
       "    <tr>\n",
       "      <th>Drama</th>\n",
       "      <td>3658</td>\n",
       "    </tr>\n",
       "    <tr>\n",
       "      <th>Family</th>\n",
       "      <td>747</td>\n",
       "    </tr>\n",
       "    <tr>\n",
       "      <th>Fantasy</th>\n",
       "      <td>687</td>\n",
       "    </tr>\n",
       "    <tr>\n",
       "      <th>History</th>\n",
       "      <td>258</td>\n",
       "    </tr>\n",
       "    <tr>\n",
       "      <th>Horror</th>\n",
       "      <td>1101</td>\n",
       "    </tr>\n",
       "    <tr>\n",
       "      <th>Music</th>\n",
       "      <td>236</td>\n",
       "    </tr>\n",
       "    <tr>\n",
       "      <th>Mystery</th>\n",
       "      <td>593</td>\n",
       "    </tr>\n",
       "    <tr>\n",
       "      <th>Romance</th>\n",
       "      <td>1247</td>\n",
       "    </tr>\n",
       "    <tr>\n",
       "      <th>Science Fiction</th>\n",
       "      <td>824</td>\n",
       "    </tr>\n",
       "    <tr>\n",
       "      <th>TV Movie</th>\n",
       "      <td>102</td>\n",
       "    </tr>\n",
       "    <tr>\n",
       "      <th>Thriller</th>\n",
       "      <td>2206</td>\n",
       "    </tr>\n",
       "    <tr>\n",
       "      <th>War</th>\n",
       "      <td>191</td>\n",
       "    </tr>\n",
       "    <tr>\n",
       "      <th>Western</th>\n",
       "      <td>70</td>\n",
       "    </tr>\n",
       "    <tr>\n",
       "      <th>Foreign</th>\n",
       "      <td>25</td>\n",
       "    </tr>\n",
       "  </tbody>\n",
       "</table>\n",
       "</div>"
      ],
      "text/plain": [
       "                num_movies_with_genre\n",
       "genre                                \n",
       "Action                           1760\n",
       "Adventure                        1060\n",
       "Animation                         632\n",
       "Comedy                           2858\n",
       "Crime                            1042\n",
       "Documentary                       314\n",
       "Drama                            3658\n",
       "Family                            747\n",
       "Fantasy                           687\n",
       "History                           258\n",
       "Horror                           1101\n",
       "Music                             236\n",
       "Mystery                           593\n",
       "Romance                          1247\n",
       "Science Fiction                   824\n",
       "TV Movie                          102\n",
       "Thriller                         2206\n",
       "War                               191\n",
       "Western                            70\n",
       "Foreign                            25"
      ]
     },
     "execution_count": 676,
     "metadata": {},
     "output_type": "execute_result"
    }
   ],
   "source": [
    "genre_totals_raw = get_genre_totals(tmdb_genre_df, genre_pairs_raw)\n",
    "genre_totals_raw"
   ]
  },
  {
   "cell_type": "code",
   "execution_count": 677,
   "metadata": {
    "collapsed": false
   },
   "outputs": [],
   "source": [
    "def plot_genre_hist(movies_genres_raw):\n",
    "    plt.hist(movies_genres_raw['num_genres'].values, \n",
    "         25)\n",
    "    plt.title('Count of Movies with # of Genres')\n",
    "    plt.xlabel('Count of Genres')\n",
    "    plt.ylabel('frequency')"
   ]
  },
  {
   "cell_type": "code",
   "execution_count": 678,
   "metadata": {
    "collapsed": false
   },
   "outputs": [
    {
     "data": {
      "image/png": "[encoded data removed]",
      "text/plain": [
       "<matplotlib.figure.Figure at 0x114c28e90>"
      ]
     },
     "metadata": {},
     "output_type": "display_data"
    }
   ],
   "source": [
    "plot_genre_hist(movies_genres_raw)"
   ]
  },
  {
   "cell_type": "markdown",
   "metadata": {},
   "source": [
    "*Check that Genre Totals Match*"
   ]
  },
  {
   "cell_type": "code",
   "execution_count": 679,
   "metadata": {
    "collapsed": false
   },
   "outputs": [
    {
     "data": {
      "text/plain": [
       "19611"
      ]
     },
     "execution_count": 679,
     "metadata": {},
     "output_type": "execute_result"
    }
   ],
   "source": [
    "sum(genre_totals_raw.iloc[:, 0])"
   ]
  },
  {
   "cell_type": "code",
   "execution_count": 680,
   "metadata": {
    "collapsed": false
   },
   "outputs": [
    {
     "data": {
      "text/plain": [
       "19611"
      ]
     },
     "execution_count": 680,
     "metadata": {},
     "output_type": "execute_result"
    }
   ],
   "source": [
    "sum(movies_genres_raw.loc[:,'num_genres'])"
   ]
  },
  {
   "cell_type": "markdown",
   "metadata": {},
   "source": [
    "### Create Heat Map of Genre Relationships"
   ]
  },
  {
   "cell_type": "code",
   "execution_count": 681,
   "metadata": {
    "collapsed": false
   },
   "outputs": [],
   "source": [
    "def norm_genre_pairs(tmdb_genre_df, genre_pairs, genre_totals):\n",
    "\n",
    "    new_idx = tmdb_genre_df['genre']\n",
    "    new_cols = tmdb_genre_df['genre']\n",
    "\n",
    "    #set the same x/y axis genre to 0 \n",
    "    genre_pairs_plot = genre_pairs.copy()\n",
    "\n",
    "    for idx in new_idx:\n",
    "        genre_pairs_plot.set_value(idx, idx, 0)\n",
    "\n",
    "    norm_genre_pairs_plot = genre_pairs_plot.copy()\n",
    "\n",
    "    for j in range(0, len(genre_totals)):\n",
    "        for i in range(0, len(genre_totals)):\n",
    "            norm_genre_pairs_plot.iloc[i, j] = float(genre_pairs_plot.iloc[i, j]) / int(genre_totals.iloc[j])\n",
    "\n",
    "    return norm_genre_pairs_plot"
   ]
  },
  {
   "cell_type": "code",
   "execution_count": 682,
   "metadata": {
    "collapsed": false
   },
   "outputs": [
    {
     "data": {
      "text/html": [
       "<div>\n",
       "<table border=\"1\" class=\"dataframe\">\n",
       "  <thead>\n",
       "    <tr style=\"text-align: right;\">\n",
       "      <th>genre</th>\n",
       "      <th>Action</th>\n",
       "      <th>Adventure</th>\n",
       "      <th>Animation</th>\n",
       "      <th>Comedy</th>\n",
       "      <th>Crime</th>\n",
       "      <th>Documentary</th>\n",
       "      <th>Drama</th>\n",
       "      <th>Family</th>\n",
       "      <th>Fantasy</th>\n",
       "      <th>History</th>\n",
       "      <th>Horror</th>\n",
       "      <th>Music</th>\n",
       "      <th>Mystery</th>\n",
       "      <th>Romance</th>\n",
       "      <th>Science Fiction</th>\n",
       "      <th>TV Movie</th>\n",
       "      <th>Thriller</th>\n",
       "      <th>War</th>\n",
       "      <th>Western</th>\n",
       "      <th>Foreign</th>\n",
       "    </tr>\n",
       "    <tr>\n",
       "      <th>genre</th>\n",
       "      <th></th>\n",
       "      <th></th>\n",
       "      <th></th>\n",
       "      <th></th>\n",
       "      <th></th>\n",
       "      <th></th>\n",
       "      <th></th>\n",
       "      <th></th>\n",
       "      <th></th>\n",
       "      <th></th>\n",
       "      <th></th>\n",
       "      <th></th>\n",
       "      <th></th>\n",
       "      <th></th>\n",
       "      <th></th>\n",
       "      <th></th>\n",
       "      <th></th>\n",
       "      <th></th>\n",
       "      <th></th>\n",
       "      <th></th>\n",
       "    </tr>\n",
       "  </thead>\n",
       "  <tbody>\n",
       "    <tr>\n",
       "      <th>Action</th>\n",
       "      <td>0.000000</td>\n",
       "      <td>0.556604</td>\n",
       "      <td>0.237342</td>\n",
       "      <td>0.129811</td>\n",
       "      <td>0.420345</td>\n",
       "      <td>0.022293</td>\n",
       "      <td>0.145981</td>\n",
       "      <td>0.120482</td>\n",
       "      <td>0.337700</td>\n",
       "      <td>0.302326</td>\n",
       "      <td>0.150772</td>\n",
       "      <td>0.033898</td>\n",
       "      <td>0.155143</td>\n",
       "      <td>0.069767</td>\n",
       "      <td>0.510922</td>\n",
       "      <td>0.068627</td>\n",
       "      <td>0.355394</td>\n",
       "      <td>0.340314</td>\n",
       "      <td>0.371429</td>\n",
       "      <td>0.20</td>\n",
       "    </tr>\n",
       "    <tr>\n",
       "      <th>Adventure</th>\n",
       "      <td>0.335227</td>\n",
       "      <td>0.000000</td>\n",
       "      <td>0.373418</td>\n",
       "      <td>0.110917</td>\n",
       "      <td>0.064299</td>\n",
       "      <td>0.022293</td>\n",
       "      <td>0.068617</td>\n",
       "      <td>0.398929</td>\n",
       "      <td>0.443959</td>\n",
       "      <td>0.162791</td>\n",
       "      <td>0.042688</td>\n",
       "      <td>0.038136</td>\n",
       "      <td>0.069140</td>\n",
       "      <td>0.060144</td>\n",
       "      <td>0.303398</td>\n",
       "      <td>0.196078</td>\n",
       "      <td>0.102901</td>\n",
       "      <td>0.141361</td>\n",
       "      <td>0.314286</td>\n",
       "      <td>0.08</td>\n",
       "    </tr>\n",
       "    <tr>\n",
       "      <th>Animation</th>\n",
       "      <td>0.085227</td>\n",
       "      <td>0.222642</td>\n",
       "      <td>0.000000</td>\n",
       "      <td>0.078376</td>\n",
       "      <td>0.008637</td>\n",
       "      <td>0.015924</td>\n",
       "      <td>0.017223</td>\n",
       "      <td>0.488621</td>\n",
       "      <td>0.241630</td>\n",
       "      <td>0.003876</td>\n",
       "      <td>0.011807</td>\n",
       "      <td>0.080508</td>\n",
       "      <td>0.025295</td>\n",
       "      <td>0.020850</td>\n",
       "      <td>0.146845</td>\n",
       "      <td>0.078431</td>\n",
       "      <td>0.010879</td>\n",
       "      <td>0.005236</td>\n",
       "      <td>0.042857</td>\n",
       "      <td>0.04</td>\n",
       "    </tr>\n",
       "    <tr>\n",
       "      <th>Comedy</th>\n",
       "      <td>0.210795</td>\n",
       "      <td>0.299057</td>\n",
       "      <td>0.354430</td>\n",
       "      <td>0.000000</td>\n",
       "      <td>0.239923</td>\n",
       "      <td>0.063694</td>\n",
       "      <td>0.256424</td>\n",
       "      <td>0.548862</td>\n",
       "      <td>0.326055</td>\n",
       "      <td>0.062016</td>\n",
       "      <td>0.127157</td>\n",
       "      <td>0.461864</td>\n",
       "      <td>0.087690</td>\n",
       "      <td>0.553328</td>\n",
       "      <td>0.174757</td>\n",
       "      <td>0.392157</td>\n",
       "      <td>0.078422</td>\n",
       "      <td>0.047120</td>\n",
       "      <td>0.242857</td>\n",
       "      <td>0.24</td>\n",
       "    </tr>\n",
       "    <tr>\n",
       "      <th>Crime</th>\n",
       "      <td>0.248864</td>\n",
       "      <td>0.063208</td>\n",
       "      <td>0.014241</td>\n",
       "      <td>0.087474</td>\n",
       "      <td>0.000000</td>\n",
       "      <td>0.028662</td>\n",
       "      <td>0.162931</td>\n",
       "      <td>0.009371</td>\n",
       "      <td>0.021834</td>\n",
       "      <td>0.058140</td>\n",
       "      <td>0.057221</td>\n",
       "      <td>0.042373</td>\n",
       "      <td>0.293423</td>\n",
       "      <td>0.043304</td>\n",
       "      <td>0.027913</td>\n",
       "      <td>0.049020</td>\n",
       "      <td>0.287851</td>\n",
       "      <td>0.031414</td>\n",
       "      <td>0.128571</td>\n",
       "      <td>0.04</td>\n",
       "    </tr>\n",
       "    <tr>\n",
       "      <th>Documentary</th>\n",
       "      <td>0.003977</td>\n",
       "      <td>0.006604</td>\n",
       "      <td>0.007911</td>\n",
       "      <td>0.006998</td>\n",
       "      <td>0.008637</td>\n",
       "      <td>0.000000</td>\n",
       "      <td>0.006561</td>\n",
       "      <td>0.014726</td>\n",
       "      <td>0.001456</td>\n",
       "      <td>0.050388</td>\n",
       "      <td>0.002725</td>\n",
       "      <td>0.152542</td>\n",
       "      <td>0.001686</td>\n",
       "      <td>0.000000</td>\n",
       "      <td>0.001214</td>\n",
       "      <td>0.019608</td>\n",
       "      <td>0.001813</td>\n",
       "      <td>0.041885</td>\n",
       "      <td>0.000000</td>\n",
       "      <td>0.12</td>\n",
       "    </tr>\n",
       "    <tr>\n",
       "      <th>Drama</th>\n",
       "      <td>0.303409</td>\n",
       "      <td>0.236792</td>\n",
       "      <td>0.099684</td>\n",
       "      <td>0.328202</td>\n",
       "      <td>0.571977</td>\n",
       "      <td>0.076433</td>\n",
       "      <td>0.000000</td>\n",
       "      <td>0.179384</td>\n",
       "      <td>0.270742</td>\n",
       "      <td>0.860465</td>\n",
       "      <td>0.187103</td>\n",
       "      <td>0.550847</td>\n",
       "      <td>0.485666</td>\n",
       "      <td>0.674419</td>\n",
       "      <td>0.207524</td>\n",
       "      <td>0.460784</td>\n",
       "      <td>0.439257</td>\n",
       "      <td>0.774869</td>\n",
       "      <td>0.414286</td>\n",
       "      <td>0.68</td>\n",
       "    </tr>\n",
       "    <tr>\n",
       "      <th>Family</th>\n",
       "      <td>0.051136</td>\n",
       "      <td>0.281132</td>\n",
       "      <td>0.577532</td>\n",
       "      <td>0.143457</td>\n",
       "      <td>0.006718</td>\n",
       "      <td>0.035032</td>\n",
       "      <td>0.036632</td>\n",
       "      <td>0.000000</td>\n",
       "      <td>0.305677</td>\n",
       "      <td>0.007752</td>\n",
       "      <td>0.002725</td>\n",
       "      <td>0.144068</td>\n",
       "      <td>0.016863</td>\n",
       "      <td>0.056135</td>\n",
       "      <td>0.091019</td>\n",
       "      <td>0.441176</td>\n",
       "      <td>0.004986</td>\n",
       "      <td>0.000000</td>\n",
       "      <td>0.028571</td>\n",
       "      <td>0.08</td>\n",
       "    </tr>\n",
       "    <tr>\n",
       "      <th>Fantasy</th>\n",
       "      <td>0.131818</td>\n",
       "      <td>0.287736</td>\n",
       "      <td>0.262658</td>\n",
       "      <td>0.078376</td>\n",
       "      <td>0.014395</td>\n",
       "      <td>0.003185</td>\n",
       "      <td>0.050847</td>\n",
       "      <td>0.281124</td>\n",
       "      <td>0.000000</td>\n",
       "      <td>0.011628</td>\n",
       "      <td>0.079019</td>\n",
       "      <td>0.055085</td>\n",
       "      <td>0.089376</td>\n",
       "      <td>0.074579</td>\n",
       "      <td>0.189320</td>\n",
       "      <td>0.176471</td>\n",
       "      <td>0.049864</td>\n",
       "      <td>0.015707</td>\n",
       "      <td>0.042857</td>\n",
       "      <td>0.00</td>\n",
       "    </tr>\n",
       "    <tr>\n",
       "      <th>History</th>\n",
       "      <td>0.044318</td>\n",
       "      <td>0.039623</td>\n",
       "      <td>0.001582</td>\n",
       "      <td>0.005598</td>\n",
       "      <td>0.014395</td>\n",
       "      <td>0.041401</td>\n",
       "      <td>0.060689</td>\n",
       "      <td>0.002677</td>\n",
       "      <td>0.004367</td>\n",
       "      <td>0.000000</td>\n",
       "      <td>0.002725</td>\n",
       "      <td>0.008475</td>\n",
       "      <td>0.006745</td>\n",
       "      <td>0.023256</td>\n",
       "      <td>0.001214</td>\n",
       "      <td>0.049020</td>\n",
       "      <td>0.016319</td>\n",
       "      <td>0.350785</td>\n",
       "      <td>0.014286</td>\n",
       "      <td>0.08</td>\n",
       "    </tr>\n",
       "    <tr>\n",
       "      <th>Horror</th>\n",
       "      <td>0.094318</td>\n",
       "      <td>0.044340</td>\n",
       "      <td>0.020570</td>\n",
       "      <td>0.048985</td>\n",
       "      <td>0.060461</td>\n",
       "      <td>0.009554</td>\n",
       "      <td>0.056315</td>\n",
       "      <td>0.004016</td>\n",
       "      <td>0.126638</td>\n",
       "      <td>0.011628</td>\n",
       "      <td>0.000000</td>\n",
       "      <td>0.021186</td>\n",
       "      <td>0.315346</td>\n",
       "      <td>0.016840</td>\n",
       "      <td>0.214806</td>\n",
       "      <td>0.117647</td>\n",
       "      <td>0.292384</td>\n",
       "      <td>0.010471</td>\n",
       "      <td>0.142857</td>\n",
       "      <td>0.12</td>\n",
       "    </tr>\n",
       "    <tr>\n",
       "      <th>Music</th>\n",
       "      <td>0.004545</td>\n",
       "      <td>0.008491</td>\n",
       "      <td>0.030063</td>\n",
       "      <td>0.038139</td>\n",
       "      <td>0.009597</td>\n",
       "      <td>0.114650</td>\n",
       "      <td>0.035539</td>\n",
       "      <td>0.045515</td>\n",
       "      <td>0.018923</td>\n",
       "      <td>0.007752</td>\n",
       "      <td>0.004541</td>\n",
       "      <td>0.000000</td>\n",
       "      <td>0.006745</td>\n",
       "      <td>0.048115</td>\n",
       "      <td>0.007282</td>\n",
       "      <td>0.117647</td>\n",
       "      <td>0.002267</td>\n",
       "      <td>0.015707</td>\n",
       "      <td>0.000000</td>\n",
       "      <td>0.04</td>\n",
       "    </tr>\n",
       "    <tr>\n",
       "      <th>Mystery</th>\n",
       "      <td>0.052273</td>\n",
       "      <td>0.038679</td>\n",
       "      <td>0.023734</td>\n",
       "      <td>0.018195</td>\n",
       "      <td>0.166987</td>\n",
       "      <td>0.003185</td>\n",
       "      <td>0.078732</td>\n",
       "      <td>0.013387</td>\n",
       "      <td>0.077147</td>\n",
       "      <td>0.015504</td>\n",
       "      <td>0.169846</td>\n",
       "      <td>0.016949</td>\n",
       "      <td>0.000000</td>\n",
       "      <td>0.031275</td>\n",
       "      <td>0.086165</td>\n",
       "      <td>0.058824</td>\n",
       "      <td>0.190843</td>\n",
       "      <td>0.026178</td>\n",
       "      <td>0.028571</td>\n",
       "      <td>0.08</td>\n",
       "    </tr>\n",
       "    <tr>\n",
       "      <th>Romance</th>\n",
       "      <td>0.049432</td>\n",
       "      <td>0.070755</td>\n",
       "      <td>0.041139</td>\n",
       "      <td>0.241428</td>\n",
       "      <td>0.051823</td>\n",
       "      <td>0.000000</td>\n",
       "      <td>0.229907</td>\n",
       "      <td>0.093708</td>\n",
       "      <td>0.135371</td>\n",
       "      <td>0.112403</td>\n",
       "      <td>0.019074</td>\n",
       "      <td>0.254237</td>\n",
       "      <td>0.065767</td>\n",
       "      <td>0.000000</td>\n",
       "      <td>0.055825</td>\n",
       "      <td>0.127451</td>\n",
       "      <td>0.046691</td>\n",
       "      <td>0.125654</td>\n",
       "      <td>0.085714</td>\n",
       "      <td>0.32</td>\n",
       "    </tr>\n",
       "    <tr>\n",
       "      <th>Science Fiction</th>\n",
       "      <td>0.239205</td>\n",
       "      <td>0.235849</td>\n",
       "      <td>0.191456</td>\n",
       "      <td>0.050385</td>\n",
       "      <td>0.022073</td>\n",
       "      <td>0.003185</td>\n",
       "      <td>0.046747</td>\n",
       "      <td>0.100402</td>\n",
       "      <td>0.227074</td>\n",
       "      <td>0.003876</td>\n",
       "      <td>0.160763</td>\n",
       "      <td>0.025424</td>\n",
       "      <td>0.119730</td>\n",
       "      <td>0.036889</td>\n",
       "      <td>0.000000</td>\n",
       "      <td>0.137255</td>\n",
       "      <td>0.145059</td>\n",
       "      <td>0.026178</td>\n",
       "      <td>0.042857</td>\n",
       "      <td>0.04</td>\n",
       "    </tr>\n",
       "    <tr>\n",
       "      <th>TV Movie</th>\n",
       "      <td>0.003977</td>\n",
       "      <td>0.018868</td>\n",
       "      <td>0.012658</td>\n",
       "      <td>0.013996</td>\n",
       "      <td>0.004798</td>\n",
       "      <td>0.006369</td>\n",
       "      <td>0.012849</td>\n",
       "      <td>0.060241</td>\n",
       "      <td>0.026201</td>\n",
       "      <td>0.019380</td>\n",
       "      <td>0.010899</td>\n",
       "      <td>0.050847</td>\n",
       "      <td>0.010118</td>\n",
       "      <td>0.010425</td>\n",
       "      <td>0.016990</td>\n",
       "      <td>0.000000</td>\n",
       "      <td>0.004986</td>\n",
       "      <td>0.000000</td>\n",
       "      <td>0.000000</td>\n",
       "      <td>0.00</td>\n",
       "    </tr>\n",
       "    <tr>\n",
       "      <th>Thriller</th>\n",
       "      <td>0.445455</td>\n",
       "      <td>0.214151</td>\n",
       "      <td>0.037975</td>\n",
       "      <td>0.060532</td>\n",
       "      <td>0.609405</td>\n",
       "      <td>0.012739</td>\n",
       "      <td>0.264899</td>\n",
       "      <td>0.014726</td>\n",
       "      <td>0.160116</td>\n",
       "      <td>0.139535</td>\n",
       "      <td>0.585831</td>\n",
       "      <td>0.021186</td>\n",
       "      <td>0.709949</td>\n",
       "      <td>0.082598</td>\n",
       "      <td>0.388350</td>\n",
       "      <td>0.107843</td>\n",
       "      <td>0.000000</td>\n",
       "      <td>0.193717</td>\n",
       "      <td>0.242857</td>\n",
       "      <td>0.16</td>\n",
       "    </tr>\n",
       "    <tr>\n",
       "      <th>War</th>\n",
       "      <td>0.036932</td>\n",
       "      <td>0.025472</td>\n",
       "      <td>0.001582</td>\n",
       "      <td>0.003149</td>\n",
       "      <td>0.005758</td>\n",
       "      <td>0.025478</td>\n",
       "      <td>0.040459</td>\n",
       "      <td>0.000000</td>\n",
       "      <td>0.004367</td>\n",
       "      <td>0.259690</td>\n",
       "      <td>0.001817</td>\n",
       "      <td>0.012712</td>\n",
       "      <td>0.008432</td>\n",
       "      <td>0.019246</td>\n",
       "      <td>0.006068</td>\n",
       "      <td>0.000000</td>\n",
       "      <td>0.016772</td>\n",
       "      <td>0.000000</td>\n",
       "      <td>0.028571</td>\n",
       "      <td>0.00</td>\n",
       "    </tr>\n",
       "    <tr>\n",
       "      <th>Western</th>\n",
       "      <td>0.014773</td>\n",
       "      <td>0.020755</td>\n",
       "      <td>0.004747</td>\n",
       "      <td>0.005948</td>\n",
       "      <td>0.008637</td>\n",
       "      <td>0.000000</td>\n",
       "      <td>0.007928</td>\n",
       "      <td>0.002677</td>\n",
       "      <td>0.004367</td>\n",
       "      <td>0.003876</td>\n",
       "      <td>0.009083</td>\n",
       "      <td>0.000000</td>\n",
       "      <td>0.003373</td>\n",
       "      <td>0.004812</td>\n",
       "      <td>0.003641</td>\n",
       "      <td>0.000000</td>\n",
       "      <td>0.007706</td>\n",
       "      <td>0.010471</td>\n",
       "      <td>0.000000</td>\n",
       "      <td>0.00</td>\n",
       "    </tr>\n",
       "    <tr>\n",
       "      <th>Foreign</th>\n",
       "      <td>0.002841</td>\n",
       "      <td>0.001887</td>\n",
       "      <td>0.001582</td>\n",
       "      <td>0.002099</td>\n",
       "      <td>0.000960</td>\n",
       "      <td>0.009554</td>\n",
       "      <td>0.004647</td>\n",
       "      <td>0.002677</td>\n",
       "      <td>0.000000</td>\n",
       "      <td>0.007752</td>\n",
       "      <td>0.002725</td>\n",
       "      <td>0.004237</td>\n",
       "      <td>0.003373</td>\n",
       "      <td>0.006415</td>\n",
       "      <td>0.001214</td>\n",
       "      <td>0.000000</td>\n",
       "      <td>0.001813</td>\n",
       "      <td>0.000000</td>\n",
       "      <td>0.000000</td>\n",
       "      <td>0.00</td>\n",
       "    </tr>\n",
       "  </tbody>\n",
       "</table>\n",
       "</div>"
      ],
      "text/plain": [
       "genre              Action  Adventure  Animation    Comedy     Crime  \\\n",
       "genre                                                                 \n",
       "Action           0.000000   0.556604   0.237342  0.129811  0.420345   \n",
       "Adventure        0.335227   0.000000   0.373418  0.110917  0.064299   \n",
       "Animation        0.085227   0.222642   0.000000  0.078376  0.008637   \n",
       "Comedy           0.210795   0.299057   0.354430  0.000000  0.239923   \n",
       "Crime            0.248864   0.063208   0.014241  0.087474  0.000000   \n",
       "Documentary      0.003977   0.006604   0.007911  0.006998  0.008637   \n",
       "Drama            0.303409   0.236792   0.099684  0.328202  0.571977   \n",
       "Family           0.051136   0.281132   0.577532  0.143457  0.006718   \n",
       "Fantasy          0.131818   0.287736   0.262658  0.078376  0.014395   \n",
       "History          0.044318   0.039623   0.001582  0.005598  0.014395   \n",
       "Horror           0.094318   0.044340   0.020570  0.048985  0.060461   \n",
       "Music            0.004545   0.008491   0.030063  0.038139  0.009597   \n",
       "Mystery          0.052273   0.038679   0.023734  0.018195  0.166987   \n",
       "Romance          0.049432   0.070755   0.041139  0.241428  0.051823   \n",
       "Science Fiction  0.239205   0.235849   0.191456  0.050385  0.022073   \n",
       "TV Movie         0.003977   0.018868   0.012658  0.013996  0.004798   \n",
       "Thriller         0.445455   0.214151   0.037975  0.060532  0.609405   \n",
       "War              0.036932   0.025472   0.001582  0.003149  0.005758   \n",
       "Western          0.014773   0.020755   0.004747  0.005948  0.008637   \n",
       "Foreign          0.002841   0.001887   0.001582  0.002099  0.000960   \n",
       "\n",
       "genre            Documentary     Drama    Family   Fantasy   History  \\\n",
       "genre                                                                  \n",
       "Action              0.022293  0.145981  0.120482  0.337700  0.302326   \n",
       "Adventure           0.022293  0.068617  0.398929  0.443959  0.162791   \n",
       "Animation           0.015924  0.017223  0.488621  0.241630  0.003876   \n",
       "Comedy              0.063694  0.256424  0.548862  0.326055  0.062016   \n",
       "Crime               0.028662  0.162931  0.009371  0.021834  0.058140   \n",
       "Documentary         0.000000  0.006561  0.014726  0.001456  0.050388   \n",
       "Drama               0.076433  0.000000  0.179384  0.270742  0.860465   \n",
       "Family              0.035032  0.036632  0.000000  0.305677  0.007752   \n",
       "Fantasy             0.003185  0.050847  0.281124  0.000000  0.011628   \n",
       "History             0.041401  0.060689  0.002677  0.004367  0.000000   \n",
       "Horror              0.009554  0.056315  0.004016  0.126638  0.011628   \n",
       "Music               0.114650  0.035539  0.045515  0.018923  0.007752   \n",
       "Mystery             0.003185  0.078732  0.013387  0.077147  0.015504   \n",
       "Romance             0.000000  0.229907  0.093708  0.135371  0.112403   \n",
       "Science Fiction     0.003185  0.046747  0.100402  0.227074  0.003876   \n",
       "TV Movie            0.006369  0.012849  0.060241  0.026201  0.019380   \n",
       "Thriller            0.012739  0.264899  0.014726  0.160116  0.139535   \n",
       "War                 0.025478  0.040459  0.000000  0.004367  0.259690   \n",
       "Western             0.000000  0.007928  0.002677  0.004367  0.003876   \n",
       "Foreign             0.009554  0.004647  0.002677  0.000000  0.007752   \n",
       "\n",
       "genre              Horror     Music   Mystery   Romance  Science Fiction  \\\n",
       "genre                                                                      \n",
       "Action           0.150772  0.033898  0.155143  0.069767         0.510922   \n",
       "Adventure        0.042688  0.038136  0.069140  0.060144         0.303398   \n",
       "Animation        0.011807  0.080508  0.025295  0.020850         0.146845   \n",
       "Comedy           0.127157  0.461864  0.087690  0.553328         0.174757   \n",
       "Crime            0.057221  0.042373  0.293423  0.043304         0.027913   \n",
       "Documentary      0.002725  0.152542  0.001686  0.000000         0.001214   \n",
       "Drama            0.187103  0.550847  0.485666  0.674419         0.207524   \n",
       "Family           0.002725  0.144068  0.016863  0.056135         0.091019   \n",
       "Fantasy          0.079019  0.055085  0.089376  0.074579         0.189320   \n",
       "History          0.002725  0.008475  0.006745  0.023256         0.001214   \n",
       "Horror           0.000000  0.021186  0.315346  0.016840         0.214806   \n",
       "Music            0.004541  0.000000  0.006745  0.048115         0.007282   \n",
       "Mystery          0.169846  0.016949  0.000000  0.031275         0.086165   \n",
       "Romance          0.019074  0.254237  0.065767  0.000000         0.055825   \n",
       "Science Fiction  0.160763  0.025424  0.119730  0.036889         0.000000   \n",
       "TV Movie         0.010899  0.050847  0.010118  0.010425         0.016990   \n",
       "Thriller         0.585831  0.021186  0.709949  0.082598         0.388350   \n",
       "War              0.001817  0.012712  0.008432  0.019246         0.006068   \n",
       "Western          0.009083  0.000000  0.003373  0.004812         0.003641   \n",
       "Foreign          0.002725  0.004237  0.003373  0.006415         0.001214   \n",
       "\n",
       "genre            TV Movie  Thriller       War   Western  Foreign  \n",
       "genre                                                             \n",
       "Action           0.068627  0.355394  0.340314  0.371429     0.20  \n",
       "Adventure        0.196078  0.102901  0.141361  0.314286     0.08  \n",
       "Animation        0.078431  0.010879  0.005236  0.042857     0.04  \n",
       "Comedy           0.392157  0.078422  0.047120  0.242857     0.24  \n",
       "Crime            0.049020  0.287851  0.031414  0.128571     0.04  \n",
       "Documentary      0.019608  0.001813  0.041885  0.000000     0.12  \n",
       "Drama            0.460784  0.439257  0.774869  0.414286     0.68  \n",
       "Family           0.441176  0.004986  0.000000  0.028571     0.08  \n",
       "Fantasy          0.176471  0.049864  0.015707  0.042857     0.00  \n",
       "History          0.049020  0.016319  0.350785  0.014286     0.08  \n",
       "Horror           0.117647  0.292384  0.010471  0.142857     0.12  \n",
       "Music            0.117647  0.002267  0.015707  0.000000     0.04  \n",
       "Mystery          0.058824  0.190843  0.026178  0.028571     0.08  \n",
       "Romance          0.127451  0.046691  0.125654  0.085714     0.32  \n",
       "Science Fiction  0.137255  0.145059  0.026178  0.042857     0.04  \n",
       "TV Movie         0.000000  0.004986  0.000000  0.000000     0.00  \n",
       "Thriller         0.107843  0.000000  0.193717  0.242857     0.16  \n",
       "War              0.000000  0.016772  0.000000  0.028571     0.00  \n",
       "Western          0.000000  0.007706  0.010471  0.000000     0.00  \n",
       "Foreign          0.000000  0.001813  0.000000  0.000000     0.00  "
      ]
     },
     "execution_count": 682,
     "metadata": {},
     "output_type": "execute_result"
    }
   ],
   "source": [
    "norm_genre_pairs_plot_raw = norm_genre_pairs(tmdb_genre_df, genre_pairs_raw, genre_totals_raw)\n",
    "norm_genre_pairs_plot_raw"
   ]
  },
  {
   "cell_type": "code",
   "execution_count": 683,
   "metadata": {
    "collapsed": false
   },
   "outputs": [],
   "source": [
    "def plot_heat_map(tmdb_genre_df, norm_genre_pairs_plot):\n",
    "\n",
    "    new_idx = tmdb_genre_df['genre']\n",
    "    new_cols = tmdb_genre_df['genre']\n",
    "\n",
    "    data = norm_genre_pairs_plot\n",
    "    fig, ax = plt.subplots(figsize = (12,12))\n",
    "    heatmap = ax.pcolor(data, cmap=plt.cm.Blues)\n",
    "    ax.set_xticks(np.arange(data.shape[0])+0.5, minor = False)\n",
    "    ax.set_yticks(np.arange(data.shape[1])+0.5, minor = False)\n",
    "\n",
    "    ax.invert_yaxis()\n",
    "    ax.xaxis.tick_top()\n",
    "    ax.set_xticklabels(new_idx, minor=False, fontsize=7)\n",
    "    ax.set_yticklabels(new_cols, minor=False, fontsize=7)\n",
    "\n",
    "    plt.ylabel('...Likelihood of ______ also Listed as Genre', fontsize=20)\n",
    "    plt.title('If ______ Listed as a Genre...',\n",
    "             horizontalalignment='center',\n",
    "             fontsize=20,\n",
    "             y = 1.04)\n",
    "\n",
    "    plt.show()"
   ]
  },
  {
   "cell_type": "code",
   "execution_count": 684,
   "metadata": {
    "collapsed": false
   },
   "outputs": [
    {
     "data": {
      "image/png": "[encoded data removed]",
      "text/plain": [
       "<matplotlib.figure.Figure at 0x112fbf2d0>"
      ]
     },
     "metadata": {},
     "output_type": "display_data"
    }
   ],
   "source": [
    "plot_heat_map(tmdb_genre_df, norm_genre_pairs_plot_raw)"
   ]
  },
  {
   "cell_type": "markdown",
   "metadata": {},
   "source": [
    "### Reducing Genres: Relabeling"
   ]
  },
  {
   "cell_type": "code",
   "execution_count": 685,
   "metadata": {
    "collapsed": false
   },
   "outputs": [],
   "source": [
    "def genre_reducer(movies_genres_table, genre_id_table, genre_id_to_change, new_genre_id):\n",
    "    \n",
    "    genre_id_table = genre_id_table[genre_id_table.genre_id != genre_id_to_change] # remove genre from genre list\n",
    "    \n",
    "    num_rows = movies_genres_table.shape[0]\n",
    "    \n",
    "    for row in range(0, num_rows):\n",
    "        \n",
    "        # pull out number of genres and genre id list\n",
    "        num_ids = movies_genres_table.iloc[row, 1]\n",
    "        id_list = movies_genres_table.iloc[row][2:(2 + num_ids)]\n",
    "\n",
    "        # change genre ids\n",
    "        for i in range(0, num_ids):\n",
    "            if id_list[i] == genre_id_to_change:\n",
    "                id_list[i] = new_genre_id\n",
    "        \n",
    "        new_id_list = list(set(id_list)) # remove duplicates\n",
    "        new_num_ids = len(new_id_list) # get new number of genres\n",
    "\n",
    "        # change movies genres table to reflect new genre ids\n",
    "        movies_genres_table.iloc[row, 1] = new_num_ids \n",
    "        movies_genres_table.iloc[row][2:(2 + new_num_ids)] = new_id_list\n",
    "        movies_genres_table.iloc[row][(2 + new_num_ids):] = 0\n",
    "    \n",
    "    return genre_id_table, movies_genres_table"
   ]
  },
  {
   "cell_type": "code",
   "execution_count": 686,
   "metadata": {
    "collapsed": false
   },
   "outputs": [],
   "source": [
    "genre_id_multilabel = tmdb_genre_df.copy()\n",
    "movies_genres_multilabel = movies_genres_raw.copy()"
   ]
  },
  {
   "cell_type": "code",
   "execution_count": 687,
   "metadata": {
    "collapsed": false
   },
   "outputs": [],
   "source": [
    "# change all \"adventure\" to \"action\"\n",
    "genre_id_multilabel, movies_genres_multilabel = genre_reducer(movies_genres_multilabel, genre_id_multilabel, 12, 28)"
   ]
  },
  {
   "cell_type": "code",
   "execution_count": 688,
   "metadata": {
    "collapsed": false
   },
   "outputs": [],
   "source": [
    "# change all \"sci fi\" to \"action\"\n",
    "genre_id_multilabel, movies_genres_multilabel = genre_reducer(movies_genres_multilabel, genre_id_multilabel, 878, 28)"
   ]
  },
  {
   "cell_type": "code",
   "execution_count": 689,
   "metadata": {
    "collapsed": false
   },
   "outputs": [],
   "source": [
    "# change all \"war\" to \"drama\"\n",
    "genre_id_multilabel, movies_genres_multilabel = genre_reducer(movies_genres_multilabel, genre_id_multilabel, 10752, 18)"
   ]
  },
  {
   "cell_type": "code",
   "execution_count": 690,
   "metadata": {
    "collapsed": false
   },
   "outputs": [],
   "source": [
    "# change all \"western\" to \"drama\"\n",
    "genre_id_multilabel, movies_genres_multilabel = genre_reducer(movies_genres_multilabel, genre_id_multilabel, 37, 18)"
   ]
  },
  {
   "cell_type": "code",
   "execution_count": 691,
   "metadata": {
    "collapsed": false
   },
   "outputs": [],
   "source": [
    "# change all \"mystery\" to \"thriller\"\n",
    "genre_id_multilabel, movies_genres_multilabel = genre_reducer(movies_genres_multilabel, genre_id_multilabel, 9648, 53)"
   ]
  },
  {
   "cell_type": "code",
   "execution_count": 692,
   "metadata": {
    "collapsed": false
   },
   "outputs": [],
   "source": [
    "# change all \"horror\" to \"thriller\"\n",
    "genre_id_multilabel, movies_genres_multilabel = genre_reducer(movies_genres_multilabel, genre_id_multilabel, 27, 53)"
   ]
  },
  {
   "cell_type": "code",
   "execution_count": 693,
   "metadata": {
    "collapsed": false
   },
   "outputs": [],
   "source": [
    "# change all \"history\" to \"drama\"\n",
    "genre_id_multilabel, movies_genres_multilabel = genre_reducer(movies_genres_multilabel, genre_id_multilabel, 36, 18)"
   ]
  },
  {
   "cell_type": "code",
   "execution_count": 694,
   "metadata": {
    "collapsed": true
   },
   "outputs": [],
   "source": [
    "# change all \"tv movie\" to \"drama\"\n",
    "genre_id_multilabel, movies_genres_multilabel = genre_reducer(movies_genres_multilabel, genre_id_multilabel, 10770, 18)"
   ]
  },
  {
   "cell_type": "code",
   "execution_count": 695,
   "metadata": {
    "collapsed": true
   },
   "outputs": [],
   "source": [
    "# change all \"foreign\" to \"drama\"\n",
    "genre_id_multilabel, movies_genres_multilabel = genre_reducer(movies_genres_multilabel, genre_id_multilabel, 10769, 18)"
   ]
  },
  {
   "cell_type": "code",
   "execution_count": 696,
   "metadata": {
    "collapsed": true
   },
   "outputs": [],
   "source": [
    "# change all \"fantasy\" to \"action\"\n",
    "genre_id_multilabel, movies_genres_multilabel = genre_reducer(movies_genres_multilabel, genre_id_multilabel, 14, 28)"
   ]
  },
  {
   "cell_type": "code",
   "execution_count": 697,
   "metadata": {
    "collapsed": true
   },
   "outputs": [],
   "source": [
    "# change all \"music\" to \"drama\"\n",
    "genre_id_multilabel, movies_genres_multilabel = genre_reducer(movies_genres_multilabel, genre_id_multilabel, 10402, 18)"
   ]
  },
  {
   "cell_type": "code",
   "execution_count": 698,
   "metadata": {
    "collapsed": true
   },
   "outputs": [],
   "source": [
    "# change all \"crime\" to \"thriller\"\n",
    "genre_id_multilabel, movies_genres_multilabel = genre_reducer(movies_genres_multilabel, genre_id_multilabel, 80, 53)"
   ]
  },
  {
   "cell_type": "code",
   "execution_count": 699,
   "metadata": {
    "collapsed": true
   },
   "outputs": [],
   "source": [
    "### ADD/REMOVE GENRE CHANGES HERE"
   ]
  },
  {
   "cell_type": "code",
   "execution_count": null,
   "metadata": {
    "collapsed": false
   },
   "outputs": [],
   "source": []
  },
  {
   "cell_type": "code",
   "execution_count": 700,
   "metadata": {
    "collapsed": false
   },
   "outputs": [
    {
     "data": {
      "text/html": [
       "<div>\n",
       "<table border=\"1\" class=\"dataframe\">\n",
       "  <thead>\n",
       "    <tr style=\"text-align: right;\">\n",
       "      <th></th>\n",
       "      <th>genre_id</th>\n",
       "      <th>genre</th>\n",
       "    </tr>\n",
       "  </thead>\n",
       "  <tbody>\n",
       "    <tr>\n",
       "      <th>0</th>\n",
       "      <td>28</td>\n",
       "      <td>Action</td>\n",
       "    </tr>\n",
       "    <tr>\n",
       "      <th>1</th>\n",
       "      <td>16</td>\n",
       "      <td>Animation</td>\n",
       "    </tr>\n",
       "    <tr>\n",
       "      <th>2</th>\n",
       "      <td>35</td>\n",
       "      <td>Comedy</td>\n",
       "    </tr>\n",
       "    <tr>\n",
       "      <th>3</th>\n",
       "      <td>99</td>\n",
       "      <td>Documentary</td>\n",
       "    </tr>\n",
       "    <tr>\n",
       "      <th>4</th>\n",
       "      <td>18</td>\n",
       "      <td>Drama</td>\n",
       "    </tr>\n",
       "    <tr>\n",
       "      <th>5</th>\n",
       "      <td>10751</td>\n",
       "      <td>Family</td>\n",
       "    </tr>\n",
       "    <tr>\n",
       "      <th>6</th>\n",
       "      <td>10749</td>\n",
       "      <td>Romance</td>\n",
       "    </tr>\n",
       "    <tr>\n",
       "      <th>7</th>\n",
       "      <td>53</td>\n",
       "      <td>Thriller</td>\n",
       "    </tr>\n",
       "  </tbody>\n",
       "</table>\n",
       "</div>"
      ],
      "text/plain": [
       "  genre_id        genre\n",
       "0       28       Action\n",
       "1       16    Animation\n",
       "2       35       Comedy\n",
       "3       99  Documentary\n",
       "4       18        Drama\n",
       "5    10751       Family\n",
       "6    10749      Romance\n",
       "7       53     Thriller"
      ]
     },
     "execution_count": 700,
     "metadata": {},
     "output_type": "execute_result"
    }
   ],
   "source": [
    "genre_id_multilabel = genre_id_multilabel.reset_index(drop=True)\n",
    "genre_id_multilabel"
   ]
  },
  {
   "cell_type": "markdown",
   "metadata": {},
   "source": [
    "### Table and Heat Map of Reduced Genre Relationships"
   ]
  },
  {
   "cell_type": "code",
   "execution_count": 701,
   "metadata": {
    "collapsed": false
   },
   "outputs": [
    {
     "data": {
      "text/html": [
       "<div>\n",
       "<table border=\"1\" class=\"dataframe\">\n",
       "  <thead>\n",
       "    <tr style=\"text-align: right;\">\n",
       "      <th>genre</th>\n",
       "      <th>Action</th>\n",
       "      <th>Animation</th>\n",
       "      <th>Comedy</th>\n",
       "      <th>Documentary</th>\n",
       "      <th>Drama</th>\n",
       "      <th>Family</th>\n",
       "      <th>Romance</th>\n",
       "      <th>Thriller</th>\n",
       "    </tr>\n",
       "    <tr>\n",
       "      <th>genre</th>\n",
       "      <th></th>\n",
       "      <th></th>\n",
       "      <th></th>\n",
       "      <th></th>\n",
       "      <th></th>\n",
       "      <th></th>\n",
       "      <th></th>\n",
       "      <th></th>\n",
       "    </tr>\n",
       "  </thead>\n",
       "  <tbody>\n",
       "    <tr>\n",
       "      <th>Action</th>\n",
       "      <td>2815</td>\n",
       "      <td>408</td>\n",
       "      <td>744</td>\n",
       "      <td>14</td>\n",
       "      <td>976</td>\n",
       "      <td>419</td>\n",
       "      <td>226</td>\n",
       "      <td>1374</td>\n",
       "    </tr>\n",
       "    <tr>\n",
       "      <th>Animation</th>\n",
       "      <td>408</td>\n",
       "      <td>632</td>\n",
       "      <td>224</td>\n",
       "      <td>5</td>\n",
       "      <td>91</td>\n",
       "      <td>365</td>\n",
       "      <td>26</td>\n",
       "      <td>49</td>\n",
       "    </tr>\n",
       "    <tr>\n",
       "      <th>Comedy</th>\n",
       "      <td>744</td>\n",
       "      <td>224</td>\n",
       "      <td>2858</td>\n",
       "      <td>20</td>\n",
       "      <td>1039</td>\n",
       "      <td>410</td>\n",
       "      <td>690</td>\n",
       "      <td>479</td>\n",
       "    </tr>\n",
       "    <tr>\n",
       "      <th>Documentary</th>\n",
       "      <td>14</td>\n",
       "      <td>5</td>\n",
       "      <td>20</td>\n",
       "      <td>314</td>\n",
       "      <td>75</td>\n",
       "      <td>11</td>\n",
       "      <td>0</td>\n",
       "      <td>15</td>\n",
       "    </tr>\n",
       "    <tr>\n",
       "      <th>Drama</th>\n",
       "      <td>976</td>\n",
       "      <td>91</td>\n",
       "      <td>1039</td>\n",
       "      <td>75</td>\n",
       "      <td>3927</td>\n",
       "      <td>185</td>\n",
       "      <td>866</td>\n",
       "      <td>1358</td>\n",
       "    </tr>\n",
       "    <tr>\n",
       "      <th>Family</th>\n",
       "      <td>419</td>\n",
       "      <td>365</td>\n",
       "      <td>410</td>\n",
       "      <td>11</td>\n",
       "      <td>185</td>\n",
       "      <td>747</td>\n",
       "      <td>70</td>\n",
       "      <td>27</td>\n",
       "    </tr>\n",
       "    <tr>\n",
       "      <th>Romance</th>\n",
       "      <td>226</td>\n",
       "      <td>26</td>\n",
       "      <td>690</td>\n",
       "      <td>0</td>\n",
       "      <td>866</td>\n",
       "      <td>70</td>\n",
       "      <td>1247</td>\n",
       "      <td>170</td>\n",
       "    </tr>\n",
       "    <tr>\n",
       "      <th>Thriller</th>\n",
       "      <td>1374</td>\n",
       "      <td>49</td>\n",
       "      <td>479</td>\n",
       "      <td>15</td>\n",
       "      <td>1358</td>\n",
       "      <td>27</td>\n",
       "      <td>170</td>\n",
       "      <td>3140</td>\n",
       "    </tr>\n",
       "  </tbody>\n",
       "</table>\n",
       "</div>"
      ],
      "text/plain": [
       "genre        Action  Animation  Comedy  Documentary  Drama  Family  Romance  \\\n",
       "genre                                                                         \n",
       "Action         2815        408     744           14    976     419      226   \n",
       "Animation       408        632     224            5     91     365       26   \n",
       "Comedy          744        224    2858           20   1039     410      690   \n",
       "Documentary      14          5      20          314     75      11        0   \n",
       "Drama           976         91    1039           75   3927     185      866   \n",
       "Family          419        365     410           11    185     747       70   \n",
       "Romance         226         26     690            0    866      70     1247   \n",
       "Thriller       1374         49     479           15   1358      27      170   \n",
       "\n",
       "genre        Thriller  \n",
       "genre                  \n",
       "Action           1374  \n",
       "Animation          49  \n",
       "Comedy            479  \n",
       "Documentary        15  \n",
       "Drama            1358  \n",
       "Family             27  \n",
       "Romance           170  \n",
       "Thriller         3140  "
      ]
     },
     "execution_count": 701,
     "metadata": {},
     "output_type": "execute_result"
    }
   ],
   "source": [
    "genre_pairs_multilabel = create_genre_pairs(genre_id_multilabel, movies_genres_multilabel)\n",
    "genre_pairs_multilabel"
   ]
  },
  {
   "cell_type": "code",
   "execution_count": 702,
   "metadata": {
    "collapsed": false
   },
   "outputs": [
    {
     "data": {
      "text/html": [
       "<div>\n",
       "<table border=\"1\" class=\"dataframe\">\n",
       "  <thead>\n",
       "    <tr style=\"text-align: right;\">\n",
       "      <th></th>\n",
       "      <th>num_movies_with_genre</th>\n",
       "    </tr>\n",
       "    <tr>\n",
       "      <th>genre</th>\n",
       "      <th></th>\n",
       "    </tr>\n",
       "  </thead>\n",
       "  <tbody>\n",
       "    <tr>\n",
       "      <th>Action</th>\n",
       "      <td>2815</td>\n",
       "    </tr>\n",
       "    <tr>\n",
       "      <th>Animation</th>\n",
       "      <td>632</td>\n",
       "    </tr>\n",
       "    <tr>\n",
       "      <th>Comedy</th>\n",
       "      <td>2858</td>\n",
       "    </tr>\n",
       "    <tr>\n",
       "      <th>Documentary</th>\n",
       "      <td>314</td>\n",
       "    </tr>\n",
       "    <tr>\n",
       "      <th>Drama</th>\n",
       "      <td>3927</td>\n",
       "    </tr>\n",
       "    <tr>\n",
       "      <th>Family</th>\n",
       "      <td>747</td>\n",
       "    </tr>\n",
       "    <tr>\n",
       "      <th>Romance</th>\n",
       "      <td>1247</td>\n",
       "    </tr>\n",
       "    <tr>\n",
       "      <th>Thriller</th>\n",
       "      <td>3140</td>\n",
       "    </tr>\n",
       "  </tbody>\n",
       "</table>\n",
       "</div>"
      ],
      "text/plain": [
       "            num_movies_with_genre\n",
       "genre                            \n",
       "Action                       2815\n",
       "Animation                     632\n",
       "Comedy                       2858\n",
       "Documentary                   314\n",
       "Drama                        3927\n",
       "Family                        747\n",
       "Romance                      1247\n",
       "Thriller                     3140"
      ]
     },
     "execution_count": 702,
     "metadata": {},
     "output_type": "execute_result"
    }
   ],
   "source": [
    "genre_totals_multilabel = get_genre_totals(genre_id_multilabel, genre_pairs_multilabel)\n",
    "genre_totals_multilabel"
   ]
  },
  {
   "cell_type": "code",
   "execution_count": 703,
   "metadata": {
    "collapsed": false
   },
   "outputs": [
    {
     "data": {
      "text/html": [
       "<div>\n",
       "<table border=\"1\" class=\"dataframe\">\n",
       "  <thead>\n",
       "    <tr style=\"text-align: right;\">\n",
       "      <th>genre</th>\n",
       "      <th>Action</th>\n",
       "      <th>Animation</th>\n",
       "      <th>Comedy</th>\n",
       "      <th>Documentary</th>\n",
       "      <th>Drama</th>\n",
       "      <th>Family</th>\n",
       "      <th>Romance</th>\n",
       "      <th>Thriller</th>\n",
       "    </tr>\n",
       "    <tr>\n",
       "      <th>genre</th>\n",
       "      <th></th>\n",
       "      <th></th>\n",
       "      <th></th>\n",
       "      <th></th>\n",
       "      <th></th>\n",
       "      <th></th>\n",
       "      <th></th>\n",
       "      <th></th>\n",
       "    </tr>\n",
       "  </thead>\n",
       "  <tbody>\n",
       "    <tr>\n",
       "      <th>Action</th>\n",
       "      <td>0.000000</td>\n",
       "      <td>0.645570</td>\n",
       "      <td>0.260322</td>\n",
       "      <td>0.044586</td>\n",
       "      <td>0.248536</td>\n",
       "      <td>0.560910</td>\n",
       "      <td>0.181235</td>\n",
       "      <td>0.437580</td>\n",
       "    </tr>\n",
       "    <tr>\n",
       "      <th>Animation</th>\n",
       "      <td>0.144938</td>\n",
       "      <td>0.000000</td>\n",
       "      <td>0.078376</td>\n",
       "      <td>0.015924</td>\n",
       "      <td>0.023173</td>\n",
       "      <td>0.488621</td>\n",
       "      <td>0.020850</td>\n",
       "      <td>0.015605</td>\n",
       "    </tr>\n",
       "    <tr>\n",
       "      <th>Comedy</th>\n",
       "      <td>0.264298</td>\n",
       "      <td>0.354430</td>\n",
       "      <td>0.000000</td>\n",
       "      <td>0.063694</td>\n",
       "      <td>0.264579</td>\n",
       "      <td>0.548862</td>\n",
       "      <td>0.553328</td>\n",
       "      <td>0.152548</td>\n",
       "    </tr>\n",
       "    <tr>\n",
       "      <th>Documentary</th>\n",
       "      <td>0.004973</td>\n",
       "      <td>0.007911</td>\n",
       "      <td>0.006998</td>\n",
       "      <td>0.000000</td>\n",
       "      <td>0.019099</td>\n",
       "      <td>0.014726</td>\n",
       "      <td>0.000000</td>\n",
       "      <td>0.004777</td>\n",
       "    </tr>\n",
       "    <tr>\n",
       "      <th>Drama</th>\n",
       "      <td>0.346714</td>\n",
       "      <td>0.143987</td>\n",
       "      <td>0.363541</td>\n",
       "      <td>0.238854</td>\n",
       "      <td>0.000000</td>\n",
       "      <td>0.247657</td>\n",
       "      <td>0.694467</td>\n",
       "      <td>0.432484</td>\n",
       "    </tr>\n",
       "    <tr>\n",
       "      <th>Family</th>\n",
       "      <td>0.148845</td>\n",
       "      <td>0.577532</td>\n",
       "      <td>0.143457</td>\n",
       "      <td>0.035032</td>\n",
       "      <td>0.047110</td>\n",
       "      <td>0.000000</td>\n",
       "      <td>0.056135</td>\n",
       "      <td>0.008599</td>\n",
       "    </tr>\n",
       "    <tr>\n",
       "      <th>Romance</th>\n",
       "      <td>0.080284</td>\n",
       "      <td>0.041139</td>\n",
       "      <td>0.241428</td>\n",
       "      <td>0.000000</td>\n",
       "      <td>0.220525</td>\n",
       "      <td>0.093708</td>\n",
       "      <td>0.000000</td>\n",
       "      <td>0.054140</td>\n",
       "    </tr>\n",
       "    <tr>\n",
       "      <th>Thriller</th>\n",
       "      <td>0.488099</td>\n",
       "      <td>0.077532</td>\n",
       "      <td>0.167600</td>\n",
       "      <td>0.047771</td>\n",
       "      <td>0.345811</td>\n",
       "      <td>0.036145</td>\n",
       "      <td>0.136327</td>\n",
       "      <td>0.000000</td>\n",
       "    </tr>\n",
       "  </tbody>\n",
       "</table>\n",
       "</div>"
      ],
      "text/plain": [
       "genre          Action  Animation    Comedy  Documentary     Drama    Family  \\\n",
       "genre                                                                         \n",
       "Action       0.000000   0.645570  0.260322     0.044586  0.248536  0.560910   \n",
       "Animation    0.144938   0.000000  0.078376     0.015924  0.023173  0.488621   \n",
       "Comedy       0.264298   0.354430  0.000000     0.063694  0.264579  0.548862   \n",
       "Documentary  0.004973   0.007911  0.006998     0.000000  0.019099  0.014726   \n",
       "Drama        0.346714   0.143987  0.363541     0.238854  0.000000  0.247657   \n",
       "Family       0.148845   0.577532  0.143457     0.035032  0.047110  0.000000   \n",
       "Romance      0.080284   0.041139  0.241428     0.000000  0.220525  0.093708   \n",
       "Thriller     0.488099   0.077532  0.167600     0.047771  0.345811  0.036145   \n",
       "\n",
       "genre         Romance  Thriller  \n",
       "genre                            \n",
       "Action       0.181235  0.437580  \n",
       "Animation    0.020850  0.015605  \n",
       "Comedy       0.553328  0.152548  \n",
       "Documentary  0.000000  0.004777  \n",
       "Drama        0.694467  0.432484  \n",
       "Family       0.056135  0.008599  \n",
       "Romance      0.000000  0.054140  \n",
       "Thriller     0.136327  0.000000  "
      ]
     },
     "execution_count": 703,
     "metadata": {},
     "output_type": "execute_result"
    }
   ],
   "source": [
    "norm_genre_pairs_multilabel = norm_genre_pairs(genre_id_multilabel, genre_pairs_multilabel, genre_totals_multilabel)\n",
    "norm_genre_pairs_multilabel"
   ]
  },
  {
   "cell_type": "code",
   "execution_count": 704,
   "metadata": {
    "collapsed": false
   },
   "outputs": [
    {
     "data": {
      "image/png": "[encoded data removed]",
      "text/plain": [
       "<matplotlib.figure.Figure at 0x114d09bd0>"
      ]
     },
     "metadata": {},
     "output_type": "display_data"
    }
   ],
   "source": [
    "plot_heat_map(genre_id_multilabel, norm_genre_pairs_multilabel)"
   ]
  },
  {
   "cell_type": "code",
   "execution_count": 705,
   "metadata": {
    "collapsed": false,
    "scrolled": true
   },
   "outputs": [
    {
     "data": {
      "image/png": "[encoded data removed]",
      "text/plain": [
       "<matplotlib.figure.Figure at 0x11388f410>"
      ]
     },
     "metadata": {},
     "output_type": "display_data"
    }
   ],
   "source": [
    "plot_genre_hist(movies_genres_multilabel)"
   ]
  },
  {
   "cell_type": "markdown",
   "metadata": {},
   "source": [
    "### Get Unique Genre Combos"
   ]
  },
  {
   "cell_type": "code",
   "execution_count": 706,
   "metadata": {
    "collapsed": false
   },
   "outputs": [],
   "source": [
    "def get_unique_genre_pairs(movies_genres):\n",
    "    \n",
    "    np_empty = np.empty((len(movies_genres),2))\n",
    "    np_empty[:] = np.nan\n",
    "\n",
    "    genres_list_df = pd.DataFrame(np_empty, columns=['movie_id', 'genre_id'])\n",
    "\n",
    "    genres_list_df = genres_list_df.astype(object)\n",
    "    genres_as_list = list()\n",
    "\n",
    "    for i in range(0, len(movies_genres)):\n",
    "        num_genres = movies_genres.iloc[i, 1]\n",
    "        genres_list = list(movies_genres.iloc[i, 2:(2 + num_genres)])\n",
    "        genres_list.sort()\n",
    "        genres_as_list.append(genres_list)\n",
    "\n",
    "        genres_list_df.iloc[i, 0] = movies_genres.iloc[i, 0]\n",
    "        genres_list_df.iloc[i, 1] = genres_list\n",
    "\n",
    "    unique_genres_list = [list(x) for x in set(tuple(x) for x in genres_as_list)] # from stack overflow...\n",
    "\n",
    "    unique_genres_df = pd.DataFrame(columns=['genre_id', 'num_movies'])\n",
    "\n",
    "    unique_genres_df.loc[:, 'genre_id'] = unique_genres_list\n",
    "    unique_genres_df.loc[:, 'num_movies'] = 0\n",
    "\n",
    "\n",
    "    for i in range(0, len(unique_genres_df)):\n",
    "        unique_genres_df.iloc[i, 1] = genres_as_list.count(unique_genres_df.iloc[i, 0])\n",
    "\n",
    "    unique_genres_sorted = unique_genres_df.sort_values('num_movies', ascending=False).reset_index(drop=True)\n",
    "\n",
    "    return unique_genres_sorted, genres_list_df"
   ]
  },
  {
   "cell_type": "code",
   "execution_count": 707,
   "metadata": {
    "collapsed": false
   },
   "outputs": [],
   "source": [
    "unique_genres_multilabel, movies_genres_list_multilabel = get_unique_genre_pairs(movies_genres_multilabel)"
   ]
  },
  {
   "cell_type": "code",
   "execution_count": 776,
   "metadata": {
    "collapsed": false
   },
   "outputs": [
    {
     "data": {
      "text/html": [
       "<div>\n",
       "<table border=\"1\" class=\"dataframe\">\n",
       "  <thead>\n",
       "    <tr style=\"text-align: right;\">\n",
       "      <th></th>\n",
       "      <th>genre_id</th>\n",
       "      <th>num_movies</th>\n",
       "    </tr>\n",
       "  </thead>\n",
       "  <tbody>\n",
       "    <tr>\n",
       "      <th>0</th>\n",
       "      <td>[18]</td>\n",
       "      <td>829</td>\n",
       "    </tr>\n",
       "    <tr>\n",
       "      <th>1</th>\n",
       "      <td>[18, 53]</td>\n",
       "      <td>729</td>\n",
       "    </tr>\n",
       "    <tr>\n",
       "      <th>2</th>\n",
       "      <td>[35]</td>\n",
       "      <td>683</td>\n",
       "    </tr>\n",
       "    <tr>\n",
       "      <th>3</th>\n",
       "      <td>[53]</td>\n",
       "      <td>681</td>\n",
       "    </tr>\n",
       "    <tr>\n",
       "      <th>4</th>\n",
       "      <td>[28, 53]</td>\n",
       "      <td>670</td>\n",
       "    </tr>\n",
       "    <tr>\n",
       "      <th>5</th>\n",
       "      <td>[18, 35]</td>\n",
       "      <td>419</td>\n",
       "    </tr>\n",
       "    <tr>\n",
       "      <th>6</th>\n",
       "      <td>[18, 28, 53]</td>\n",
       "      <td>395</td>\n",
       "    </tr>\n",
       "    <tr>\n",
       "      <th>7</th>\n",
       "      <td>[18, 10749]</td>\n",
       "      <td>324</td>\n",
       "    </tr>\n",
       "    <tr>\n",
       "      <th>8</th>\n",
       "      <td>[18, 35, 10749]</td>\n",
       "      <td>298</td>\n",
       "    </tr>\n",
       "    <tr>\n",
       "      <th>9</th>\n",
       "      <td>[28]</td>\n",
       "      <td>267</td>\n",
       "    </tr>\n",
       "  </tbody>\n",
       "</table>\n",
       "</div>"
      ],
      "text/plain": [
       "          genre_id  num_movies\n",
       "0             [18]         829\n",
       "1         [18, 53]         729\n",
       "2             [35]         683\n",
       "3             [53]         681\n",
       "4         [28, 53]         670\n",
       "5         [18, 35]         419\n",
       "6     [18, 28, 53]         395\n",
       "7      [18, 10749]         324\n",
       "8  [18, 35, 10749]         298\n",
       "9             [28]         267"
      ]
     },
     "execution_count": 776,
     "metadata": {},
     "output_type": "execute_result"
    }
   ],
   "source": [
    "unique_genres_multilabel.iloc[:10, :]"
   ]
  },
  {
   "cell_type": "markdown",
   "metadata": {},
   "source": [
    "### Select Reduced Set of Genre Pairs"
   ]
  },
  {
   "cell_type": "code",
   "execution_count": 709,
   "metadata": {
    "collapsed": false
   },
   "outputs": [],
   "source": [
    "def select_genres(cutoff_threshold_pct, unique_genres):\n",
    "\n",
    "    cutoff_threshold_num = int(cutoff_threshold_pct * sum(unique_genres.iloc[:, 1]))\n",
    "    cutoff_row = 0\n",
    "\n",
    "    for i in range(0, len(unique_genres)):\n",
    "        if unique_genres.iloc[i, 1] > cutoff_threshold_num:\n",
    "            cutoff_row = cutoff_row + 1\n",
    "\n",
    "    selected_genres = unique_genres.iloc[:cutoff_row, :]\n",
    "    selected_genres = selected_genres.reset_index(drop=True)\n",
    "    return selected_genres"
   ]
  },
  {
   "cell_type": "code",
   "execution_count": 710,
   "metadata": {
    "collapsed": false
   },
   "outputs": [],
   "source": [
    "selected_genres_multilabel = select_genres(0.01, unique_genres_multilabel)"
   ]
  },
  {
   "cell_type": "code",
   "execution_count": 711,
   "metadata": {
    "collapsed": false
   },
   "outputs": [
    {
     "data": {
      "text/html": [
       "<div>\n",
       "<table border=\"1\" class=\"dataframe\">\n",
       "  <thead>\n",
       "    <tr style=\"text-align: right;\">\n",
       "      <th></th>\n",
       "      <th>genre_id</th>\n",
       "      <th>num_movies</th>\n",
       "    </tr>\n",
       "  </thead>\n",
       "  <tbody>\n",
       "    <tr>\n",
       "      <th>0</th>\n",
       "      <td>[18]</td>\n",
       "      <td>829</td>\n",
       "    </tr>\n",
       "    <tr>\n",
       "      <th>1</th>\n",
       "      <td>[18, 53]</td>\n",
       "      <td>729</td>\n",
       "    </tr>\n",
       "    <tr>\n",
       "      <th>2</th>\n",
       "      <td>[35]</td>\n",
       "      <td>683</td>\n",
       "    </tr>\n",
       "    <tr>\n",
       "      <th>3</th>\n",
       "      <td>[53]</td>\n",
       "      <td>681</td>\n",
       "    </tr>\n",
       "    <tr>\n",
       "      <th>4</th>\n",
       "      <td>[28, 53]</td>\n",
       "      <td>670</td>\n",
       "    </tr>\n",
       "    <tr>\n",
       "      <th>5</th>\n",
       "      <td>[18, 35]</td>\n",
       "      <td>419</td>\n",
       "    </tr>\n",
       "    <tr>\n",
       "      <th>6</th>\n",
       "      <td>[18, 28, 53]</td>\n",
       "      <td>395</td>\n",
       "    </tr>\n",
       "    <tr>\n",
       "      <th>7</th>\n",
       "      <td>[18, 10749]</td>\n",
       "      <td>324</td>\n",
       "    </tr>\n",
       "    <tr>\n",
       "      <th>8</th>\n",
       "      <td>[18, 35, 10749]</td>\n",
       "      <td>298</td>\n",
       "    </tr>\n",
       "    <tr>\n",
       "      <th>9</th>\n",
       "      <td>[28]</td>\n",
       "      <td>267</td>\n",
       "    </tr>\n",
       "    <tr>\n",
       "      <th>10</th>\n",
       "      <td>[18, 28]</td>\n",
       "      <td>266</td>\n",
       "    </tr>\n",
       "    <tr>\n",
       "      <th>11</th>\n",
       "      <td>[35, 10749]</td>\n",
       "      <td>237</td>\n",
       "    </tr>\n",
       "    <tr>\n",
       "      <th>12</th>\n",
       "      <td>[99]</td>\n",
       "      <td>194</td>\n",
       "    </tr>\n",
       "    <tr>\n",
       "      <th>13</th>\n",
       "      <td>[28, 35, 53]</td>\n",
       "      <td>155</td>\n",
       "    </tr>\n",
       "    <tr>\n",
       "      <th>14</th>\n",
       "      <td>[35, 53]</td>\n",
       "      <td>155</td>\n",
       "    </tr>\n",
       "    <tr>\n",
       "      <th>15</th>\n",
       "      <td>[28, 35]</td>\n",
       "      <td>154</td>\n",
       "    </tr>\n",
       "    <tr>\n",
       "      <th>16</th>\n",
       "      <td>[16, 28]</td>\n",
       "      <td>100</td>\n",
       "    </tr>\n",
       "    <tr>\n",
       "      <th>17</th>\n",
       "      <td>[16, 28, 35, 10751]</td>\n",
       "      <td>98</td>\n",
       "    </tr>\n",
       "    <tr>\n",
       "      <th>18</th>\n",
       "      <td>[16, 28, 10751]</td>\n",
       "      <td>91</td>\n",
       "    </tr>\n",
       "    <tr>\n",
       "      <th>19</th>\n",
       "      <td>[16, 10751]</td>\n",
       "      <td>82</td>\n",
       "    </tr>\n",
       "  </tbody>\n",
       "</table>\n",
       "</div>"
      ],
      "text/plain": [
       "               genre_id  num_movies\n",
       "0                  [18]         829\n",
       "1              [18, 53]         729\n",
       "2                  [35]         683\n",
       "3                  [53]         681\n",
       "4              [28, 53]         670\n",
       "5              [18, 35]         419\n",
       "6          [18, 28, 53]         395\n",
       "7           [18, 10749]         324\n",
       "8       [18, 35, 10749]         298\n",
       "9                  [28]         267\n",
       "10             [18, 28]         266\n",
       "11          [35, 10749]         237\n",
       "12                 [99]         194\n",
       "13         [28, 35, 53]         155\n",
       "14             [35, 53]         155\n",
       "15             [28, 35]         154\n",
       "16             [16, 28]         100\n",
       "17  [16, 28, 35, 10751]          98\n",
       "18      [16, 28, 10751]          91\n",
       "19          [16, 10751]          82"
      ]
     },
     "execution_count": 711,
     "metadata": {},
     "output_type": "execute_result"
    }
   ],
   "source": [
    "selected_genres_multilabel"
   ]
  },
  {
   "cell_type": "code",
   "execution_count": 712,
   "metadata": {
    "collapsed": false
   },
   "outputs": [
    {
     "data": {
      "text/plain": [
       "0.1529776674937965"
      ]
     },
     "execution_count": 712,
     "metadata": {},
     "output_type": "execute_result"
    }
   ],
   "source": [
    "1 - float(sum(selected_genres_multilabel.iloc[:, 1])) / len(movies_genres_multilabel)"
   ]
  },
  {
   "cell_type": "markdown",
   "metadata": {},
   "source": [
    "### Revised Overall Dataset to Reflect Reduced Genre Pairs"
   ]
  },
  {
   "cell_type": "code",
   "execution_count": 713,
   "metadata": {
    "collapsed": false
   },
   "outputs": [],
   "source": [
    "def selected_movies(movies_genres_list, selected_genres):\n",
    "\n",
    "    row_ref = 0\n",
    "    selected_movies = movies_genres_list.copy()\n",
    "\n",
    "    for i in range(0, len(movies_genres_list)):\n",
    "\n",
    "        for j in range(0, len(selected_genres)):\n",
    "\n",
    "            if (movies_genres_list.iloc[i, 1] == selected_genres.iloc[j, 0]):\n",
    "\n",
    "                selected_movies.iloc[row_ref, :] = movies_genres_list.iloc[i, :]\n",
    "                row_ref = row_ref + 1\n",
    "\n",
    "    selected_movies = selected_movies.iloc[:row_ref, :]\n",
    "    \n",
    "    return selected_movies"
   ]
  },
  {
   "cell_type": "code",
   "execution_count": 714,
   "metadata": {
    "collapsed": true
   },
   "outputs": [],
   "source": [
    "selected_movies_multilabel = selected_movies(movies_genres_list_multilabel, selected_genres_multilabel)"
   ]
  },
  {
   "cell_type": "code",
   "execution_count": 715,
   "metadata": {
    "collapsed": false
   },
   "outputs": [
    {
     "data": {
      "text/html": [
       "<div>\n",
       "<table border=\"1\" class=\"dataframe\">\n",
       "  <thead>\n",
       "    <tr style=\"text-align: right;\">\n",
       "      <th></th>\n",
       "      <th>movie_id</th>\n",
       "      <th>genre_id</th>\n",
       "    </tr>\n",
       "  </thead>\n",
       "  <tbody>\n",
       "    <tr>\n",
       "      <th>0</th>\n",
       "      <td>297761</td>\n",
       "      <td>[28, 53]</td>\n",
       "    </tr>\n",
       "    <tr>\n",
       "      <th>1</th>\n",
       "      <td>209112</td>\n",
       "      <td>[28]</td>\n",
       "    </tr>\n",
       "    <tr>\n",
       "      <th>2</th>\n",
       "      <td>271110</td>\n",
       "      <td>[28]</td>\n",
       "    </tr>\n",
       "    <tr>\n",
       "      <th>3</th>\n",
       "      <td>329865</td>\n",
       "      <td>[18, 28, 53]</td>\n",
       "    </tr>\n",
       "    <tr>\n",
       "      <th>4</th>\n",
       "      <td>284052</td>\n",
       "      <td>[28]</td>\n",
       "    </tr>\n",
       "    <tr>\n",
       "      <th>5</th>\n",
       "      <td>246655</td>\n",
       "      <td>[28]</td>\n",
       "    </tr>\n",
       "    <tr>\n",
       "      <th>6</th>\n",
       "      <td>269149</td>\n",
       "      <td>[16, 28, 35, 10751]</td>\n",
       "    </tr>\n",
       "    <tr>\n",
       "      <th>7</th>\n",
       "      <td>259316</td>\n",
       "      <td>[28]</td>\n",
       "    </tr>\n",
       "    <tr>\n",
       "      <th>8</th>\n",
       "      <td>330459</td>\n",
       "      <td>[18, 28]</td>\n",
       "    </tr>\n",
       "    <tr>\n",
       "      <th>9</th>\n",
       "      <td>127380</td>\n",
       "      <td>[16, 28, 35, 10751]</td>\n",
       "    </tr>\n",
       "  </tbody>\n",
       "</table>\n",
       "</div>"
      ],
      "text/plain": [
       "  movie_id             genre_id\n",
       "0   297761             [28, 53]\n",
       "1   209112                 [28]\n",
       "2   271110                 [28]\n",
       "3   329865         [18, 28, 53]\n",
       "4   284052                 [28]\n",
       "5   246655                 [28]\n",
       "6   269149  [16, 28, 35, 10751]\n",
       "7   259316                 [28]\n",
       "8   330459             [18, 28]\n",
       "9   127380  [16, 28, 35, 10751]"
      ]
     },
     "execution_count": 715,
     "metadata": {},
     "output_type": "execute_result"
    }
   ],
   "source": [
    "selected_movies_multilabel.iloc[:10, :]"
   ]
  },
  {
   "cell_type": "code",
   "execution_count": 716,
   "metadata": {
    "collapsed": false
   },
   "outputs": [
    {
     "data": {
      "text/plain": [
       "6827"
      ]
     },
     "execution_count": 716,
     "metadata": {},
     "output_type": "execute_result"
    }
   ],
   "source": [
    "len(selected_movies_multilabel)"
   ]
  },
  {
   "cell_type": "code",
   "execution_count": 717,
   "metadata": {
    "collapsed": false
   },
   "outputs": [
    {
     "data": {
      "text/plain": [
       "6827"
      ]
     },
     "execution_count": 717,
     "metadata": {},
     "output_type": "execute_result"
    }
   ],
   "source": [
    "sum(selected_genres_multilabel.iloc[:, 1])"
   ]
  },
  {
   "cell_type": "markdown",
   "metadata": {},
   "source": [
    "### Add Genre Names"
   ]
  },
  {
   "cell_type": "code",
   "execution_count": 718,
   "metadata": {
    "collapsed": false
   },
   "outputs": [],
   "source": [
    "def get_genre_names(genre_ids, tmdb_genre_df):\n",
    "\n",
    "    genre_names_df = pd.DataFrame(index=range(0, len(genre_ids)), columns=['genre_name'])\n",
    "    genre_names_df = genre_names_df.astype(object)\n",
    "\n",
    "    for i in range(0, len(genre_ids)):\n",
    "\n",
    "        genre_names_list = list()\n",
    "\n",
    "        for j in range(0, len(genre_ids[i])):\n",
    "\n",
    "            for k in range(0, len(tmdb_genre_df)):\n",
    "\n",
    "                if (tmdb_genre_df.loc[k, 'genre_id'] == genre_ids[i][j]):\n",
    "\n",
    "                    genre_names_list.append(tmdb_genre_df.loc[k, 'genre'])\n",
    "\n",
    "        genre_names_df.loc[i, 'genre_name'] = list(genre_names_list)\n",
    "    \n",
    "    return genre_names_df"
   ]
  },
  {
   "cell_type": "markdown",
   "metadata": {},
   "source": [
    "*Add Genre Names to Number of Movies List*"
   ]
  },
  {
   "cell_type": "code",
   "execution_count": 719,
   "metadata": {
    "collapsed": false
   },
   "outputs": [],
   "source": [
    "selected_genres_multilabel_genre_ids = pd.Series(selected_genres_multilabel.loc[:, 'genre_id'])"
   ]
  },
  {
   "cell_type": "code",
   "execution_count": 720,
   "metadata": {
    "collapsed": false
   },
   "outputs": [],
   "source": [
    "genres_with_names = get_genre_names(selected_genres_multilabel_genre_ids, tmdb_genre_df)"
   ]
  },
  {
   "cell_type": "code",
   "execution_count": 721,
   "metadata": {
    "collapsed": false
   },
   "outputs": [],
   "source": [
    "selected_genres_multilabel_sums = pd.concat((genres_with_names, selected_genres_multilabel), axis=1)"
   ]
  },
  {
   "cell_type": "code",
   "execution_count": 722,
   "metadata": {
    "collapsed": false
   },
   "outputs": [
    {
     "data": {
      "text/html": [
       "<div>\n",
       "<table border=\"1\" class=\"dataframe\">\n",
       "  <thead>\n",
       "    <tr style=\"text-align: right;\">\n",
       "      <th></th>\n",
       "      <th>genre_name</th>\n",
       "      <th>genre_id</th>\n",
       "      <th>num_movies</th>\n",
       "    </tr>\n",
       "  </thead>\n",
       "  <tbody>\n",
       "    <tr>\n",
       "      <th>0</th>\n",
       "      <td>[Drama]</td>\n",
       "      <td>[18]</td>\n",
       "      <td>829</td>\n",
       "    </tr>\n",
       "    <tr>\n",
       "      <th>1</th>\n",
       "      <td>[Drama, Thriller]</td>\n",
       "      <td>[18, 53]</td>\n",
       "      <td>729</td>\n",
       "    </tr>\n",
       "    <tr>\n",
       "      <th>2</th>\n",
       "      <td>[Comedy]</td>\n",
       "      <td>[35]</td>\n",
       "      <td>683</td>\n",
       "    </tr>\n",
       "    <tr>\n",
       "      <th>3</th>\n",
       "      <td>[Thriller]</td>\n",
       "      <td>[53]</td>\n",
       "      <td>681</td>\n",
       "    </tr>\n",
       "    <tr>\n",
       "      <th>4</th>\n",
       "      <td>[Action, Thriller]</td>\n",
       "      <td>[28, 53]</td>\n",
       "      <td>670</td>\n",
       "    </tr>\n",
       "    <tr>\n",
       "      <th>5</th>\n",
       "      <td>[Drama, Comedy]</td>\n",
       "      <td>[18, 35]</td>\n",
       "      <td>419</td>\n",
       "    </tr>\n",
       "    <tr>\n",
       "      <th>6</th>\n",
       "      <td>[Drama, Action, Thriller]</td>\n",
       "      <td>[18, 28, 53]</td>\n",
       "      <td>395</td>\n",
       "    </tr>\n",
       "    <tr>\n",
       "      <th>7</th>\n",
       "      <td>[Drama, Romance]</td>\n",
       "      <td>[18, 10749]</td>\n",
       "      <td>324</td>\n",
       "    </tr>\n",
       "    <tr>\n",
       "      <th>8</th>\n",
       "      <td>[Drama, Comedy, Romance]</td>\n",
       "      <td>[18, 35, 10749]</td>\n",
       "      <td>298</td>\n",
       "    </tr>\n",
       "    <tr>\n",
       "      <th>9</th>\n",
       "      <td>[Action]</td>\n",
       "      <td>[28]</td>\n",
       "      <td>267</td>\n",
       "    </tr>\n",
       "    <tr>\n",
       "      <th>10</th>\n",
       "      <td>[Drama, Action]</td>\n",
       "      <td>[18, 28]</td>\n",
       "      <td>266</td>\n",
       "    </tr>\n",
       "    <tr>\n",
       "      <th>11</th>\n",
       "      <td>[Comedy, Romance]</td>\n",
       "      <td>[35, 10749]</td>\n",
       "      <td>237</td>\n",
       "    </tr>\n",
       "    <tr>\n",
       "      <th>12</th>\n",
       "      <td>[Documentary]</td>\n",
       "      <td>[99]</td>\n",
       "      <td>194</td>\n",
       "    </tr>\n",
       "    <tr>\n",
       "      <th>13</th>\n",
       "      <td>[Action, Comedy, Thriller]</td>\n",
       "      <td>[28, 35, 53]</td>\n",
       "      <td>155</td>\n",
       "    </tr>\n",
       "    <tr>\n",
       "      <th>14</th>\n",
       "      <td>[Comedy, Thriller]</td>\n",
       "      <td>[35, 53]</td>\n",
       "      <td>155</td>\n",
       "    </tr>\n",
       "    <tr>\n",
       "      <th>15</th>\n",
       "      <td>[Action, Comedy]</td>\n",
       "      <td>[28, 35]</td>\n",
       "      <td>154</td>\n",
       "    </tr>\n",
       "    <tr>\n",
       "      <th>16</th>\n",
       "      <td>[Animation, Action]</td>\n",
       "      <td>[16, 28]</td>\n",
       "      <td>100</td>\n",
       "    </tr>\n",
       "    <tr>\n",
       "      <th>17</th>\n",
       "      <td>[Animation, Action, Comedy, Family]</td>\n",
       "      <td>[16, 28, 35, 10751]</td>\n",
       "      <td>98</td>\n",
       "    </tr>\n",
       "    <tr>\n",
       "      <th>18</th>\n",
       "      <td>[Animation, Action, Family]</td>\n",
       "      <td>[16, 28, 10751]</td>\n",
       "      <td>91</td>\n",
       "    </tr>\n",
       "    <tr>\n",
       "      <th>19</th>\n",
       "      <td>[Animation, Family]</td>\n",
       "      <td>[16, 10751]</td>\n",
       "      <td>82</td>\n",
       "    </tr>\n",
       "  </tbody>\n",
       "</table>\n",
       "</div>"
      ],
      "text/plain": [
       "                             genre_name             genre_id  num_movies\n",
       "0                               [Drama]                 [18]         829\n",
       "1                     [Drama, Thriller]             [18, 53]         729\n",
       "2                              [Comedy]                 [35]         683\n",
       "3                            [Thriller]                 [53]         681\n",
       "4                    [Action, Thriller]             [28, 53]         670\n",
       "5                       [Drama, Comedy]             [18, 35]         419\n",
       "6             [Drama, Action, Thriller]         [18, 28, 53]         395\n",
       "7                      [Drama, Romance]          [18, 10749]         324\n",
       "8              [Drama, Comedy, Romance]      [18, 35, 10749]         298\n",
       "9                              [Action]                 [28]         267\n",
       "10                      [Drama, Action]             [18, 28]         266\n",
       "11                    [Comedy, Romance]          [35, 10749]         237\n",
       "12                        [Documentary]                 [99]         194\n",
       "13           [Action, Comedy, Thriller]         [28, 35, 53]         155\n",
       "14                   [Comedy, Thriller]             [35, 53]         155\n",
       "15                     [Action, Comedy]             [28, 35]         154\n",
       "16                  [Animation, Action]             [16, 28]         100\n",
       "17  [Animation, Action, Comedy, Family]  [16, 28, 35, 10751]          98\n",
       "18          [Animation, Action, Family]      [16, 28, 10751]          91\n",
       "19                  [Animation, Family]          [16, 10751]          82"
      ]
     },
     "execution_count": 722,
     "metadata": {},
     "output_type": "execute_result"
    }
   ],
   "source": [
    "selected_genres_multilabel_sums"
   ]
  },
  {
   "cell_type": "code",
   "execution_count": 723,
   "metadata": {
    "collapsed": true
   },
   "outputs": [],
   "source": [
    "selected_genres_multilabel_sums.to_csv('selected_genres_multilabel_sums.csv', index=False)"
   ]
  },
  {
   "cell_type": "markdown",
   "metadata": {},
   "source": [
    "*Add Genre Names to Selected Movies List*"
   ]
  },
  {
   "cell_type": "code",
   "execution_count": 724,
   "metadata": {
    "collapsed": false
   },
   "outputs": [],
   "source": [
    "selected_movies_multilabel_genre_ids = pd.Series(selected_movies_multilabel.loc[:, 'genre_id'])"
   ]
  },
  {
   "cell_type": "code",
   "execution_count": 725,
   "metadata": {
    "collapsed": false
   },
   "outputs": [],
   "source": [
    "genres_with_names = get_genre_names(selected_movies_multilabel_genre_ids, tmdb_genre_df)"
   ]
  },
  {
   "cell_type": "code",
   "execution_count": 726,
   "metadata": {
    "collapsed": false
   },
   "outputs": [],
   "source": [
    "selected_movies_multilabel = pd.concat((selected_movies_multilabel, genres_with_names), axis=1)"
   ]
  },
  {
   "cell_type": "code",
   "execution_count": 779,
   "metadata": {
    "collapsed": false
   },
   "outputs": [
    {
     "data": {
      "text/html": [
       "<div>\n",
       "<table border=\"1\" class=\"dataframe\">\n",
       "  <thead>\n",
       "    <tr style=\"text-align: right;\">\n",
       "      <th></th>\n",
       "      <th>movie_id</th>\n",
       "      <th>genre_id</th>\n",
       "      <th>genre_name</th>\n",
       "    </tr>\n",
       "  </thead>\n",
       "  <tbody>\n",
       "    <tr>\n",
       "      <th>0</th>\n",
       "      <td>297761</td>\n",
       "      <td>[28, 53]</td>\n",
       "      <td>[Action, Thriller]</td>\n",
       "    </tr>\n",
       "    <tr>\n",
       "      <th>1</th>\n",
       "      <td>209112</td>\n",
       "      <td>[28]</td>\n",
       "      <td>[Action]</td>\n",
       "    </tr>\n",
       "    <tr>\n",
       "      <th>2</th>\n",
       "      <td>271110</td>\n",
       "      <td>[28]</td>\n",
       "      <td>[Action]</td>\n",
       "    </tr>\n",
       "    <tr>\n",
       "      <th>3</th>\n",
       "      <td>329865</td>\n",
       "      <td>[18, 28, 53]</td>\n",
       "      <td>[Drama, Action, Thriller]</td>\n",
       "    </tr>\n",
       "    <tr>\n",
       "      <th>4</th>\n",
       "      <td>284052</td>\n",
       "      <td>[28]</td>\n",
       "      <td>[Action]</td>\n",
       "    </tr>\n",
       "    <tr>\n",
       "      <th>5</th>\n",
       "      <td>246655</td>\n",
       "      <td>[28]</td>\n",
       "      <td>[Action]</td>\n",
       "    </tr>\n",
       "    <tr>\n",
       "      <th>6</th>\n",
       "      <td>269149</td>\n",
       "      <td>[16, 28, 35, 10751]</td>\n",
       "      <td>[Animation, Action, Comedy, Family]</td>\n",
       "    </tr>\n",
       "    <tr>\n",
       "      <th>7</th>\n",
       "      <td>259316</td>\n",
       "      <td>[28]</td>\n",
       "      <td>[Action]</td>\n",
       "    </tr>\n",
       "    <tr>\n",
       "      <th>8</th>\n",
       "      <td>330459</td>\n",
       "      <td>[18, 28]</td>\n",
       "      <td>[Drama, Action]</td>\n",
       "    </tr>\n",
       "    <tr>\n",
       "      <th>9</th>\n",
       "      <td>127380</td>\n",
       "      <td>[16, 28, 35, 10751]</td>\n",
       "      <td>[Animation, Action, Comedy, Family]</td>\n",
       "    </tr>\n",
       "  </tbody>\n",
       "</table>\n",
       "</div>"
      ],
      "text/plain": [
       "  movie_id             genre_id                           genre_name\n",
       "0   297761             [28, 53]                   [Action, Thriller]\n",
       "1   209112                 [28]                             [Action]\n",
       "2   271110                 [28]                             [Action]\n",
       "3   329865         [18, 28, 53]            [Drama, Action, Thriller]\n",
       "4   284052                 [28]                             [Action]\n",
       "5   246655                 [28]                             [Action]\n",
       "6   269149  [16, 28, 35, 10751]  [Animation, Action, Comedy, Family]\n",
       "7   259316                 [28]                             [Action]\n",
       "8   330459             [18, 28]                      [Drama, Action]\n",
       "9   127380  [16, 28, 35, 10751]  [Animation, Action, Comedy, Family]"
      ]
     },
     "execution_count": 779,
     "metadata": {},
     "output_type": "execute_result"
    }
   ],
   "source": [
    "selected_movies_multilabel.iloc[:10, :]"
   ]
  },
  {
   "cell_type": "code",
   "execution_count": 728,
   "metadata": {
    "collapsed": true
   },
   "outputs": [],
   "source": [
    "selected_movies_multilabel.to_csv('y_labels_multilabel.csv', index=False)"
   ]
  },
  {
   "cell_type": "markdown",
   "metadata": {},
   "source": [
    "### Further Reduction to Multiclass"
   ]
  },
  {
   "cell_type": "code",
   "execution_count": 729,
   "metadata": {
    "collapsed": true
   },
   "outputs": [],
   "source": [
    "def genre_dominator(movies_genres, genre_id_table, dominant_genre):\n",
    "    \n",
    "    dominant_genre_series = pd.Series([dominant_genre])\n",
    "    \n",
    "    for i in range(0, len(movies_genres)):\n",
    "        \n",
    "        genres_series = pd.Series(movies_genres.iloc[i, 2:13])\n",
    "        \n",
    "        if (dominant_genre_series.isin(genres_series)[0]):\n",
    "            \n",
    "            movies_genres.loc[i, 'num_genres'] = 1\n",
    "            movies_genres.iloc[i, 2] = dominant_genre\n",
    "            movies_genres.iloc[i, 3:13] = 0\n",
    "            \n",
    "    return movies_genres"
   ]
  },
  {
   "cell_type": "code",
   "execution_count": 730,
   "metadata": {
    "collapsed": false
   },
   "outputs": [],
   "source": [
    "movies_genres_multiclass = movies_genres_multilabel.copy()"
   ]
  },
  {
   "cell_type": "code",
   "execution_count": 731,
   "metadata": {
    "collapsed": true
   },
   "outputs": [],
   "source": [
    "# make any genre pair with 'documentary' ONLY 'documentary'\n",
    "movies_genres_multiclass = genre_dominator(movies_genres_multiclass, genre_id_table, 99)"
   ]
  },
  {
   "cell_type": "code",
   "execution_count": 732,
   "metadata": {
    "collapsed": false
   },
   "outputs": [],
   "source": [
    "# make any genre pair with 'animation' ONLY 'animation'\n",
    "movies_genres_multiclass = genre_dominator(movies_genres_multiclass, genre_id_table, 16)"
   ]
  },
  {
   "cell_type": "code",
   "execution_count": 733,
   "metadata": {
    "collapsed": false
   },
   "outputs": [],
   "source": [
    "# make any genre pair with 'romance' ONLY 'romance'\n",
    "movies_genres_multiclass = genre_dominator(movies_genres_multiclass, genre_id_table, 10749)"
   ]
  },
  {
   "cell_type": "code",
   "execution_count": 734,
   "metadata": {
    "collapsed": false
   },
   "outputs": [],
   "source": [
    "# make any genre pair with 'comedy' ONLY 'comedy'\n",
    "movies_genres_multiclass = genre_dominator(movies_genres_multiclass, genre_id_table, 35)"
   ]
  },
  {
   "cell_type": "code",
   "execution_count": 735,
   "metadata": {
    "collapsed": false
   },
   "outputs": [],
   "source": [
    "# make any genre pair with 'action' ONLY 'action'\n",
    "movies_genres_multiclass = genre_dominator(movies_genres_multiclass, genre_id_table, 28)"
   ]
  },
  {
   "cell_type": "code",
   "execution_count": 736,
   "metadata": {
    "collapsed": true
   },
   "outputs": [],
   "source": [
    "# make any genre pair with 'thriller' ONLY 'thriller'\n",
    "movies_genres_multiclass = genre_dominator(movies_genres_multiclass, genre_id_table, 53)"
   ]
  },
  {
   "cell_type": "code",
   "execution_count": 737,
   "metadata": {
    "collapsed": true
   },
   "outputs": [],
   "source": [
    "### ADD/CHANGE REDUCTION HERE!!!"
   ]
  },
  {
   "cell_type": "code",
   "execution_count": null,
   "metadata": {
    "collapsed": true
   },
   "outputs": [],
   "source": []
  },
  {
   "cell_type": "code",
   "execution_count": 738,
   "metadata": {
    "collapsed": false
   },
   "outputs": [],
   "source": [
    "genre_id_multiclass = genre_id_multilabel.copy()"
   ]
  },
  {
   "cell_type": "code",
   "execution_count": 739,
   "metadata": {
    "collapsed": false
   },
   "outputs": [
    {
     "data": {
      "text/html": [
       "<div>\n",
       "<table border=\"1\" class=\"dataframe\">\n",
       "  <thead>\n",
       "    <tr style=\"text-align: right;\">\n",
       "      <th></th>\n",
       "      <th>num_movies_with_genre</th>\n",
       "    </tr>\n",
       "    <tr>\n",
       "      <th>genre</th>\n",
       "      <th></th>\n",
       "    </tr>\n",
       "  </thead>\n",
       "  <tbody>\n",
       "    <tr>\n",
       "      <th>Action</th>\n",
       "      <td>1683</td>\n",
       "    </tr>\n",
       "    <tr>\n",
       "      <th>Animation</th>\n",
       "      <td>627</td>\n",
       "    </tr>\n",
       "    <tr>\n",
       "      <th>Comedy</th>\n",
       "      <td>1930</td>\n",
       "    </tr>\n",
       "    <tr>\n",
       "      <th>Documentary</th>\n",
       "      <td>314</td>\n",
       "    </tr>\n",
       "    <tr>\n",
       "      <th>Drama</th>\n",
       "      <td>846</td>\n",
       "    </tr>\n",
       "    <tr>\n",
       "      <th>Family</th>\n",
       "      <td>22</td>\n",
       "    </tr>\n",
       "    <tr>\n",
       "      <th>Romance</th>\n",
       "      <td>1221</td>\n",
       "    </tr>\n",
       "    <tr>\n",
       "      <th>Thriller</th>\n",
       "      <td>1412</td>\n",
       "    </tr>\n",
       "  </tbody>\n",
       "</table>\n",
       "</div>"
      ],
      "text/plain": [
       "            num_movies_with_genre\n",
       "genre                            \n",
       "Action                       1683\n",
       "Animation                     627\n",
       "Comedy                       1930\n",
       "Documentary                   314\n",
       "Drama                         846\n",
       "Family                         22\n",
       "Romance                      1221\n",
       "Thriller                     1412"
      ]
     },
     "execution_count": 739,
     "metadata": {},
     "output_type": "execute_result"
    }
   ],
   "source": [
    "genre_totals_multiclass = get_genre_totals(genre_id_multiclass, genre_pairs_multiclass)\n",
    "genre_totals_multiclass"
   ]
  },
  {
   "cell_type": "code",
   "execution_count": 740,
   "metadata": {
    "collapsed": false,
    "scrolled": true
   },
   "outputs": [
    {
     "data": {
      "image/png": "[encoded data removed]",
      "text/plain": [
       "<matplotlib.figure.Figure at 0x114882b10>"
      ]
     },
     "metadata": {},
     "output_type": "display_data"
    }
   ],
   "source": [
    "plot_genre_hist(movies_genres_multiclass)"
   ]
  },
  {
   "cell_type": "code",
   "execution_count": 741,
   "metadata": {
    "collapsed": false
   },
   "outputs": [],
   "source": [
    "unique_genres_multiclass, movies_genres_list_multiclass = get_unique_genre_pairs(movies_genres_multiclass)"
   ]
  },
  {
   "cell_type": "code",
   "execution_count": 742,
   "metadata": {
    "collapsed": false
   },
   "outputs": [
    {
     "data": {
      "text/html": [
       "<div>\n",
       "<table border=\"1\" class=\"dataframe\">\n",
       "  <thead>\n",
       "    <tr style=\"text-align: right;\">\n",
       "      <th></th>\n",
       "      <th>genre_id</th>\n",
       "      <th>num_movies</th>\n",
       "    </tr>\n",
       "  </thead>\n",
       "  <tbody>\n",
       "    <tr>\n",
       "      <th>0</th>\n",
       "      <td>[35]</td>\n",
       "      <td>1930</td>\n",
       "    </tr>\n",
       "    <tr>\n",
       "      <th>1</th>\n",
       "      <td>[28]</td>\n",
       "      <td>1683</td>\n",
       "    </tr>\n",
       "    <tr>\n",
       "      <th>2</th>\n",
       "      <td>[53]</td>\n",
       "      <td>1412</td>\n",
       "    </tr>\n",
       "    <tr>\n",
       "      <th>3</th>\n",
       "      <td>[10749]</td>\n",
       "      <td>1221</td>\n",
       "    </tr>\n",
       "    <tr>\n",
       "      <th>4</th>\n",
       "      <td>[18]</td>\n",
       "      <td>829</td>\n",
       "    </tr>\n",
       "    <tr>\n",
       "      <th>5</th>\n",
       "      <td>[16]</td>\n",
       "      <td>627</td>\n",
       "    </tr>\n",
       "    <tr>\n",
       "      <th>6</th>\n",
       "      <td>[99]</td>\n",
       "      <td>314</td>\n",
       "    </tr>\n",
       "    <tr>\n",
       "      <th>7</th>\n",
       "      <td>[]</td>\n",
       "      <td>22</td>\n",
       "    </tr>\n",
       "    <tr>\n",
       "      <th>8</th>\n",
       "      <td>[18, 10751]</td>\n",
       "      <td>17</td>\n",
       "    </tr>\n",
       "    <tr>\n",
       "      <th>9</th>\n",
       "      <td>[10751]</td>\n",
       "      <td>5</td>\n",
       "    </tr>\n",
       "  </tbody>\n",
       "</table>\n",
       "</div>"
      ],
      "text/plain": [
       "      genre_id  num_movies\n",
       "0         [35]        1930\n",
       "1         [28]        1683\n",
       "2         [53]        1412\n",
       "3      [10749]        1221\n",
       "4         [18]         829\n",
       "5         [16]         627\n",
       "6         [99]         314\n",
       "7           []          22\n",
       "8  [18, 10751]          17\n",
       "9      [10751]           5"
      ]
     },
     "execution_count": 742,
     "metadata": {},
     "output_type": "execute_result"
    }
   ],
   "source": [
    "unique_genres_multiclass"
   ]
  },
  {
   "cell_type": "markdown",
   "metadata": {},
   "source": [
    "*Reduced Multiclass Genres (Remove Those Less Than Threshold)*"
   ]
  },
  {
   "cell_type": "code",
   "execution_count": 743,
   "metadata": {
    "collapsed": false
   },
   "outputs": [],
   "source": [
    "selected_genres_multiclass = select_genres(0.01, unique_genres_multiclass)"
   ]
  },
  {
   "cell_type": "code",
   "execution_count": 744,
   "metadata": {
    "collapsed": false
   },
   "outputs": [
    {
     "data": {
      "text/html": [
       "<div>\n",
       "<table border=\"1\" class=\"dataframe\">\n",
       "  <thead>\n",
       "    <tr style=\"text-align: right;\">\n",
       "      <th></th>\n",
       "      <th>genre_id</th>\n",
       "      <th>num_movies</th>\n",
       "    </tr>\n",
       "  </thead>\n",
       "  <tbody>\n",
       "    <tr>\n",
       "      <th>0</th>\n",
       "      <td>[35]</td>\n",
       "      <td>1930</td>\n",
       "    </tr>\n",
       "    <tr>\n",
       "      <th>1</th>\n",
       "      <td>[28]</td>\n",
       "      <td>1683</td>\n",
       "    </tr>\n",
       "    <tr>\n",
       "      <th>2</th>\n",
       "      <td>[53]</td>\n",
       "      <td>1412</td>\n",
       "    </tr>\n",
       "    <tr>\n",
       "      <th>3</th>\n",
       "      <td>[10749]</td>\n",
       "      <td>1221</td>\n",
       "    </tr>\n",
       "    <tr>\n",
       "      <th>4</th>\n",
       "      <td>[18]</td>\n",
       "      <td>829</td>\n",
       "    </tr>\n",
       "    <tr>\n",
       "      <th>5</th>\n",
       "      <td>[16]</td>\n",
       "      <td>627</td>\n",
       "    </tr>\n",
       "    <tr>\n",
       "      <th>6</th>\n",
       "      <td>[99]</td>\n",
       "      <td>314</td>\n",
       "    </tr>\n",
       "  </tbody>\n",
       "</table>\n",
       "</div>"
      ],
      "text/plain": [
       "  genre_id  num_movies\n",
       "0     [35]        1930\n",
       "1     [28]        1683\n",
       "2     [53]        1412\n",
       "3  [10749]        1221\n",
       "4     [18]         829\n",
       "5     [16]         627\n",
       "6     [99]         314"
      ]
     },
     "execution_count": 744,
     "metadata": {},
     "output_type": "execute_result"
    }
   ],
   "source": [
    "selected_genres_multiclass"
   ]
  },
  {
   "cell_type": "code",
   "execution_count": 745,
   "metadata": {
    "collapsed": false
   },
   "outputs": [
    {
     "data": {
      "text/plain": [
       "0.0054590570719602605"
      ]
     },
     "execution_count": 745,
     "metadata": {},
     "output_type": "execute_result"
    }
   ],
   "source": [
    "1 - float(sum(selected_genres_multiclass.iloc[:, 1])) / len(movies_genres_multiclass)"
   ]
  },
  {
   "cell_type": "markdown",
   "metadata": {},
   "source": [
    "*Revised Overall Multiclass Dataset*"
   ]
  },
  {
   "cell_type": "code",
   "execution_count": 746,
   "metadata": {
    "collapsed": true
   },
   "outputs": [],
   "source": [
    "selected_movies_multiclass = selected_movies(movies_genres_list_multiclass, selected_genres_multiclass)"
   ]
  },
  {
   "cell_type": "code",
   "execution_count": 747,
   "metadata": {
    "collapsed": false
   },
   "outputs": [
    {
     "data": {
      "text/html": [
       "<div>\n",
       "<table border=\"1\" class=\"dataframe\">\n",
       "  <thead>\n",
       "    <tr style=\"text-align: right;\">\n",
       "      <th></th>\n",
       "      <th>movie_id</th>\n",
       "      <th>genre_id</th>\n",
       "    </tr>\n",
       "  </thead>\n",
       "  <tbody>\n",
       "    <tr>\n",
       "      <th>0</th>\n",
       "      <td>293660</td>\n",
       "      <td>[10749]</td>\n",
       "    </tr>\n",
       "    <tr>\n",
       "      <th>1</th>\n",
       "      <td>297761</td>\n",
       "      <td>[28]</td>\n",
       "    </tr>\n",
       "    <tr>\n",
       "      <th>2</th>\n",
       "      <td>209112</td>\n",
       "      <td>[28]</td>\n",
       "    </tr>\n",
       "    <tr>\n",
       "      <th>3</th>\n",
       "      <td>271110</td>\n",
       "      <td>[28]</td>\n",
       "    </tr>\n",
       "    <tr>\n",
       "      <th>4</th>\n",
       "      <td>329865</td>\n",
       "      <td>[28]</td>\n",
       "    </tr>\n",
       "    <tr>\n",
       "      <th>5</th>\n",
       "      <td>284052</td>\n",
       "      <td>[28]</td>\n",
       "    </tr>\n",
       "    <tr>\n",
       "      <th>6</th>\n",
       "      <td>246655</td>\n",
       "      <td>[28]</td>\n",
       "    </tr>\n",
       "    <tr>\n",
       "      <th>7</th>\n",
       "      <td>269149</td>\n",
       "      <td>[16]</td>\n",
       "    </tr>\n",
       "    <tr>\n",
       "      <th>8</th>\n",
       "      <td>259316</td>\n",
       "      <td>[28]</td>\n",
       "    </tr>\n",
       "    <tr>\n",
       "      <th>9</th>\n",
       "      <td>330459</td>\n",
       "      <td>[28]</td>\n",
       "    </tr>\n",
       "    <tr>\n",
       "      <th>10</th>\n",
       "      <td>127380</td>\n",
       "      <td>[16]</td>\n",
       "    </tr>\n",
       "    <tr>\n",
       "      <th>11</th>\n",
       "      <td>328111</td>\n",
       "      <td>[16]</td>\n",
       "    </tr>\n",
       "    <tr>\n",
       "      <th>12</th>\n",
       "      <td>313369</td>\n",
       "      <td>[10749]</td>\n",
       "    </tr>\n",
       "    <tr>\n",
       "      <th>13</th>\n",
       "      <td>274870</td>\n",
       "      <td>[10749]</td>\n",
       "    </tr>\n",
       "    <tr>\n",
       "      <th>14</th>\n",
       "      <td>278927</td>\n",
       "      <td>[28]</td>\n",
       "    </tr>\n",
       "    <tr>\n",
       "      <th>15</th>\n",
       "      <td>291805</td>\n",
       "      <td>[35]</td>\n",
       "    </tr>\n",
       "    <tr>\n",
       "      <th>16</th>\n",
       "      <td>277834</td>\n",
       "      <td>[16]</td>\n",
       "    </tr>\n",
       "    <tr>\n",
       "      <th>17</th>\n",
       "      <td>47933</td>\n",
       "      <td>[28]</td>\n",
       "    </tr>\n",
       "    <tr>\n",
       "      <th>18</th>\n",
       "      <td>188927</td>\n",
       "      <td>[28]</td>\n",
       "    </tr>\n",
       "    <tr>\n",
       "      <th>19</th>\n",
       "      <td>258489</td>\n",
       "      <td>[28]</td>\n",
       "    </tr>\n",
       "  </tbody>\n",
       "</table>\n",
       "</div>"
      ],
      "text/plain": [
       "   movie_id genre_id\n",
       "0    293660  [10749]\n",
       "1    297761     [28]\n",
       "2    209112     [28]\n",
       "3    271110     [28]\n",
       "4    329865     [28]\n",
       "5    284052     [28]\n",
       "6    246655     [28]\n",
       "7    269149     [16]\n",
       "8    259316     [28]\n",
       "9    330459     [28]\n",
       "10   127380     [16]\n",
       "11   328111     [16]\n",
       "12   313369  [10749]\n",
       "13   274870  [10749]\n",
       "14   278927     [28]\n",
       "15   291805     [35]\n",
       "16   277834     [16]\n",
       "17    47933     [28]\n",
       "18   188927     [28]\n",
       "19   258489     [28]"
      ]
     },
     "execution_count": 747,
     "metadata": {},
     "output_type": "execute_result"
    }
   ],
   "source": [
    "selected_movies_multiclass.iloc[:20, :]"
   ]
  },
  {
   "cell_type": "code",
   "execution_count": 748,
   "metadata": {
    "collapsed": false
   },
   "outputs": [
    {
     "data": {
      "text/plain": [
       "8016"
      ]
     },
     "execution_count": 748,
     "metadata": {},
     "output_type": "execute_result"
    }
   ],
   "source": [
    "len(selected_movies_multiclass)"
   ]
  },
  {
   "cell_type": "code",
   "execution_count": 749,
   "metadata": {
    "collapsed": false
   },
   "outputs": [
    {
     "data": {
      "text/plain": [
       "8016"
      ]
     },
     "execution_count": 749,
     "metadata": {},
     "output_type": "execute_result"
    }
   ],
   "source": [
    "sum(selected_genres_multiclass.iloc[:, 1])"
   ]
  },
  {
   "cell_type": "markdown",
   "metadata": {},
   "source": [
    "*Add Genre Names to Number of Movies List*"
   ]
  },
  {
   "cell_type": "code",
   "execution_count": 750,
   "metadata": {
    "collapsed": false
   },
   "outputs": [],
   "source": [
    "selected_genres_multiclass_genre_ids = pd.Series(selected_genres_multiclass.loc[:, 'genre_id'])"
   ]
  },
  {
   "cell_type": "code",
   "execution_count": 751,
   "metadata": {
    "collapsed": false
   },
   "outputs": [],
   "source": [
    "genres_with_names = get_genre_names(selected_genres_multiclass_genre_ids, tmdb_genre_df)"
   ]
  },
  {
   "cell_type": "code",
   "execution_count": 752,
   "metadata": {
    "collapsed": false
   },
   "outputs": [],
   "source": [
    "selected_genres_multiclass_sums = pd.concat((genres_with_names, selected_genres_multiclass), axis=1)"
   ]
  },
  {
   "cell_type": "code",
   "execution_count": 753,
   "metadata": {
    "collapsed": false
   },
   "outputs": [
    {
     "data": {
      "text/html": [
       "<div>\n",
       "<table border=\"1\" class=\"dataframe\">\n",
       "  <thead>\n",
       "    <tr style=\"text-align: right;\">\n",
       "      <th></th>\n",
       "      <th>genre_name</th>\n",
       "      <th>genre_id</th>\n",
       "      <th>num_movies</th>\n",
       "    </tr>\n",
       "  </thead>\n",
       "  <tbody>\n",
       "    <tr>\n",
       "      <th>0</th>\n",
       "      <td>[Comedy]</td>\n",
       "      <td>[35]</td>\n",
       "      <td>1930</td>\n",
       "    </tr>\n",
       "    <tr>\n",
       "      <th>1</th>\n",
       "      <td>[Action]</td>\n",
       "      <td>[28]</td>\n",
       "      <td>1683</td>\n",
       "    </tr>\n",
       "    <tr>\n",
       "      <th>2</th>\n",
       "      <td>[Thriller]</td>\n",
       "      <td>[53]</td>\n",
       "      <td>1412</td>\n",
       "    </tr>\n",
       "    <tr>\n",
       "      <th>3</th>\n",
       "      <td>[Romance]</td>\n",
       "      <td>[10749]</td>\n",
       "      <td>1221</td>\n",
       "    </tr>\n",
       "    <tr>\n",
       "      <th>4</th>\n",
       "      <td>[Drama]</td>\n",
       "      <td>[18]</td>\n",
       "      <td>829</td>\n",
       "    </tr>\n",
       "    <tr>\n",
       "      <th>5</th>\n",
       "      <td>[Animation]</td>\n",
       "      <td>[16]</td>\n",
       "      <td>627</td>\n",
       "    </tr>\n",
       "    <tr>\n",
       "      <th>6</th>\n",
       "      <td>[Documentary]</td>\n",
       "      <td>[99]</td>\n",
       "      <td>314</td>\n",
       "    </tr>\n",
       "  </tbody>\n",
       "</table>\n",
       "</div>"
      ],
      "text/plain": [
       "      genre_name genre_id  num_movies\n",
       "0       [Comedy]     [35]        1930\n",
       "1       [Action]     [28]        1683\n",
       "2     [Thriller]     [53]        1412\n",
       "3      [Romance]  [10749]        1221\n",
       "4        [Drama]     [18]         829\n",
       "5    [Animation]     [16]         627\n",
       "6  [Documentary]     [99]         314"
      ]
     },
     "execution_count": 753,
     "metadata": {},
     "output_type": "execute_result"
    }
   ],
   "source": [
    "selected_genres_multiclass_sums"
   ]
  },
  {
   "cell_type": "code",
   "execution_count": 754,
   "metadata": {
    "collapsed": true
   },
   "outputs": [],
   "source": [
    "selected_genres_multiclass_sums.to_csv('selected_genres_multiclass_sums.csv', index=False)"
   ]
  },
  {
   "cell_type": "markdown",
   "metadata": {},
   "source": [
    "*Add Genre Names to Selected Movies List*"
   ]
  },
  {
   "cell_type": "code",
   "execution_count": 755,
   "metadata": {
    "collapsed": false
   },
   "outputs": [],
   "source": [
    "selected_movies_multiclass_genre_ids = pd.Series(selected_movies_multiclass.loc[:, 'genre_id'])"
   ]
  },
  {
   "cell_type": "code",
   "execution_count": 756,
   "metadata": {
    "collapsed": false
   },
   "outputs": [],
   "source": [
    "genres_with_names = get_genre_names(selected_movies_multiclass_genre_ids, tmdb_genre_df)"
   ]
  },
  {
   "cell_type": "code",
   "execution_count": 757,
   "metadata": {
    "collapsed": false
   },
   "outputs": [],
   "source": [
    "selected_movies_multiclass = pd.concat((selected_movies_multiclass, genres_with_names), axis=1)"
   ]
  },
  {
   "cell_type": "code",
   "execution_count": 781,
   "metadata": {
    "collapsed": false
   },
   "outputs": [
    {
     "data": {
      "text/html": [
       "<div>\n",
       "<table border=\"1\" class=\"dataframe\">\n",
       "  <thead>\n",
       "    <tr style=\"text-align: right;\">\n",
       "      <th></th>\n",
       "      <th>movie_id</th>\n",
       "      <th>genre_id</th>\n",
       "      <th>genre_name</th>\n",
       "    </tr>\n",
       "  </thead>\n",
       "  <tbody>\n",
       "    <tr>\n",
       "      <th>0</th>\n",
       "      <td>293660</td>\n",
       "      <td>[10749]</td>\n",
       "      <td>[Romance]</td>\n",
       "    </tr>\n",
       "    <tr>\n",
       "      <th>1</th>\n",
       "      <td>297761</td>\n",
       "      <td>[28]</td>\n",
       "      <td>[Action]</td>\n",
       "    </tr>\n",
       "    <tr>\n",
       "      <th>2</th>\n",
       "      <td>209112</td>\n",
       "      <td>[28]</td>\n",
       "      <td>[Action]</td>\n",
       "    </tr>\n",
       "    <tr>\n",
       "      <th>3</th>\n",
       "      <td>271110</td>\n",
       "      <td>[28]</td>\n",
       "      <td>[Action]</td>\n",
       "    </tr>\n",
       "    <tr>\n",
       "      <th>4</th>\n",
       "      <td>329865</td>\n",
       "      <td>[28]</td>\n",
       "      <td>[Action]</td>\n",
       "    </tr>\n",
       "    <tr>\n",
       "      <th>5</th>\n",
       "      <td>284052</td>\n",
       "      <td>[28]</td>\n",
       "      <td>[Action]</td>\n",
       "    </tr>\n",
       "    <tr>\n",
       "      <th>6</th>\n",
       "      <td>246655</td>\n",
       "      <td>[28]</td>\n",
       "      <td>[Action]</td>\n",
       "    </tr>\n",
       "    <tr>\n",
       "      <th>7</th>\n",
       "      <td>269149</td>\n",
       "      <td>[16]</td>\n",
       "      <td>[Animation]</td>\n",
       "    </tr>\n",
       "    <tr>\n",
       "      <th>8</th>\n",
       "      <td>259316</td>\n",
       "      <td>[28]</td>\n",
       "      <td>[Action]</td>\n",
       "    </tr>\n",
       "    <tr>\n",
       "      <th>9</th>\n",
       "      <td>330459</td>\n",
       "      <td>[28]</td>\n",
       "      <td>[Action]</td>\n",
       "    </tr>\n",
       "  </tbody>\n",
       "</table>\n",
       "</div>"
      ],
      "text/plain": [
       "  movie_id genre_id   genre_name\n",
       "0   293660  [10749]    [Romance]\n",
       "1   297761     [28]     [Action]\n",
       "2   209112     [28]     [Action]\n",
       "3   271110     [28]     [Action]\n",
       "4   329865     [28]     [Action]\n",
       "5   284052     [28]     [Action]\n",
       "6   246655     [28]     [Action]\n",
       "7   269149     [16]  [Animation]\n",
       "8   259316     [28]     [Action]\n",
       "9   330459     [28]     [Action]"
      ]
     },
     "execution_count": 781,
     "metadata": {},
     "output_type": "execute_result"
    }
   ],
   "source": [
    "selected_movies_multiclass.iloc[:10, :]"
   ]
  },
  {
   "cell_type": "code",
   "execution_count": 759,
   "metadata": {
    "collapsed": true
   },
   "outputs": [],
   "source": [
    "selected_movies_multiclass.to_csv('y_labels_multiclass.csv', index=False)"
   ]
  },
  {
   "cell_type": "markdown",
   "metadata": {},
   "source": [
    "### Stratified Sampler Function"
   ]
  },
  {
   "cell_type": "code",
   "execution_count": 764,
   "metadata": {
    "collapsed": false,
    "scrolled": false
   },
   "outputs": [
    {
     "data": {
      "text/html": [
       "<div>\n",
       "<table border=\"1\" class=\"dataframe\">\n",
       "  <thead>\n",
       "    <tr style=\"text-align: right;\">\n",
       "      <th></th>\n",
       "      <th>movie_id</th>\n",
       "      <th>genre_id</th>\n",
       "      <th>genre_name</th>\n",
       "    </tr>\n",
       "  </thead>\n",
       "  <tbody>\n",
       "    <tr>\n",
       "      <th>0</th>\n",
       "      <td>297761</td>\n",
       "      <td>[28, 53]</td>\n",
       "      <td>[u'Action', u'Thriller']</td>\n",
       "    </tr>\n",
       "    <tr>\n",
       "      <th>1</th>\n",
       "      <td>209112</td>\n",
       "      <td>[28]</td>\n",
       "      <td>[u'Action']</td>\n",
       "    </tr>\n",
       "    <tr>\n",
       "      <th>2</th>\n",
       "      <td>271110</td>\n",
       "      <td>[28]</td>\n",
       "      <td>[u'Action']</td>\n",
       "    </tr>\n",
       "    <tr>\n",
       "      <th>3</th>\n",
       "      <td>329865</td>\n",
       "      <td>[18, 28, 53]</td>\n",
       "      <td>[u'Drama', u'Action', u'Thriller']</td>\n",
       "    </tr>\n",
       "    <tr>\n",
       "      <th>4</th>\n",
       "      <td>284052</td>\n",
       "      <td>[28]</td>\n",
       "      <td>[u'Action']</td>\n",
       "    </tr>\n",
       "    <tr>\n",
       "      <th>5</th>\n",
       "      <td>246655</td>\n",
       "      <td>[28]</td>\n",
       "      <td>[u'Action']</td>\n",
       "    </tr>\n",
       "    <tr>\n",
       "      <th>6</th>\n",
       "      <td>269149</td>\n",
       "      <td>[16, 28, 35, 10751]</td>\n",
       "      <td>[u'Animation', u'Action', u'Comedy', u'Family']</td>\n",
       "    </tr>\n",
       "    <tr>\n",
       "      <th>7</th>\n",
       "      <td>259316</td>\n",
       "      <td>[28]</td>\n",
       "      <td>[u'Action']</td>\n",
       "    </tr>\n",
       "    <tr>\n",
       "      <th>8</th>\n",
       "      <td>330459</td>\n",
       "      <td>[18, 28]</td>\n",
       "      <td>[u'Drama', u'Action']</td>\n",
       "    </tr>\n",
       "    <tr>\n",
       "      <th>9</th>\n",
       "      <td>127380</td>\n",
       "      <td>[16, 28, 35, 10751]</td>\n",
       "      <td>[u'Animation', u'Action', u'Comedy', u'Family']</td>\n",
       "    </tr>\n",
       "  </tbody>\n",
       "</table>\n",
       "</div>"
      ],
      "text/plain": [
       "   movie_id             genre_id  \\\n",
       "0    297761             [28, 53]   \n",
       "1    209112                 [28]   \n",
       "2    271110                 [28]   \n",
       "3    329865         [18, 28, 53]   \n",
       "4    284052                 [28]   \n",
       "5    246655                 [28]   \n",
       "6    269149  [16, 28, 35, 10751]   \n",
       "7    259316                 [28]   \n",
       "8    330459             [18, 28]   \n",
       "9    127380  [16, 28, 35, 10751]   \n",
       "\n",
       "                                        genre_name  \n",
       "0                         [u'Action', u'Thriller']  \n",
       "1                                      [u'Action']  \n",
       "2                                      [u'Action']  \n",
       "3               [u'Drama', u'Action', u'Thriller']  \n",
       "4                                      [u'Action']  \n",
       "5                                      [u'Action']  \n",
       "6  [u'Animation', u'Action', u'Comedy', u'Family']  \n",
       "7                                      [u'Action']  \n",
       "8                            [u'Drama', u'Action']  \n",
       "9  [u'Animation', u'Action', u'Comedy', u'Family']  "
      ]
     },
     "execution_count": 764,
     "metadata": {},
     "output_type": "execute_result"
    }
   ],
   "source": [
    "y_labels_check = pd.read_csv('y_labels_multilabel.csv')\n",
    "y_labels_check.iloc[:10, :]"
   ]
  },
  {
   "cell_type": "code",
   "execution_count": 769,
   "metadata": {
    "collapsed": true
   },
   "outputs": [],
   "source": [
    "def stratified_sampler(dataset, observations):\n",
    "    # Performs a stratified sample on the dataset and returns the number of observations \n",
    "    # requested.\n",
    "    #\n",
    "    # Parameters:\n",
    "    #    dataset:  The dataframe to sample, observing class relationships.\n",
    "    #    observations:  The number of total target observations across all classes.\n",
    "    #\n",
    "    # Returns:\n",
    "    #    A pandas dataframe sampled from the dataset maintaining class relationships.\n",
    "    class_weights = dataset.groupby(\"genre_id\").agg(['count'])/len(dataset)\n",
    "    class_sample_counts = class_weights * observations\n",
    "    sampled = pd.DataFrame()\n",
    "    for class_to_sample in class_sample_counts.iterrows():\n",
    "        class_name = class_to_sample[0]\n",
    "        desired_class_observations = class_to_sample[1][0]\n",
    "        sampled_obs = dataset[dataset[\"genre_id\"]==class_name].sample(int(desired_class_observations), replace=\"True\")\n",
    "        sampled = sampled.append(sampled_obs, ignore_index=True)\n",
    "    return sampled"
   ]
  },
  {
   "cell_type": "code",
   "execution_count": 770,
   "metadata": {
    "collapsed": false
   },
   "outputs": [
    {
     "name": "stdout",
     "output_type": "stream",
     "text": [
      "990\n"
     ]
    }
   ],
   "source": [
    "temp = stratified_sampler(y_labels_check, 1000)\n",
    "print(len(temp))"
   ]
  },
  {
   "cell_type": "markdown",
   "metadata": {},
   "source": [
    "*Check Sampler Function*"
   ]
  },
  {
   "cell_type": "code",
   "execution_count": 773,
   "metadata": {
    "collapsed": false
   },
   "outputs": [],
   "source": [
    "class_weights_all = y_labels_check.groupby(\"genre_id\").agg(['count'])/len(y_labels_check)\n",
    "class_weights_sample = temp.groupby(\"genre_id\").agg(['count'])/len(temp)"
   ]
  },
  {
   "cell_type": "code",
   "execution_count": 774,
   "metadata": {
    "collapsed": false,
    "scrolled": true
   },
   "outputs": [
    {
     "data": {
      "text/html": [
       "<div>\n",
       "<table border=\"1\" class=\"dataframe\">\n",
       "  <thead>\n",
       "    <tr style=\"text-align: right;\">\n",
       "      <th></th>\n",
       "      <th>all_pct_genre</th>\n",
       "      <th>samp_pct_genre</th>\n",
       "      <th>delta_pct</th>\n",
       "    </tr>\n",
       "    <tr>\n",
       "      <th>genre_id</th>\n",
       "      <th></th>\n",
       "      <th></th>\n",
       "      <th></th>\n",
       "    </tr>\n",
       "  </thead>\n",
       "  <tbody>\n",
       "    <tr>\n",
       "      <th>[16, 10751]</th>\n",
       "      <td>1.20</td>\n",
       "      <td>1.21</td>\n",
       "      <td>-0.01</td>\n",
       "    </tr>\n",
       "    <tr>\n",
       "      <th>[16, 28, 10751]</th>\n",
       "      <td>1.33</td>\n",
       "      <td>1.31</td>\n",
       "      <td>0.02</td>\n",
       "    </tr>\n",
       "    <tr>\n",
       "      <th>[16, 28, 35, 10751]</th>\n",
       "      <td>1.44</td>\n",
       "      <td>1.41</td>\n",
       "      <td>0.03</td>\n",
       "    </tr>\n",
       "    <tr>\n",
       "      <th>[16, 28]</th>\n",
       "      <td>1.46</td>\n",
       "      <td>1.41</td>\n",
       "      <td>0.05</td>\n",
       "    </tr>\n",
       "    <tr>\n",
       "      <th>[18, 10749]</th>\n",
       "      <td>4.75</td>\n",
       "      <td>4.75</td>\n",
       "      <td>0.00</td>\n",
       "    </tr>\n",
       "    <tr>\n",
       "      <th>[18, 28, 53]</th>\n",
       "      <td>5.79</td>\n",
       "      <td>5.76</td>\n",
       "      <td>0.03</td>\n",
       "    </tr>\n",
       "    <tr>\n",
       "      <th>[18, 28]</th>\n",
       "      <td>3.90</td>\n",
       "      <td>3.84</td>\n",
       "      <td>0.06</td>\n",
       "    </tr>\n",
       "    <tr>\n",
       "      <th>[18, 35, 10749]</th>\n",
       "      <td>4.37</td>\n",
       "      <td>4.34</td>\n",
       "      <td>0.03</td>\n",
       "    </tr>\n",
       "    <tr>\n",
       "      <th>[18, 35]</th>\n",
       "      <td>6.14</td>\n",
       "      <td>6.16</td>\n",
       "      <td>-0.02</td>\n",
       "    </tr>\n",
       "    <tr>\n",
       "      <th>[18, 53]</th>\n",
       "      <td>10.68</td>\n",
       "      <td>10.71</td>\n",
       "      <td>-0.03</td>\n",
       "    </tr>\n",
       "    <tr>\n",
       "      <th>[18]</th>\n",
       "      <td>12.14</td>\n",
       "      <td>12.22</td>\n",
       "      <td>-0.08</td>\n",
       "    </tr>\n",
       "    <tr>\n",
       "      <th>[28, 35, 53]</th>\n",
       "      <td>2.27</td>\n",
       "      <td>2.22</td>\n",
       "      <td>0.05</td>\n",
       "    </tr>\n",
       "    <tr>\n",
       "      <th>[28, 35]</th>\n",
       "      <td>2.26</td>\n",
       "      <td>2.22</td>\n",
       "      <td>0.04</td>\n",
       "    </tr>\n",
       "    <tr>\n",
       "      <th>[28, 53]</th>\n",
       "      <td>9.81</td>\n",
       "      <td>9.90</td>\n",
       "      <td>-0.09</td>\n",
       "    </tr>\n",
       "    <tr>\n",
       "      <th>[28]</th>\n",
       "      <td>3.91</td>\n",
       "      <td>3.94</td>\n",
       "      <td>-0.03</td>\n",
       "    </tr>\n",
       "    <tr>\n",
       "      <th>[35, 10749]</th>\n",
       "      <td>3.47</td>\n",
       "      <td>3.43</td>\n",
       "      <td>0.04</td>\n",
       "    </tr>\n",
       "    <tr>\n",
       "      <th>[35, 53]</th>\n",
       "      <td>2.27</td>\n",
       "      <td>2.22</td>\n",
       "      <td>0.05</td>\n",
       "    </tr>\n",
       "    <tr>\n",
       "      <th>[35]</th>\n",
       "      <td>10.00</td>\n",
       "      <td>10.10</td>\n",
       "      <td>-0.10</td>\n",
       "    </tr>\n",
       "    <tr>\n",
       "      <th>[53]</th>\n",
       "      <td>9.98</td>\n",
       "      <td>10.00</td>\n",
       "      <td>-0.02</td>\n",
       "    </tr>\n",
       "    <tr>\n",
       "      <th>[99]</th>\n",
       "      <td>2.84</td>\n",
       "      <td>2.83</td>\n",
       "      <td>0.01</td>\n",
       "    </tr>\n",
       "  </tbody>\n",
       "</table>\n",
       "</div>"
      ],
      "text/plain": [
       "                     all_pct_genre  samp_pct_genre  delta_pct\n",
       "genre_id                                                     \n",
       "[16, 10751]                   1.20            1.21      -0.01\n",
       "[16, 28, 10751]               1.33            1.31       0.02\n",
       "[16, 28, 35, 10751]           1.44            1.41       0.03\n",
       "[16, 28]                      1.46            1.41       0.05\n",
       "[18, 10749]                   4.75            4.75       0.00\n",
       "[18, 28, 53]                  5.79            5.76       0.03\n",
       "[18, 28]                      3.90            3.84       0.06\n",
       "[18, 35, 10749]               4.37            4.34       0.03\n",
       "[18, 35]                      6.14            6.16      -0.02\n",
       "[18, 53]                     10.68           10.71      -0.03\n",
       "[18]                         12.14           12.22      -0.08\n",
       "[28, 35, 53]                  2.27            2.22       0.05\n",
       "[28, 35]                      2.26            2.22       0.04\n",
       "[28, 53]                      9.81            9.90      -0.09\n",
       "[28]                          3.91            3.94      -0.03\n",
       "[35, 10749]                   3.47            3.43       0.04\n",
       "[35, 53]                      2.27            2.22       0.05\n",
       "[35]                         10.00           10.10      -0.10\n",
       "[53]                          9.98           10.00      -0.02\n",
       "[99]                          2.84            2.83       0.01"
      ]
     },
     "execution_count": 774,
     "metadata": {},
     "output_type": "execute_result"
    }
   ],
   "source": [
    "x = class_weights_all.iloc[:, 0]\n",
    "y = class_weights_sample.iloc[:, 0]\n",
    "z = pd.DataFrame([x.round(4)*100, y.round(4)*100, x.round(4)*100 - y.round(4)*100])\n",
    "z = z.transpose()\n",
    "z.columns = ['all_pct_genre', 'samp_pct_genre', 'delta_pct']\n",
    "z"
   ]
  },
  {
   "cell_type": "markdown",
   "metadata": {},
   "source": [
    "### Add IMDb Genres to Y-Labels"
   ]
  },
  {
   "cell_type": "code",
   "execution_count": 318,
   "metadata": {
    "collapsed": true
   },
   "outputs": [],
   "source": [
    "def getMoviesByTMDBId(tmdb_id):\n",
    "    movie = tmdb.Movies(tmdb_id)\n",
    "    return movie.info()"
   ]
  },
  {
   "cell_type": "code",
   "execution_count": 320,
   "metadata": {
    "collapsed": false
   },
   "outputs": [],
   "source": [
    "def getIMDbgenres(tmdb_id):\n",
    "    imdb_id = getMoviesByTMDBId(tmdb_id)['imdb_id'][2:]\n",
    "    imdb_genres = imdb.get_movie(imdb_id)['genres']\n",
    "    return imdb_genres"
   ]
  }
 ],
 "metadata": {
  "anaconda-cloud": {},
  "kernelspec": {
   "display_name": "Python 2",
   "language": "python",
   "name": "python2"
  },
  "language_info": {
   "codemirror_mode": {
    "name": "ipython",
    "version": 2
   },
   "file_extension": ".py",
   "mimetype": "text/x-python",
   "name": "python",
   "nbconvert_exporter": "python",
   "pygments_lexer": "ipython2",
   "version": "2.7.13"
  }
 },
 "nbformat": 4,
 "nbformat_minor": 0
}
