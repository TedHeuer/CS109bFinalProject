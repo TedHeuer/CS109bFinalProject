{
 "cells": [
  {
   "cell_type": "markdown",
   "metadata": {},
   "source": [
    "# MLP Processing of Movie Overviews"
   ]
  },
  {
   "cell_type": "markdown",
   "metadata": {},
   "source": [
    "*The following code was reused and extended from the work at: * https://github.com/fchollet/keras/blob/master/examples/reuters_mlp.py"
   ]
  },
  {
   "cell_type": "markdown",
   "metadata": {},
   "source": [
    "### Import the necessary libraries."
   ]
  },
  {
   "cell_type": "code",
   "execution_count": 1,
   "metadata": {
    "collapsed": false
   },
   "outputs": [
    {
     "name": "stderr",
     "output_type": "stream",
     "text": [
      "Using TensorFlow backend.\n"
     ]
    }
   ],
   "source": [
    "from __future__ import print_function\n",
    " \n",
    "import pickle\n",
    "import matplotlib\n",
    "%matplotlib inline\n",
    "import matplotlib.pyplot as plt\n",
    "import numpy as np\n",
    "import pandas as pd\n",
    "\n",
    "import keras\n",
    "from keras.datasets import reuters\n",
    "from keras.models import Sequential\n",
    "from keras.layers import Dense, Dropout, Activation\n",
    "from keras.preprocessing.text import Tokenizer\n",
    "from keras.preprocessing import text"
   ]
  },
  {
   "cell_type": "markdown",
   "metadata": {},
   "source": [
    "### Configure settings."
   ]
  },
  {
   "cell_type": "code",
   "execution_count": 2,
   "metadata": {
    "collapsed": true
   },
   "outputs": [],
   "source": [
    "max_words = 10000\n",
    "batch_size = 32\n",
    "epochs = 50"
   ]
  },
  {
   "cell_type": "markdown",
   "metadata": {},
   "source": [
    "### Load the prepared datasets."
   ]
  },
  {
   "cell_type": "code",
   "execution_count": 3,
   "metadata": {
    "collapsed": false
   },
   "outputs": [
    {
     "name": "stdout",
     "output_type": "stream",
     "text": [
      "Loading data...\n",
      "5120 train sequences\n",
      "1704 test sequences\n",
      "8 classes.\n",
      "Data loaded.\n"
     ]
    }
   ],
   "source": [
    "print('Loading data...')\n",
    "\n",
    "with open('full_dataset.pickle', 'rb') as handle:\n",
    "    dataset = pickle.load(handle)\n",
    "    \n",
    "print(len(dataset['train_x']), 'train sequences')\n",
    "print(len(dataset['test_x']), 'test sequences')\n",
    " \n",
    "num_classes = len(dataset['labels'])\n",
    "print(num_classes, 'classes.')\n",
    "\n",
    "print('Data loaded.')"
   ]
  },
  {
   "cell_type": "markdown",
   "metadata": {},
   "source": [
    "### Tokenize the text for use."
   ]
  },
  {
   "cell_type": "code",
   "execution_count": 4,
   "metadata": {
    "collapsed": false
   },
   "outputs": [],
   "source": [
    "tokenizer = text.Tokenizer(num_words=max_words, lower=True, split=\" \")\n",
    "full_corpus = dataset['full_data']['overview'].astype(str)\n",
    "tokenizer.fit_on_texts(full_corpus)"
   ]
  },
  {
   "cell_type": "code",
   "execution_count": 5,
   "metadata": {
    "collapsed": false
   },
   "outputs": [
    {
     "name": "stdout",
     "output_type": "stream",
     "text": [
      "(5120, 10000)\n",
      "(1704, 10000)\n"
     ]
    }
   ],
   "source": [
    "train_texts = dataset['train_x']['overview'].astype(str)\n",
    "test_texts = dataset['test_x']['overview'].astype(str)\n",
    "\n",
    "train_tfidf_matrix = tokenizer.texts_to_matrix(train_texts, mode='tfidf')\n",
    "train_binary_matrix = tokenizer.texts_to_matrix(train_texts, mode='binary')\n",
    "\n",
    "test_tfidf_matrix = tokenizer.texts_to_matrix(test_texts, mode='tfidf')\n",
    "test_binary_matrix = tokenizer.texts_to_matrix(test_texts, mode='binary')\n",
    "\n",
    "print(train_tfidf_matrix.shape)\n",
    "print(test_tfidf_matrix.shape)"
   ]
  },
  {
   "cell_type": "markdown",
   "metadata": {},
   "source": [
    "### Build a MLP Neural Net for Multilabel Text Classification"
   ]
  },
  {
   "cell_type": "code",
   "execution_count": 6,
   "metadata": {
    "collapsed": false
   },
   "outputs": [
    {
     "name": "stdout",
     "output_type": "stream",
     "text": [
      "Building model...\n"
     ]
    }
   ],
   "source": [
    "print('Building model...')\n",
    "model = Sequential()\n",
    "model.add(Dense(512, input_shape=(max_words,)))\n",
    "model.add(Activation('relu'))\n",
    "model.add(Dropout(0.5))\n",
    "model.add(Dense(num_classes))\n",
    "model.add(Activation('softmax'))\n",
    " \n",
    "model.compile(loss='categorical_crossentropy',\n",
    "              optimizer='adam',\n",
    "              metrics=['accuracy'])"
   ]
  },
  {
   "cell_type": "markdown",
   "metadata": {},
   "source": [
    "### Fit the Model."
   ]
  },
  {
   "cell_type": "code",
   "execution_count": 7,
   "metadata": {
    "collapsed": false
   },
   "outputs": [
    {
     "name": "stdout",
     "output_type": "stream",
     "text": [
      "Train on 4096 samples, validate on 1024 samples\n",
      "Epoch 1/50\n",
      "4096/4096 [==============================] - 13s - loss: 2.8835 - acc: 0.4126 - val_loss: 2.6230 - val_acc: 0.5195\n",
      "Epoch 2/50\n",
      "4096/4096 [==============================] - 13s - loss: 2.1001 - acc: 0.6157 - val_loss: 2.4770 - val_acc: 0.5059\n",
      "Epoch 3/50\n",
      "4096/4096 [==============================] - 13s - loss: 1.7317 - acc: 0.6580 - val_loss: 2.5888 - val_acc: 0.4834\n",
      "Epoch 4/50\n",
      "4096/4096 [==============================] - 13s - loss: 1.6044 - acc: 0.6594 - val_loss: 2.5542 - val_acc: 0.5176\n",
      "Epoch 5/50\n",
      "4096/4096 [==============================] - 13s - loss: 1.5430 - acc: 0.6626 - val_loss: 2.5828 - val_acc: 0.5137\n",
      "Epoch 6/50\n",
      "4096/4096 [==============================] - 13s - loss: 1.4881 - acc: 0.6663 - val_loss: 2.6256 - val_acc: 0.5088\n",
      "Epoch 7/50\n",
      "4096/4096 [==============================] - 13s - loss: 1.4485 - acc: 0.6655 - val_loss: 2.6731 - val_acc: 0.5215\n",
      "Epoch 8/50\n",
      "4096/4096 [==============================] - 13s - loss: 1.4305 - acc: 0.6650 - val_loss: 2.6444 - val_acc: 0.5039\n",
      "Epoch 9/50\n",
      "4096/4096 [==============================] - 13s - loss: 1.4161 - acc: 0.6592 - val_loss: 2.6668 - val_acc: 0.5322\n",
      "Epoch 10/50\n",
      "4096/4096 [==============================] - 13s - loss: 1.3907 - acc: 0.6648 - val_loss: 2.7301 - val_acc: 0.5068\n",
      "Epoch 11/50\n",
      "4096/4096 [==============================] - 13s - loss: 1.3861 - acc: 0.6653 - val_loss: 2.7351 - val_acc: 0.5146\n",
      "Epoch 12/50\n",
      "4096/4096 [==============================] - 13s - loss: 1.3728 - acc: 0.6626 - val_loss: 2.7571 - val_acc: 0.5107\n",
      "Epoch 13/50\n",
      "4096/4096 [==============================] - 13s - loss: 1.3651 - acc: 0.6765 - val_loss: 2.7215 - val_acc: 0.5137\n",
      "Epoch 14/50\n",
      "4096/4096 [==============================] - 13s - loss: 1.3494 - acc: 0.6714 - val_loss: 2.7551 - val_acc: 0.5088\n",
      "Epoch 15/50\n",
      "4096/4096 [==============================] - 13s - loss: 1.3447 - acc: 0.6611 - val_loss: 2.7491 - val_acc: 0.5273\n",
      "Epoch 16/50\n",
      "4096/4096 [==============================] - 13s - loss: 1.3387 - acc: 0.6653 - val_loss: 2.7406 - val_acc: 0.5156\n",
      "Epoch 17/50\n",
      "4096/4096 [==============================] - 13s - loss: 1.3341 - acc: 0.6743 - val_loss: 2.7687 - val_acc: 0.5186\n",
      "Epoch 18/50\n",
      "4096/4096 [==============================] - 13s - loss: 1.3262 - acc: 0.6633 - val_loss: 2.7843 - val_acc: 0.5049\n",
      "Epoch 19/50\n",
      "4096/4096 [==============================] - 13s - loss: 1.3239 - acc: 0.6606 - val_loss: 2.7942 - val_acc: 0.5186\n",
      "Epoch 20/50\n",
      "4096/4096 [==============================] - 13s - loss: 1.3205 - acc: 0.6660 - val_loss: 2.8309 - val_acc: 0.5020\n",
      "Epoch 21/50\n",
      "4096/4096 [==============================] - 13s - loss: 1.3051 - acc: 0.6753 - val_loss: 2.8310 - val_acc: 0.5244\n",
      "Epoch 22/50\n",
      "4096/4096 [==============================] - 13s - loss: 1.3055 - acc: 0.6628 - val_loss: 2.8236 - val_acc: 0.5098\n",
      "Epoch 23/50\n",
      "4096/4096 [==============================] - 13s - loss: 1.2972 - acc: 0.6594 - val_loss: 2.8137 - val_acc: 0.5137\n",
      "Epoch 24/50\n",
      "4096/4096 [==============================] - 13s - loss: 1.2951 - acc: 0.6702 - val_loss: 2.8698 - val_acc: 0.5010\n",
      "Epoch 25/50\n",
      "4096/4096 [==============================] - 13s - loss: 1.2830 - acc: 0.6697 - val_loss: 2.8859 - val_acc: 0.5059\n",
      "Epoch 26/50\n",
      "4096/4096 [==============================] - 13s - loss: 1.2799 - acc: 0.6782 - val_loss: 2.8918 - val_acc: 0.5146\n",
      "Epoch 27/50\n",
      "4096/4096 [==============================] - 13s - loss: 1.2823 - acc: 0.6646 - val_loss: 2.9114 - val_acc: 0.5156\n",
      "Epoch 28/50\n",
      "4096/4096 [==============================] - 13s - loss: 1.2776 - acc: 0.6748 - val_loss: 2.9001 - val_acc: 0.5107\n",
      "Epoch 29/50\n",
      "4096/4096 [==============================] - 13s - loss: 1.2754 - acc: 0.6733 - val_loss: 2.9221 - val_acc: 0.5098\n",
      "Epoch 30/50\n",
      "4096/4096 [==============================] - 13s - loss: 1.2705 - acc: 0.6714 - val_loss: 2.9346 - val_acc: 0.5176\n",
      "Epoch 31/50\n",
      "4096/4096 [==============================] - 13s - loss: 1.2712 - acc: 0.6707 - val_loss: 2.9471 - val_acc: 0.5127\n",
      "Epoch 32/50\n",
      "4096/4096 [==============================] - 13s - loss: 1.2655 - acc: 0.6831 - val_loss: 2.9543 - val_acc: 0.4912\n",
      "Epoch 33/50\n",
      "4096/4096 [==============================] - 13s - loss: 1.2633 - acc: 0.6685 - val_loss: 2.9459 - val_acc: 0.5107\n",
      "Epoch 34/50\n",
      "4096/4096 [==============================] - 13s - loss: 1.2585 - acc: 0.6599 - val_loss: 2.9824 - val_acc: 0.5078\n",
      "Epoch 35/50\n",
      "4096/4096 [==============================] - 13s - loss: 1.2584 - acc: 0.6670 - val_loss: 2.9678 - val_acc: 0.4971\n",
      "Epoch 36/50\n",
      "4096/4096 [==============================] - 13s - loss: 1.2546 - acc: 0.6714 - val_loss: 2.9654 - val_acc: 0.5195\n",
      "Epoch 37/50\n",
      "4096/4096 [==============================] - 13s - loss: 1.2510 - acc: 0.6677 - val_loss: 3.0340 - val_acc: 0.5020\n",
      "Epoch 38/50\n",
      "4096/4096 [==============================] - 13s - loss: 1.2437 - acc: 0.6685 - val_loss: 3.0767 - val_acc: 0.5391\n",
      "Epoch 39/50\n",
      "4096/4096 [==============================] - 13s - loss: 1.2458 - acc: 0.6658 - val_loss: 3.0745 - val_acc: 0.5059\n",
      "Epoch 40/50\n",
      "4096/4096 [==============================] - 13s - loss: 1.2453 - acc: 0.6667 - val_loss: 3.0420 - val_acc: 0.5195\n",
      "Epoch 41/50\n",
      "4096/4096 [==============================] - 13s - loss: 1.2421 - acc: 0.6733 - val_loss: 3.0494 - val_acc: 0.5156\n",
      "Epoch 42/50\n",
      "4096/4096 [==============================] - 13s - loss: 1.2392 - acc: 0.6694 - val_loss: 3.0878 - val_acc: 0.5010\n",
      "Epoch 43/50\n",
      "4096/4096 [==============================] - 13s - loss: 1.2405 - acc: 0.6785 - val_loss: 3.0760 - val_acc: 0.5049\n",
      "Epoch 44/50\n",
      "4096/4096 [==============================] - 13s - loss: 1.2349 - acc: 0.6633 - val_loss: 3.1397 - val_acc: 0.5176\n",
      "Epoch 45/50\n",
      "4096/4096 [==============================] - 13s - loss: 1.2353 - acc: 0.6719 - val_loss: 3.1134 - val_acc: 0.5039\n",
      "Epoch 46/50\n",
      "4096/4096 [==============================] - 13s - loss: 1.2312 - acc: 0.6694 - val_loss: 3.1150 - val_acc: 0.5293\n",
      "Epoch 47/50\n",
      "4096/4096 [==============================] - 13s - loss: 1.2316 - acc: 0.6616 - val_loss: 3.1411 - val_acc: 0.5127\n",
      "Epoch 48/50\n",
      "4096/4096 [==============================] - 13s - loss: 1.2270 - acc: 0.6721 - val_loss: 3.1349 - val_acc: 0.5107\n",
      "Epoch 49/50\n",
      "4096/4096 [==============================] - 13s - loss: 1.2252 - acc: 0.6633 - val_loss: 3.1684 - val_acc: 0.4951\n",
      "Epoch 50/50\n",
      "4096/4096 [==============================] - 13s - loss: 1.2230 - acc: 0.6763 - val_loss: 3.1603 - val_acc: 0.5029\n"
     ]
    }
   ],
   "source": [
    "history = model.fit(train_binary_matrix, dataset['train_y'],\n",
    "                    batch_size=batch_size,\n",
    "                    epochs=epochs,\n",
    "                    verbose=1,\n",
    "                    validation_split=0.2)"
   ]
  },
  {
   "cell_type": "code",
   "execution_count": 8,
   "metadata": {
    "collapsed": false
   },
   "outputs": [
    {
     "name": "stdout",
     "output_type": "stream",
     "text": [
      "1600/1704 [===========================>..] - ETA: 0sTest score: 3.26033946494\n",
      "Test accuracy: 0.49882629108\n"
     ]
    }
   ],
   "source": [
    "score = model.evaluate(test_binary_matrix, dataset['test_y'],\n",
    "                       batch_size=batch_size, verbose=1)\n",
    "print('Test score:', score[0])\n",
    "print('Test accuracy:', score[1])"
   ]
  },
  {
   "cell_type": "code",
   "execution_count": 9,
   "metadata": {
    "collapsed": false
   },
   "outputs": [
    {
     "data": {
      "image/png": "[encoded data removed]",
      "text/plain": [
       "<matplotlib.figure.Figure at 0x195cdf1d0>"
      ]
     },
     "metadata": {},
     "output_type": "display_data"
    }
   ],
   "source": [
    "plt.plot(history.history['acc'], label=\"Train\")\n",
    "plt.axhline(y=score[1], color='r', label=\"Test\")\n",
    "plt.legend()\n",
    "plt.xlabel(\"epoch\")\n",
    "plt.ylabel(\"accuracy\")\n",
    "plt.title(\"MLP NN of Movie Overviews\");"
   ]
  },
  {
   "cell_type": "code",
   "execution_count": 10,
   "metadata": {
    "collapsed": false
   },
   "outputs": [
    {
     "name": "stdout",
     "output_type": "stream",
     "text": [
      "5120/5120 [==============================] - 1s     \n",
      "1600/1704 [===========================>..] - ETA: 0s"
     ]
    }
   ],
   "source": [
    "train_probabilities = model.predict_proba(train_binary_matrix)\n",
    "test_probabilities = model.predict_proba(test_binary_matrix)"
   ]
  },
  {
   "cell_type": "code",
   "execution_count": 11,
   "metadata": {
    "collapsed": true
   },
   "outputs": [],
   "source": [
    "dataset['MLP_Overview_Train_Probabilities'] = train_probabilities\n",
    "dataset['MLP_Overview_Test_Probabilities'] = test_probabilities"
   ]
  },
  {
   "cell_type": "code",
   "execution_count": 12,
   "metadata": {
    "collapsed": true
   },
   "outputs": [],
   "source": [
    "with open('full_dataset.pickle', 'wb') as handle:\n",
    "    pickle.dump(dataset, handle, protocol=pickle.HIGHEST_PROTOCOL)"
   ]
  }
 ],
 "metadata": {
  "kernelspec": {
   "display_name": "Python 2",
   "language": "python",
   "name": "python2"
  },
  "language_info": {
   "codemirror_mode": {
    "name": "ipython",
    "version": 2
   },
   "file_extension": ".py",
   "mimetype": "text/x-python",
   "name": "python",
   "nbconvert_exporter": "python",
   "pygments_lexer": "ipython2",
   "version": "2.7.12"
  }
 },
 "nbformat": 4,
 "nbformat_minor": 0
}
