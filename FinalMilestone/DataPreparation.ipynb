{
 "cells": [
  {
   "cell_type": "markdown",
   "metadata": {},
   "source": [
    "# Data Preparation"
   ]
  },
  {
   "cell_type": "markdown",
   "metadata": {},
   "source": [
    "### Import the necessary libraries."
   ]
  },
  {
   "cell_type": "code",
   "execution_count": 1,
   "metadata": {
    "collapsed": false
   },
   "outputs": [
    {
     "name": "stderr",
     "output_type": "stream",
     "text": [
      "Using TensorFlow backend.\n"
     ]
    }
   ],
   "source": [
    "from __future__ import print_function\n",
    "import pandas as pd\n",
    "from scipy import misc\n",
    "from keras.preprocessing.image import img_to_array"
   ]
  },
  {
   "cell_type": "markdown",
   "metadata": {},
   "source": [
    "### Configure settings."
   ]
  },
  {
   "cell_type": "code",
   "execution_count": 2,
   "metadata": {
    "collapsed": true
   },
   "outputs": [],
   "source": [
    "image_size = (138,92)\n",
    "image_size_code = 'w92'\n",
    "train_observations = 5000\n",
    "test_observations = 1000"
   ]
  },
  {
   "cell_type": "code",
   "execution_count": 3,
   "metadata": {
    "collapsed": false
   },
   "outputs": [],
   "source": [
    "# Read in the input data sets.\n",
    "movie_dataset = pd.read_csv('y_labels_multilabel_overview.csv')"
   ]
  },
  {
   "cell_type": "code",
   "execution_count": 4,
   "metadata": {
    "collapsed": false
   },
   "outputs": [
    {
     "data": {
      "text/html": [
       "<div>\n",
       "<table border=\"1\" class=\"dataframe\">\n",
       "  <thead>\n",
       "    <tr style=\"text-align: right;\">\n",
       "      <th></th>\n",
       "      <th>Unnamed: 0</th>\n",
       "      <th>movie_id</th>\n",
       "      <th>genre_id</th>\n",
       "      <th>genre_name</th>\n",
       "      <th>Overview</th>\n",
       "    </tr>\n",
       "  </thead>\n",
       "  <tbody>\n",
       "    <tr>\n",
       "      <th>0</th>\n",
       "      <td>0</td>\n",
       "      <td>297761</td>\n",
       "      <td>[28, 53]</td>\n",
       "      <td>[u'Action', u'Thriller']</td>\n",
       "      <td>From DC Comics comes the Suicide Squad, an ant...</td>\n",
       "    </tr>\n",
       "    <tr>\n",
       "      <th>1</th>\n",
       "      <td>1</td>\n",
       "      <td>209112</td>\n",
       "      <td>[28]</td>\n",
       "      <td>[u'Action']</td>\n",
       "      <td>Fearing the actions of a god-like Super Hero l...</td>\n",
       "    </tr>\n",
       "    <tr>\n",
       "      <th>2</th>\n",
       "      <td>2</td>\n",
       "      <td>271110</td>\n",
       "      <td>[28]</td>\n",
       "      <td>[u'Action']</td>\n",
       "      <td>Following the events of Age of Ultron, the col...</td>\n",
       "    </tr>\n",
       "    <tr>\n",
       "      <th>3</th>\n",
       "      <td>3</td>\n",
       "      <td>329865</td>\n",
       "      <td>[18, 28, 53]</td>\n",
       "      <td>[u'Drama', u'Action', u'Thriller']</td>\n",
       "      <td>Taking place after alien crafts land around th...</td>\n",
       "    </tr>\n",
       "    <tr>\n",
       "      <th>4</th>\n",
       "      <td>4</td>\n",
       "      <td>284052</td>\n",
       "      <td>[28]</td>\n",
       "      <td>[u'Action']</td>\n",
       "      <td>After his career is destroyed, a brilliant but...</td>\n",
       "    </tr>\n",
       "  </tbody>\n",
       "</table>\n",
       "</div>"
      ],
      "text/plain": [
       "   Unnamed: 0  movie_id      genre_id                          genre_name  \\\n",
       "0           0    297761      [28, 53]            [u'Action', u'Thriller']   \n",
       "1           1    209112          [28]                         [u'Action']   \n",
       "2           2    271110          [28]                         [u'Action']   \n",
       "3           3    329865  [18, 28, 53]  [u'Drama', u'Action', u'Thriller']   \n",
       "4           4    284052          [28]                         [u'Action']   \n",
       "\n",
       "                                            Overview  \n",
       "0  From DC Comics comes the Suicide Squad, an ant...  \n",
       "1  Fearing the actions of a god-like Super Hero l...  \n",
       "2  Following the events of Age of Ultron, the col...  \n",
       "3  Taking place after alien crafts land around th...  \n",
       "4  After his career is destroyed, a brilliant but...  "
      ]
     },
     "execution_count": 4,
     "metadata": {},
     "output_type": "execute_result"
    }
   ],
   "source": [
    "movie_dataset.head()"
   ]
  },
  {
   "cell_type": "code",
   "execution_count": 5,
   "metadata": {
    "collapsed": true
   },
   "outputs": [],
   "source": [
    "def load_poster_data_multilabel(dataset, image_size, source_size = 'w92', verbose = False):\n",
    "    # Loads the poster image data at the requested size, the assigned genre, and the movie id.\n",
    "    #\n",
    "    y_labels = dataset\n",
    "        \n",
    "    image_path = './posters/' + source_size + '/'\n",
    "    posters = pd.DataFrame()\n",
    "    for movie in y_labels.iterrows():\n",
    "        row = movie[0]\n",
    "        movie_id = movie[1]['movie_id']\n",
    "        genre_ids = movie[1]['genre_id'].replace('[', '').replace(']','').split(',')\n",
    "        try:\n",
    "            image = misc.imread(image_path + str(movie_id) + '.jpg')\n",
    "            image_resize = img_to_array(misc.imresize(image, image_size))\n",
    "            if (image_resize.shape[2]==3):\n",
    "                posters = posters.append({'movie_id' : movie_id, \n",
    "                                          'genre_id' : genre_ids,\n",
    "                                          'genre_name' : movie[1]['genre_name'],\n",
    "                                          'overview' : movie[1]['Overview'],\n",
    "                                          'poster' : image_resize}, ignore_index = True)\n",
    "        except IOError:\n",
    "            if (verbose == True):\n",
    "                print('Unable to load poster for movie #', movie_id)\n",
    "    print('Loaded', posters.shape[0], 'posters.')\n",
    "    return posters"
   ]
  },
  {
   "cell_type": "code",
   "execution_count": 6,
   "metadata": {
    "collapsed": false
   },
   "outputs": [
    {
     "name": "stdout",
     "output_type": "stream",
     "text": [
      "Loaded 6824 posters.\n"
     ]
    }
   ],
   "source": [
    "poster_data = load_poster_data_multilabel(movie_dataset, image_size, image_size_code, False)"
   ]
  },
  {
   "cell_type": "code",
   "execution_count": 7,
   "metadata": {
    "collapsed": false
   },
   "outputs": [],
   "source": [
    "def convert_str(s):\n",
    "    return s.replace('[', '').replace(\"u\\'\", '').replace(']','').replace('\\'', '').split(\", \")\n",
    "poster_data['genre_name_list'] = poster_data['genre_name'].apply(lambda x: convert_str(x))"
   ]
  },
  {
   "cell_type": "code",
   "execution_count": 8,
   "metadata": {
    "collapsed": true
   },
   "outputs": [],
   "source": [
    "# Apply multilabel to the responses\n",
    "from sklearn.preprocessing import MultiLabelBinarizer\n",
    "mlb = MultiLabelBinarizer()\n",
    "genre_matrix = mlb.fit_transform(poster_data['genre_name_list'])\n",
    "classes = list(mlb.classes_)"
   ]
  },
  {
   "cell_type": "markdown",
   "metadata": {},
   "source": [
    "### Stratified sample the data into training and test datasets."
   ]
  },
  {
   "cell_type": "code",
   "execution_count": 18,
   "metadata": {
    "collapsed": false
   },
   "outputs": [],
   "source": [
    "from sklearn.cross_validation import train_test_split\n",
    "train_x, test_x, train_y, test_y = train_test_split(poster_data, genre_matrix, \n",
    "                                                    test_size = 0.25, \n",
    "                                                    stratify = poster_data['genre_name_list'].astype(str))"
   ]
  },
  {
   "cell_type": "code",
   "execution_count": 19,
   "metadata": {
    "collapsed": false
   },
   "outputs": [
    {
     "name": "stdout",
     "output_type": "stream",
     "text": [
      "(5120, 6)\n",
      "(5120, 8)\n",
      "(1704, 6)\n",
      "(1704, 8)\n"
     ]
    }
   ],
   "source": [
    "print(train_x.shape)\n",
    "print(train_y.shape)\n",
    "print(test_x.shape)\n",
    "print(test_y.shape)"
   ]
  },
  {
   "cell_type": "code",
   "execution_count": 20,
   "metadata": {
    "collapsed": false
   },
   "outputs": [],
   "source": [
    "dataset = { 'full_data' : poster_data,\n",
    "            'genre_matrix' : genre_matrix, \n",
    "            'labels' : classes,\n",
    "            'train_x' : train_x,\n",
    "            'train_y' : train_y,\n",
    "            'test_x' : test_x,\n",
    "            'test_y' : test_y }"
   ]
  },
  {
   "cell_type": "markdown",
   "metadata": {},
   "source": [
    "### Save the dataset for future use."
   ]
  },
  {
   "cell_type": "code",
   "execution_count": 21,
   "metadata": {
    "collapsed": false
   },
   "outputs": [],
   "source": [
    "import pickle\n",
    "with open('full_dataset.pickle', 'wb') as handle:\n",
    "    pickle.dump(dataset, handle, protocol=pickle.HIGHEST_PROTOCOL)"
   ]
  }
 ],
 "metadata": {
  "kernelspec": {
   "display_name": "Python 2",
   "language": "python",
   "name": "python2"
  },
  "language_info": {
   "codemirror_mode": {
    "name": "ipython",
    "version": 2
   },
   "file_extension": ".py",
   "mimetype": "text/x-python",
   "name": "python",
   "nbconvert_exporter": "python",
   "pygments_lexer": "ipython2",
   "version": "2.7.12"
  }
 },
 "nbformat": 4,
 "nbformat_minor": 0
}
